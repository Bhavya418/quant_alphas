{
  "nbformat": 4,
  "nbformat_minor": 0,
  "metadata": {
    "colab": {
      "provenance": [],
      "authorship_tag": "ABX9TyMYR/BjTiLDb89sLmtdUqPk",
      "include_colab_link": true
    },
    "kernelspec": {
      "name": "python3",
      "display_name": "Python 3"
    },
    "language_info": {
      "name": "python"
    }
  },
  "cells": [
    {
      "cell_type": "markdown",
      "metadata": {
        "id": "view-in-github",
        "colab_type": "text"
      },
      "source": [
        "<a href=\"https://colab.research.google.com/github/Bhavya418/quant_alphas/blob/main/Harami.ipynb\" target=\"_parent\"><img src=\"https://colab.research.google.com/assets/colab-badge.svg\" alt=\"Open In Colab\"/></a>"
      ]
    },
    {
      "cell_type": "code",
      "execution_count": 2,
      "metadata": {
        "colab": {
          "base_uri": "https://localhost:8080/"
        },
        "id": "WIQ4mUODemDM",
        "outputId": "bbf5f0b1-be0f-419d-a998-94fa737b65b9"
      },
      "outputs": [
        {
          "output_type": "stream",
          "name": "stdout",
          "text": [
            "Requirement already satisfied: plotly in /usr/local/lib/python3.11/dist-packages (5.24.1)\n",
            "Requirement already satisfied: tenacity>=6.2.0 in /usr/local/lib/python3.11/dist-packages (from plotly) (9.1.2)\n",
            "Requirement already satisfied: packaging in /usr/local/lib/python3.11/dist-packages (from plotly) (24.2)\n",
            "Collecting mplfinance\n",
            "  Downloading mplfinance-0.12.10b0-py3-none-any.whl.metadata (19 kB)\n",
            "Requirement already satisfied: matplotlib in /usr/local/lib/python3.11/dist-packages (from mplfinance) (3.10.0)\n",
            "Requirement already satisfied: pandas in /usr/local/lib/python3.11/dist-packages (from mplfinance) (2.2.2)\n",
            "Requirement already satisfied: contourpy>=1.0.1 in /usr/local/lib/python3.11/dist-packages (from matplotlib->mplfinance) (1.3.2)\n",
            "Requirement already satisfied: cycler>=0.10 in /usr/local/lib/python3.11/dist-packages (from matplotlib->mplfinance) (0.12.1)\n",
            "Requirement already satisfied: fonttools>=4.22.0 in /usr/local/lib/python3.11/dist-packages (from matplotlib->mplfinance) (4.57.0)\n",
            "Requirement already satisfied: kiwisolver>=1.3.1 in /usr/local/lib/python3.11/dist-packages (from matplotlib->mplfinance) (1.4.8)\n",
            "Requirement already satisfied: numpy>=1.23 in /usr/local/lib/python3.11/dist-packages (from matplotlib->mplfinance) (2.0.2)\n",
            "Requirement already satisfied: packaging>=20.0 in /usr/local/lib/python3.11/dist-packages (from matplotlib->mplfinance) (24.2)\n",
            "Requirement already satisfied: pillow>=8 in /usr/local/lib/python3.11/dist-packages (from matplotlib->mplfinance) (11.1.0)\n",
            "Requirement already satisfied: pyparsing>=2.3.1 in /usr/local/lib/python3.11/dist-packages (from matplotlib->mplfinance) (3.2.3)\n",
            "Requirement already satisfied: python-dateutil>=2.7 in /usr/local/lib/python3.11/dist-packages (from matplotlib->mplfinance) (2.8.2)\n",
            "Requirement already satisfied: pytz>=2020.1 in /usr/local/lib/python3.11/dist-packages (from pandas->mplfinance) (2025.2)\n",
            "Requirement already satisfied: tzdata>=2022.7 in /usr/local/lib/python3.11/dist-packages (from pandas->mplfinance) (2025.2)\n",
            "Requirement already satisfied: six>=1.5 in /usr/local/lib/python3.11/dist-packages (from python-dateutil>=2.7->matplotlib->mplfinance) (1.17.0)\n",
            "Downloading mplfinance-0.12.10b0-py3-none-any.whl (75 kB)\n",
            "\u001b[2K   \u001b[90m━━━━━━━━━━━━━━━━━━━━━━━━━━━━━━━━━━━━━━━━\u001b[0m \u001b[32m75.0/75.0 kB\u001b[0m \u001b[31m2.1 MB/s\u001b[0m eta \u001b[36m0:00:00\u001b[0m\n",
            "\u001b[?25hInstalling collected packages: mplfinance\n",
            "Successfully installed mplfinance-0.12.10b0\n"
          ]
        }
      ],
      "source": [
        "!pip install plotly\n",
        "!pip install mplfinance"
      ]
    },
    {
      "cell_type": "code",
      "source": [
        "import pandas as pd\n",
        "import mplfinance as mpf\n",
        "import matplotlib.pyplot as plt\n",
        "import requests\n",
        "import plotly.graph_objects as go\n",
        "from datetime import datetime"
      ],
      "metadata": {
        "id": "GM_nHT4LM0_v"
      },
      "execution_count": 3,
      "outputs": []
    },
    {
      "cell_type": "code",
      "source": [
        "def fetch_daily_ohlc(symbol, apikey):\n",
        "    url = f\"https://www.alphavantage.co/query?function=TIME_SERIES_DAILY&symbol={symbol}&outputsize=compact&apikey={apikey}\"\n",
        "    r = requests.get(url)\n",
        "    return r.json()"
      ],
      "metadata": {
        "id": "98ks8PeBM652"
      },
      "execution_count": 4,
      "outputs": []
    },
    {
      "cell_type": "code",
      "source": [
        "apikey = \"SHEYWPL1ZYCDZ17D\"\n",
        "symbol = \"RPOWER.BSE\"\n",
        "data = fetch_daily_ohlc(symbol, apikey)\n",
        "print(data)"
      ],
      "metadata": {
        "colab": {
          "base_uri": "https://localhost:8080/"
        },
        "id": "b8WS53_8M_Sk",
        "outputId": "088b8fe8-d017-4b32-fd70-aa6570174d04"
      },
      "execution_count": 49,
      "outputs": [
        {
          "output_type": "stream",
          "name": "stdout",
          "text": [
            "{'Meta Data': {'1. Information': 'Daily Prices (open, high, low, close) and Volumes', '2. Symbol': 'RPOWER.BSE', '3. Last Refreshed': '2025-04-23', '4. Output Size': 'Compact', '5. Time Zone': 'US/Eastern'}, 'Time Series (Daily)': {'2025-04-23': {'1. open': '43.8900', '2. high': '44.1800', '3. low': '42.3200', '4. close': '43.5500', '5. volume': '3519503'}, '2025-04-22': {'1. open': '44.2600', '2. high': '44.8900', '3. low': '43.2000', '4. close': '43.5400', '5. volume': '4283262'}, '2025-04-21': {'1. open': '42.2800', '2. high': '44.6500', '3. low': '42.0500', '4. close': '44.2100', '5. volume': '8797336'}, '2025-04-17': {'1. open': '41.9900', '2. high': '43.0000', '3. low': '41.6700', '4. close': '42.1400', '5. volume': '3834126'}, '2025-04-16': {'1. open': '41.8600', '2. high': '42.5500', '3. low': '41.4700', '4. close': '41.8100', '5. volume': '5141672'}, '2025-04-15': {'1. open': '40.0600', '2. high': '42.6000', '3. low': '40.0600', '4. close': '41.6300', '5. volume': '6385477'}, '2025-04-11': {'1. open': '40.6800', '2. high': '40.6800', '3. low': '39.2300', '4. close': '40.0400', '5. volume': '5593901'}, '2025-04-09': {'1. open': '39.7400', '2. high': '40.4200', '3. low': '38.7000', '4. close': '39.0300', '5. volume': '3246841'}, '2025-04-08': {'1. open': '40.7100', '2. high': '41.0900', '3. low': '39.3700', '4. close': '39.8400', '5. volume': '4126886'}, '2025-04-07': {'1. open': '34.5600', '2. high': '39.5000', '3. low': '34.5600', '4. close': '39.0400', '5. volume': '8982611'}, '2025-04-04': {'1. open': '43.0300', '2. high': '43.4300', '3. low': '41.1200', '4. close': '41.3900', '5. volume': '4964602'}, '2025-04-03': {'1. open': '41.7800', '2. high': '44.4400', '3. low': '41.7800', '4. close': '43.1600', '5. volume': '8525938'}, '2025-04-02': {'1. open': '41.8900', '2. high': '42.7400', '3. low': '41.0700', '4. close': '42.3300', '5. volume': '3201024'}, '2025-04-01': {'1. open': '41.9000', '2. high': '43.3200', '3. low': '41.3900', '4. close': '41.8900', '5. volume': '6348756'}, '2025-03-28': {'1. open': '43.0200', '2. high': '44.7500', '3. low': '42.4100', '4. close': '42.9900', '5. volume': '9874334'}, '2025-03-27': {'1. open': '39.4400', '2. high': '43.6000', '3. low': '38.7200', '4. close': '42.8800', '5. volume': '10999270'}, '2025-03-26': {'1. open': '37.1400', '2. high': '41.4000', '3. low': '36.9200', '4. close': '39.4800', '5. volume': '9460384'}, '2025-03-25': {'1. open': '38.7400', '2. high': '38.7400', '3. low': '36.7400', '4. close': '37.2300', '5. volume': '2268507'}, '2025-03-24': {'1. open': '38.2700', '2. high': '38.9200', '3. low': '37.8100', '4. close': '38.2000', '5. volume': '2110552'}, '2025-03-21': {'1. open': '36.4900', '2. high': '38.1000', '3. low': '36.4700', '4. close': '37.8000', '5. volume': '4857918'}, '2025-03-20': {'1. open': '38.1900', '2. high': '38.3200', '3. low': '36.3000', '4. close': '36.4600', '5. volume': '4982024'}, '2025-03-19': {'1. open': '35.1500', '2. high': '38.3500', '3. low': '35.0500', '4. close': '37.7300', '5. volume': '7484911'}, '2025-03-18': {'1. open': '33.1100', '2. high': '34.9500', '3. low': '33.1100', '4. close': '34.7900', '5. volume': '5815165'}, '2025-03-17': {'1. open': '33.8100', '2. high': '33.9500', '3. low': '32.8500', '4. close': '33.0300', '5. volume': '3695079'}, '2025-03-13': {'1. open': '34.2500', '2. high': '34.6500', '3. low': '33.3300', '4. close': '33.4000', '5. volume': '4158380'}, '2025-03-12': {'1. open': '34.3700', '2. high': '34.8800', '3. low': '33.3000', '4. close': '33.7000', '5. volume': '3283437'}, '2025-03-11': {'1. open': '34.0500', '2. high': '34.3500', '3. low': '33.3600', '4. close': '34.0100', '5. volume': '3621129'}, '2025-03-10': {'1. open': '36.3700', '2. high': '36.7300', '3. low': '34.2600', '4. close': '34.4700', '5. volume': '3581894'}, '2025-03-07': {'1. open': '35.3000', '2. high': '36.3500', '3. low': '34.9500', '4. close': '36.0300', '5. volume': '5477962'}, '2025-03-06': {'1. open': '35.1900', '2. high': '36.1000', '3. low': '34.4500', '4. close': '35.1900', '5. volume': '3581660'}, '2025-03-05': {'1. open': '33.2800', '2. high': '34.8500', '3. low': '33.2700', '4. close': '34.6300', '5. volume': '6551049'}, '2025-03-04': {'1. open': '32.2400', '2. high': '33.9000', '3. low': '32.0100', '4. close': '33.0900', '5. volume': '3160627'}, '2025-03-03': {'1. open': '33.4800', '2. high': '34.4800', '3. low': '31.3000', '4. close': '32.9100', '5. volume': '9109450'}, '2025-02-28': {'1. open': '34.3500', '2. high': '34.7700', '3. low': '33.0300', '4. close': '33.3000', '5. volume': '10760850'}, '2025-02-27': {'1. open': '36.6600', '2. high': '36.9400', '3. low': '34.4200', '4. close': '34.7700', '5. volume': '2504228'}, '2025-02-25': {'1. open': '37.0700', '2. high': '37.5000', '3. low': '36.0000', '4. close': '36.4600', '5. volume': '3618410'}, '2025-02-24': {'1. open': '37.5000', '2. high': '37.5200', '3. low': '36.6600', '4. close': '36.8000', '5. volume': '3862133'}, '2025-02-21': {'1. open': '38.0000', '2. high': '39.1500', '3. low': '37.5100', '4. close': '37.7100', '5. volume': '3285273'}, '2025-02-20': {'1. open': '37.9800', '2. high': '38.6600', '3. low': '37.5000', '4. close': '38.1900', '5. volume': '1769305'}, '2025-02-19': {'1. open': '36.3000', '2. high': '38.3800', '3. low': '36.0000', '4. close': '37.9400', '5. volume': '7952542'}, '2025-02-18': {'1. open': '37.2900', '2. high': '37.4500', '3. low': '36.1000', '4. close': '36.8000', '5. volume': '3153737'}, '2025-02-17': {'1. open': '37.2600', '2. high': '37.8800', '3. low': '35.9100', '4. close': '36.9700', '5. volume': '5532230'}, '2025-02-14': {'1. open': '39.5500', '2. high': '39.7600', '3. low': '36.7000', '4. close': '37.2300', '5. volume': '6793158'}, '2025-02-13': {'1. open': '39.5500', '2. high': '40.7800', '3. low': '39.1000', '4. close': '39.5500', '5. volume': '1790912'}, '2025-02-12': {'1. open': '39.0800', '2. high': '40.2600', '3. low': '37.1000', '4. close': '39.4200', '5. volume': '5835175'}, '2025-02-11': {'1. open': '40.7900', '2. high': '41.0300', '3. low': '38.6500', '4. close': '39.0900', '5. volume': '5531955'}, '2025-02-10': {'1. open': '42.4500', '2. high': '42.5800', '3. low': '39.8100', '4. close': '40.9100', '5. volume': '3445617'}, '2025-02-07': {'1. open': '42.6500', '2. high': '43.3900', '3. low': '41.5000', '4. close': '41.8200', '5. volume': '7896905'}, '2025-02-06': {'1. open': '41.3800', '2. high': '43.9500', '3. low': '41.0000', '4. close': '42.3900', '5. volume': '8608269'}, '2025-02-05': {'1. open': '39.9500', '2. high': '40.9000', '3. low': '39.5100', '4. close': '39.8900', '5. volume': '3365149'}, '2025-02-04': {'1. open': '38.4800', '2. high': '39.9100', '3. low': '38.3100', '4. close': '39.9100', '5. volume': '4992539'}, '2025-02-03': {'1. open': '38.4600', '2. high': '38.8100', '3. low': '37.6500', '4. close': '38.0100', '5. volume': '1096132'}, '2025-02-01': {'1. open': '40.3800', '2. high': '40.5000', '3. low': '38.5100', '4. close': '39.0900', '5. volume': '2158816'}, '2025-01-31': {'1. open': '38.7000', '2. high': '40.4000', '3. low': '38.5900', '4. close': '40.0600', '5. volume': '2841815'}, '2025-01-30': {'1. open': '38.7100', '2. high': '39.7000', '3. low': '38.2400', '4. close': '38.6900', '5. volume': '1615693'}, '2025-01-29': {'1. open': '37.5000', '2. high': '38.6600', '3. low': '37.5000', '4. close': '38.6000', '5. volume': '1600602'}, '2025-01-28': {'1. open': '36.7900', '2. high': '38.1800', '3. low': '35.1500', '4. close': '36.8200', '5. volume': '4196566'}, '2025-01-27': {'1. open': '38.3300', '2. high': '38.4000', '3. low': '36.6200', '4. close': '36.7200', '5. volume': '3944498'}, '2025-01-24': {'1. open': '39.5000', '2. high': '40.0000', '3. low': '38.3600', '4. close': '38.5400', '5. volume': '1955829'}, '2025-01-23': {'1. open': '40.1700', '2. high': '40.5500', '3. low': '39.3100', '4. close': '39.6800', '5. volume': '2345905'}, '2025-01-22': {'1. open': '40.5000', '2. high': '40.7400', '3. low': '38.5500', '4. close': '39.4600', '5. volume': '3685673'}, '2025-01-21': {'1. open': '41.3000', '2. high': '41.6000', '3. low': '39.8600', '4. close': '40.1600', '5. volume': '2766092'}, '2025-01-20': {'1. open': '42.4500', '2. high': '42.7500', '3. low': '40.5000', '4. close': '40.8300', '5. volume': '4227508'}, '2025-01-17': {'1. open': '41.4900', '2. high': '42.9400', '3. low': '41.0600', '4. close': '42.0700', '5. volume': '3172749'}, '2025-01-16': {'1. open': '40.0400', '2. high': '41.2100', '3. low': '40.0400', '4. close': '41.2100', '5. volume': '3806066'}, '2025-01-15': {'1. open': '38.9000', '2. high': '40.4400', '3. low': '38.4200', '4. close': '39.2500', '5. volume': '3297107'}, '2025-01-14': {'1. open': '37.0500', '2. high': '38.8900', '3. low': '36.5500', '4. close': '38.8900', '5. volume': '3663569'}, '2025-01-13': {'1. open': '38.3100', '2. high': '39.4900', '3. low': '37.0400', '4. close': '37.0400', '5. volume': '5236256'}, '2025-01-10': {'1. open': '40.2000', '2. high': '40.9000', '3. low': '38.8100', '4. close': '38.9800', '5. volume': '5319569'}, '2025-01-09': {'1. open': '41.6600', '2. high': '42.3700', '3. low': '40.2700', '4. close': '40.2700', '5. volume': '3454305'}, '2025-01-08': {'1. open': '43.5700', '2. high': '43.5700', '3. low': '41.7500', '4. close': '42.3800', '5. volume': '1896948'}, '2025-01-07': {'1. open': '42.6400', '2. high': '44.2000', '3. low': '42.4500', '4. close': '43.3400', '5. volume': '2793767'}, '2025-01-06': {'1. open': '45.6600', '2. high': '46.0200', '3. low': '43.5000', '4. close': '43.5000', '5. volume': '4145925'}, '2025-01-03': {'1. open': '46.2200', '2. high': '47.1300', '3. low': '45.5400', '4. close': '45.7800', '5. volume': '3776553'}, '2025-01-02': {'1. open': '44.9000', '2. high': '46.7000', '3. low': '44.1700', '4. close': '46.2900', '5. volume': '3128947'}, '2025-01-01': {'1. open': '42.8900', '2. high': '44.6800', '3. low': '42.6000', '4. close': '44.6800', '5. volume': '3362867'}, '2024-12-31': {'1. open': '41.5600', '2. high': '42.8200', '3. low': '41.3200', '4. close': '42.5600', '5. volume': '2962924'}, '2024-12-30': {'1. open': '43.0000', '2. high': '43.7400', '3. low': '41.2600', '4. close': '41.8800', '5. volume': '1484312'}, '2024-12-27': {'1. open': '45.2600', '2. high': '45.4000', '3. low': '42.7000', '4. close': '43.1300', '5. volume': '2212481'}, '2024-12-26': {'1. open': '44.4000', '2. high': '45.4000', '3. low': '44.0000', '4. close': '44.1500', '5. volume': '1498516'}, '2024-12-24': {'1. open': '43.7500', '2. high': '45.2000', '3. low': '43.7100', '4. close': '44.4800', '5. volume': '532721'}, '2024-12-23': {'1. open': '45.0000', '2. high': '45.4400', '3. low': '43.5000', '4. close': '43.7700', '5. volume': '1764812'}, '2024-12-20': {'1. open': '47.4100', '2. high': '47.8800', '3. low': '44.6000', '4. close': '44.7900', '5. volume': '2646812'}, '2024-12-19': {'1. open': '43.7000', '2. high': '47.0500', '3. low': '43.0600', '4. close': '46.9200', '5. volume': '1732732'}, '2024-12-18': {'1. open': '46.8600', '2. high': '47.2900', '3. low': '44.5600', '4. close': '44.8100', '5. volume': '2762149'}, '2024-12-17': {'1. open': '46.7100', '2. high': '48.0000', '3. low': '45.5600', '4. close': '46.7300', '5. volume': '3106350'}, '2024-12-16': {'1. open': '47.5000', '2. high': '48.5000', '3. low': '46.6500', '4. close': '47.2300', '5. volume': '1469670'}, '2024-12-13': {'1. open': '46.7000', '2. high': '48.0000', '3. low': '44.5600', '4. close': '47.4400', '5. volume': '4187939'}, '2024-12-12': {'1. open': '46.2400', '2. high': '46.2400', '3. low': '44.9500', '4. close': '46.2400', '5. volume': '5319101'}, '2024-12-11': {'1. open': '45.4000', '2. high': '45.4000', '3. low': '43.7500', '4. close': '44.0400', '5. volume': '830812'}, '2024-12-10': {'1. open': '44.5300', '2. high': '45.3000', '3. low': '42.7000', '4. close': '44.6600', '5. volume': '1303899'}, '2024-12-09': {'1. open': '44.8200', '2. high': '46.0000', '3. low': '43.5000', '4. close': '44.3500', '5. volume': '1632137'}, '2024-12-06': {'1. open': '43.7000', '2. high': '45.2700', '3. low': '43.3500', '4. close': '44.4800', '5. volume': '2424176'}, '2024-12-05': {'1. open': '42.4100', '2. high': '43.1200', '3. low': '42.1500', '4. close': '43.1200', '5. volume': '2433978'}, '2024-12-04': {'1. open': '41.0700', '2. high': '41.0700', '3. low': '41.0700', '4. close': '41.0700', '5. volume': '492517'}, '2024-12-03': {'1. open': '38.8600', '2. high': '39.4400', '3. low': '38.5000', '4. close': '39.1200', '5. volume': '817290'}, '2024-12-02': {'1. open': '38.3700', '2. high': '39.0000', '3. low': '37.0200', '4. close': '38.7200', '5. volume': '2133391'}, '2024-11-29': {'1. open': '40.2900', '2. high': '40.2900', '3. low': '38.3000', '4. close': '38.7600', '5. volume': '1209051'}, '2024-11-28': {'1. open': '39.3000', '2. high': '40.1900', '3. low': '38.2800', '4. close': '39.9800', '5. volume': '4541144'}, '2024-11-27': {'1. open': '37.3000', '2. high': '38.2800', '3. low': '36.8000', '4. close': '38.2800', '5. volume': '3901872'}}}\n"
          ]
        }
      ]
    },
    {
      "cell_type": "code",
      "source": [
        "def is_downtrend(candles):\n",
        "    \"\"\"True if lows are decreasing = downtrend\"\"\"\n",
        "    low_prices = [float(c[\"3. low\"]) for c in candles]\n",
        "    for earlier, later in zip(low_prices, low_prices[1:]):\n",
        "        if earlier <= later:\n",
        "            return False\n",
        "    return True\n",
        "\n",
        "def is_uptrend(candles):\n",
        "    \"\"\"True if lows are increasing = uptrend\"\"\"\n",
        "    low_prices = [float(c[\"3. low\"]) for c in candles]\n",
        "\n",
        "    for earlier, later in zip(low_prices, low_prices[1:]):\n",
        "        if earlier >= later:\n",
        "            return False\n",
        "    return True"
      ],
      "metadata": {
        "id": "ioeMA2wdNAHS"
      },
      "execution_count": 6,
      "outputs": []
    },
    {
      "cell_type": "code",
      "source": [
        "def is_bullish_harami(prev_candle, current_candle):\n",
        "    prev_open = float(prev_candle[\"1. open\"])\n",
        "    prev_close = float(prev_candle[\"4. close\"])\n",
        "    current_open = float(current_candle[\"1. open\"])\n",
        "    current_close = float(current_candle[\"4. close\"])\n",
        "\n",
        "    # P1 is red, P2 is green\n",
        "    if not (prev_close < prev_open and current_close > current_open):\n",
        "        return False\n",
        "\n",
        "    return current_open > prev_close and current_close < prev_open\n",
        "\n",
        "\n",
        "def is_bearish_harami(prev_candle, current_candle):\n",
        "    prev_open = float(prev_candle[\"1. open\"])\n",
        "    prev_close = float(prev_candle[\"4. close\"])\n",
        "    current_open = float(current_candle[\"1. open\"])\n",
        "    current_close = float(current_candle[\"4. close\"])\n",
        "\n",
        "    # P1 is green, P2 is red\n",
        "    if not (prev_close > prev_open and current_close < current_open):\n",
        "        return False\n",
        "\n",
        "    return current_open < prev_close and current_close > prev_open\n"
      ],
      "metadata": {
        "id": "2iWI2tNI4zmp"
      },
      "execution_count": 38,
      "outputs": []
    },
    {
      "cell_type": "code",
      "source": [
        "def detect_harami(data, trend_days=3):\n",
        "    time_series = data.get(\"Time Series (Daily)\", {})\n",
        "    sorted_dates = sorted(time_series.keys())\n",
        "    results = []\n",
        "\n",
        "    for i in range(trend_days + 1, len(sorted_dates)):\n",
        "        current_date = sorted_dates[i]\n",
        "        previous_date = sorted_dates[i - 1]\n",
        "        current_candle = time_series[current_date]\n",
        "        previous_candle = time_series[previous_date]\n",
        "        trend_dates = sorted_dates[i - trend_days - 1 : i - 1]\n",
        "        trend_candles = [time_series[d] for d in trend_dates]\n",
        "\n",
        "        pattern = None\n",
        "        stoploss = None\n",
        "        entry_price = float(current_candle[\"4. close\"])\n",
        "\n",
        "        if is_downtrend(trend_candles) and is_bullish_harami(previous_candle, current_candle):\n",
        "            pattern = \"bullish_harami\"\n",
        "            stoploss = min(float(previous_candle[\"3. low\"]), float(current_candle[\"3. low\"]))\n",
        "\n",
        "        elif is_uptrend(trend_candles) and is_bearish_harami(previous_candle, current_candle):\n",
        "            pattern = \"bearish_harami\"\n",
        "            stoploss = max(float(previous_candle[\"2. high\"]), float(current_candle[\"2. high\"]))\n",
        "\n",
        "        if pattern:\n",
        "            results.append({\n",
        "                \"date\": current_date,\n",
        "                \"pattern\": pattern,\n",
        "                \"entry_price\": entry_price,\n",
        "                \"stoploss\": stoploss,\n",
        "                \"open\": float(current_candle[\"1. open\"]),\n",
        "                \"high\": float(current_candle[\"2. high\"]),\n",
        "                \"low\": float(current_candle[\"3. low\"]),\n",
        "                \"close\": float(current_candle[\"4. close\"]),\n",
        "                \"volume\": int(current_candle[\"5. volume\"])\n",
        "            })\n",
        "\n",
        "    return pd.DataFrame(results)\n"
      ],
      "metadata": {
        "id": "d3VtkQEoNYek"
      },
      "execution_count": 39,
      "outputs": []
    },
    {
      "cell_type": "code",
      "source": [
        "def calculate_profit_loss_with_target_and_window(data, harami_df, target_pct=2.0, hold_days=3):\n",
        "    time_series = data.get(\"Time Series (Daily)\", {})\n",
        "    df = pd.DataFrame.from_dict(time_series, orient='index')\n",
        "    df = df[['1. open', '2. high', '3. low', '4. close', '5. volume']].astype(float)\n",
        "    df.columns = ['Open', 'High', 'Low', 'Close', 'Volume']\n",
        "    df.index = pd.to_datetime(df.index)\n",
        "    df = df.sort_index()\n",
        "\n",
        "    trades = []\n",
        "    total_profit_loss = 0.0\n",
        "\n",
        "    for _, row in harami_df.iterrows():\n",
        "        entry_date = pd.to_datetime(row[\"date\"])\n",
        "        direction = row[\"pattern\"]\n",
        "        entry_price = row[\"entry_price\"]\n",
        "\n",
        "        if entry_date not in df.index:\n",
        "            continue\n",
        "\n",
        "        future_dates = df.index[df.index > entry_date]\n",
        "        window_dates = future_dates[:hold_days]\n",
        "\n",
        "        if len(window_dates) == 0:\n",
        "            continue\n",
        "\n",
        "        target_price = (\n",
        "            entry_price * (1 + target_pct / 100)\n",
        "            if direction == \"bullish_harami\"\n",
        "            else entry_price * (1 - target_pct / 100)\n",
        "        )\n",
        "\n",
        "        exit_price = None\n",
        "        exit_date = None\n",
        "        reason = \"\"\n",
        "\n",
        "        # Step 1: Check for target hit in window\n",
        "        for day in window_dates:\n",
        "            high = df.loc[day][\"High\"]\n",
        "            low = df.loc[day][\"Low\"]\n",
        "            open_price = df.loc[day][\"Open\"]\n",
        "\n",
        "            if direction == \"bullish_harami\" and high >= target_price:\n",
        "                exit_price = open_price\n",
        "                exit_date = day\n",
        "                reason = \"target_hit\"\n",
        "                break\n",
        "            elif direction == \"bearish_harami\" and low <= target_price:\n",
        "                exit_price = open_price\n",
        "                exit_date = day\n",
        "                reason = \"target_hit\"\n",
        "                break\n",
        "\n",
        "        # Step 2: If target not hit, exit at max/min within window\n",
        "        if exit_price is None:\n",
        "            if direction == \"bullish_harami\":\n",
        "                max_day = df.loc[window_dates][\"High\"].idxmax()\n",
        "                exit_price = df.loc[max_day][\"High\"]\n",
        "                exit_date = max_day\n",
        "                reason = \"max_window_exit\"\n",
        "            elif direction == \"bearish_harami\":\n",
        "                min_day = df.loc[window_dates][\"Low\"].idxmin()\n",
        "                exit_price = df.loc[min_day][\"Low\"]\n",
        "                exit_date = min_day\n",
        "                reason = \"min_window_exit\"\n",
        "\n",
        "        if exit_price is None or exit_date is None:\n",
        "            continue\n",
        "\n",
        "        profit_loss = (\n",
        "            exit_price - entry_price if direction == \"bullish_harami\"\n",
        "            else entry_price - exit_price\n",
        "        )\n",
        "        total_profit_loss += profit_loss\n",
        "\n",
        "        trades.append({\n",
        "            'entry_date': entry_date,\n",
        "            'entry_price': entry_price,\n",
        "            'exit_date': exit_date,\n",
        "            'exit_price': exit_price,\n",
        "            'target_price': target_price,\n",
        "            'direction': direction,\n",
        "            'profit_loss': profit_loss,\n",
        "            'exit_reason': reason,\n",
        "            'stoploss': row.get(\"stoploss\", None)\n",
        "        })\n",
        "\n",
        "    return total_profit_loss, trades\n"
      ],
      "metadata": {
        "id": "lDCd55wY0_M9"
      },
      "execution_count": 40,
      "outputs": []
    },
    {
      "cell_type": "code",
      "source": [
        "def plot_candlestick(data):\n",
        "    # Extract the time series data and convert it into a DataFrame\n",
        "    time_series = data.get(\"Time Series (Daily)\", {})\n",
        "\n",
        "    # Convert the time series into a DataFrame\n",
        "    df = pd.DataFrame.from_dict(time_series, orient='index')\n",
        "\n",
        "    # Convert all values to float and rename columns for mplfinance compatibility\n",
        "    df = df[['1. open', '2. high', '3. low', '4. close', '5. volume']].astype(float)\n",
        "    df.columns = ['Open', 'High', 'Low', 'Close', 'Volume']\n",
        "\n",
        "    # Convert the index to datetime\n",
        "    df.index = pd.to_datetime(df.index)\n",
        "    fig = go.Figure(data=[go.Candlestick(x=df.index,\n",
        "                open=df['Open'],\n",
        "                high=df['High'],\n",
        "                low=df['Low'],\n",
        "                close=df['Close'])])\n",
        "\n",
        "    fig.show()\n",
        ""
      ],
      "metadata": {
        "id": "c8FsqvyW1lKs"
      },
      "execution_count": 41,
      "outputs": []
    },
    {
      "cell_type": "code",
      "source": [
        "harami_df = detect_harami(data)\n",
        "total_profit_loss, trades = calculate_profit_loss_with_target_and_window(\n",
        "    data,\n",
        "    harami_df,\n",
        "    target_pct=2.0,\n",
        "    hold_days=3\n",
        ")\n",
        "\n",
        "print(f\"Total Profit/Loss: {total_profit_loss:.2f}\")\n",
        "for trade in trades:\n",
        "    print(\n",
        "        f\"{trade['direction']} | Entry: {trade['entry_date'].date()} at {trade['entry_price']:.2f}, \"\n",
        "        f\"Exit: {trade['exit_date'].date()} at {trade['exit_price']:.2f} \"\n",
        "        f\"(Target: {trade['target_price']:.2f}, Reason: {trade['exit_reason']}), \"\n",
        "        f\"P/L: {trade['profit_loss']:.2f}\"\n",
        "    )\n"
      ],
      "metadata": {
        "colab": {
          "base_uri": "https://localhost:8080/"
        },
        "id": "9YADq-mc1TxL",
        "outputId": "00fd2c22-98e5-4014-9959-80d7e7a27266"
      },
      "execution_count": 50,
      "outputs": [
        {
          "output_type": "stream",
          "name": "stdout",
          "text": [
            "Total Profit/Loss: 0.12\n",
            "bearish_harami | Entry: 2025-01-03 at 45.78, Exit: 2025-01-06 at 45.66 (Target: 44.86, Reason: target_hit), P/L: 0.12\n"
          ]
        }
      ]
    },
    {
      "cell_type": "code",
      "source": [
        "plot_candlestick(data)"
      ],
      "metadata": {
        "colab": {
          "base_uri": "https://localhost:8080/",
          "height": 542
        },
        "id": "3pFHOts61tEX",
        "outputId": "f42fdd07-c10d-45f5-c9be-c3c67473b6e9"
      },
      "execution_count": 51,
      "outputs": [
        {
          "output_type": "display_data",
          "data": {
            "text/html": [
              "<html>\n",
              "<head><meta charset=\"utf-8\" /></head>\n",
              "<body>\n",
              "    <div>            <script src=\"https://cdnjs.cloudflare.com/ajax/libs/mathjax/2.7.5/MathJax.js?config=TeX-AMS-MML_SVG\"></script><script type=\"text/javascript\">if (window.MathJax && window.MathJax.Hub && window.MathJax.Hub.Config) {window.MathJax.Hub.Config({SVG: {font: \"STIX-Web\"}});}</script>                <script type=\"text/javascript\">window.PlotlyConfig = {MathJaxConfig: 'local'};</script>\n",
              "        <script charset=\"utf-8\" src=\"https://cdn.plot.ly/plotly-2.35.2.min.js\"></script>                <div id=\"9d796ef4-62de-4596-aad6-8cc2c9c3414c\" class=\"plotly-graph-div\" style=\"height:525px; width:100%;\"></div>            <script type=\"text/javascript\">                                    window.PLOTLYENV=window.PLOTLYENV || {};                                    if (document.getElementById(\"9d796ef4-62de-4596-aad6-8cc2c9c3414c\")) {                    Plotly.newPlot(                        \"9d796ef4-62de-4596-aad6-8cc2c9c3414c\",                        [{\"close\":[43.55,43.54,44.21,42.14,41.81,41.63,40.04,39.03,39.84,39.04,41.39,43.16,42.33,41.89,42.99,42.88,39.48,37.23,38.2,37.8,36.46,37.73,34.79,33.03,33.4,33.7,34.01,34.47,36.03,35.19,34.63,33.09,32.91,33.3,34.77,36.46,36.8,37.71,38.19,37.94,36.8,36.97,37.23,39.55,39.42,39.09,40.91,41.82,42.39,39.89,39.91,38.01,39.09,40.06,38.69,38.6,36.82,36.72,38.54,39.68,39.46,40.16,40.83,42.07,41.21,39.25,38.89,37.04,38.98,40.27,42.38,43.34,43.5,45.78,46.29,44.68,42.56,41.88,43.13,44.15,44.48,43.77,44.79,46.92,44.81,46.73,47.23,47.44,46.24,44.04,44.66,44.35,44.48,43.12,41.07,39.12,38.72,38.76,39.98,38.28],\"high\":[44.18,44.89,44.65,43.0,42.55,42.6,40.68,40.42,41.09,39.5,43.43,44.44,42.74,43.32,44.75,43.6,41.4,38.74,38.92,38.1,38.32,38.35,34.95,33.95,34.65,34.88,34.35,36.73,36.35,36.1,34.85,33.9,34.48,34.77,36.94,37.5,37.52,39.15,38.66,38.38,37.45,37.88,39.76,40.78,40.26,41.03,42.58,43.39,43.95,40.9,39.91,38.81,40.5,40.4,39.7,38.66,38.18,38.4,40.0,40.55,40.74,41.6,42.75,42.94,41.21,40.44,38.89,39.49,40.9,42.37,43.57,44.2,46.02,47.13,46.7,44.68,42.82,43.74,45.4,45.4,45.2,45.44,47.88,47.05,47.29,48.0,48.5,48.0,46.24,45.4,45.3,46.0,45.27,43.12,41.07,39.44,39.0,40.29,40.19,38.28],\"low\":[42.32,43.2,42.05,41.67,41.47,40.06,39.23,38.7,39.37,34.56,41.12,41.78,41.07,41.39,42.41,38.72,36.92,36.74,37.81,36.47,36.3,35.05,33.11,32.85,33.33,33.3,33.36,34.26,34.95,34.45,33.27,32.01,31.3,33.03,34.42,36.0,36.66,37.51,37.5,36.0,36.1,35.91,36.7,39.1,37.1,38.65,39.81,41.5,41.0,39.51,38.31,37.65,38.51,38.59,38.24,37.5,35.15,36.62,38.36,39.31,38.55,39.86,40.5,41.06,40.04,38.42,36.55,37.04,38.81,40.27,41.75,42.45,43.5,45.54,44.17,42.6,41.32,41.26,42.7,44.0,43.71,43.5,44.6,43.06,44.56,45.56,46.65,44.56,44.95,43.75,42.7,43.5,43.35,42.15,41.07,38.5,37.02,38.3,38.28,36.8],\"open\":[43.89,44.26,42.28,41.99,41.86,40.06,40.68,39.74,40.71,34.56,43.03,41.78,41.89,41.9,43.02,39.44,37.14,38.74,38.27,36.49,38.19,35.15,33.11,33.81,34.25,34.37,34.05,36.37,35.3,35.19,33.28,32.24,33.48,34.35,36.66,37.07,37.5,38.0,37.98,36.3,37.29,37.26,39.55,39.55,39.08,40.79,42.45,42.65,41.38,39.95,38.48,38.46,40.38,38.7,38.71,37.5,36.79,38.33,39.5,40.17,40.5,41.3,42.45,41.49,40.04,38.9,37.05,38.31,40.2,41.66,43.57,42.64,45.66,46.22,44.9,42.89,41.56,43.0,45.26,44.4,43.75,45.0,47.41,43.7,46.86,46.71,47.5,46.7,46.24,45.4,44.53,44.82,43.7,42.41,41.07,38.86,38.37,40.29,39.3,37.3],\"x\":[\"2025-04-23T00:00:00\",\"2025-04-22T00:00:00\",\"2025-04-21T00:00:00\",\"2025-04-17T00:00:00\",\"2025-04-16T00:00:00\",\"2025-04-15T00:00:00\",\"2025-04-11T00:00:00\",\"2025-04-09T00:00:00\",\"2025-04-08T00:00:00\",\"2025-04-07T00:00:00\",\"2025-04-04T00:00:00\",\"2025-04-03T00:00:00\",\"2025-04-02T00:00:00\",\"2025-04-01T00:00:00\",\"2025-03-28T00:00:00\",\"2025-03-27T00:00:00\",\"2025-03-26T00:00:00\",\"2025-03-25T00:00:00\",\"2025-03-24T00:00:00\",\"2025-03-21T00:00:00\",\"2025-03-20T00:00:00\",\"2025-03-19T00:00:00\",\"2025-03-18T00:00:00\",\"2025-03-17T00:00:00\",\"2025-03-13T00:00:00\",\"2025-03-12T00:00:00\",\"2025-03-11T00:00:00\",\"2025-03-10T00:00:00\",\"2025-03-07T00:00:00\",\"2025-03-06T00:00:00\",\"2025-03-05T00:00:00\",\"2025-03-04T00:00:00\",\"2025-03-03T00:00:00\",\"2025-02-28T00:00:00\",\"2025-02-27T00:00:00\",\"2025-02-25T00:00:00\",\"2025-02-24T00:00:00\",\"2025-02-21T00:00:00\",\"2025-02-20T00:00:00\",\"2025-02-19T00:00:00\",\"2025-02-18T00:00:00\",\"2025-02-17T00:00:00\",\"2025-02-14T00:00:00\",\"2025-02-13T00:00:00\",\"2025-02-12T00:00:00\",\"2025-02-11T00:00:00\",\"2025-02-10T00:00:00\",\"2025-02-07T00:00:00\",\"2025-02-06T00:00:00\",\"2025-02-05T00:00:00\",\"2025-02-04T00:00:00\",\"2025-02-03T00:00:00\",\"2025-02-01T00:00:00\",\"2025-01-31T00:00:00\",\"2025-01-30T00:00:00\",\"2025-01-29T00:00:00\",\"2025-01-28T00:00:00\",\"2025-01-27T00:00:00\",\"2025-01-24T00:00:00\",\"2025-01-23T00:00:00\",\"2025-01-22T00:00:00\",\"2025-01-21T00:00:00\",\"2025-01-20T00:00:00\",\"2025-01-17T00:00:00\",\"2025-01-16T00:00:00\",\"2025-01-15T00:00:00\",\"2025-01-14T00:00:00\",\"2025-01-13T00:00:00\",\"2025-01-10T00:00:00\",\"2025-01-09T00:00:00\",\"2025-01-08T00:00:00\",\"2025-01-07T00:00:00\",\"2025-01-06T00:00:00\",\"2025-01-03T00:00:00\",\"2025-01-02T00:00:00\",\"2025-01-01T00:00:00\",\"2024-12-31T00:00:00\",\"2024-12-30T00:00:00\",\"2024-12-27T00:00:00\",\"2024-12-26T00:00:00\",\"2024-12-24T00:00:00\",\"2024-12-23T00:00:00\",\"2024-12-20T00:00:00\",\"2024-12-19T00:00:00\",\"2024-12-18T00:00:00\",\"2024-12-17T00:00:00\",\"2024-12-16T00:00:00\",\"2024-12-13T00:00:00\",\"2024-12-12T00:00:00\",\"2024-12-11T00:00:00\",\"2024-12-10T00:00:00\",\"2024-12-09T00:00:00\",\"2024-12-06T00:00:00\",\"2024-12-05T00:00:00\",\"2024-12-04T00:00:00\",\"2024-12-03T00:00:00\",\"2024-12-02T00:00:00\",\"2024-11-29T00:00:00\",\"2024-11-28T00:00:00\",\"2024-11-27T00:00:00\"],\"type\":\"candlestick\"}],                        {\"template\":{\"data\":{\"histogram2dcontour\":[{\"type\":\"histogram2dcontour\",\"colorbar\":{\"outlinewidth\":0,\"ticks\":\"\"},\"colorscale\":[[0.0,\"#0d0887\"],[0.1111111111111111,\"#46039f\"],[0.2222222222222222,\"#7201a8\"],[0.3333333333333333,\"#9c179e\"],[0.4444444444444444,\"#bd3786\"],[0.5555555555555556,\"#d8576b\"],[0.6666666666666666,\"#ed7953\"],[0.7777777777777778,\"#fb9f3a\"],[0.8888888888888888,\"#fdca26\"],[1.0,\"#f0f921\"]]}],\"choropleth\":[{\"type\":\"choropleth\",\"colorbar\":{\"outlinewidth\":0,\"ticks\":\"\"}}],\"histogram2d\":[{\"type\":\"histogram2d\",\"colorbar\":{\"outlinewidth\":0,\"ticks\":\"\"},\"colorscale\":[[0.0,\"#0d0887\"],[0.1111111111111111,\"#46039f\"],[0.2222222222222222,\"#7201a8\"],[0.3333333333333333,\"#9c179e\"],[0.4444444444444444,\"#bd3786\"],[0.5555555555555556,\"#d8576b\"],[0.6666666666666666,\"#ed7953\"],[0.7777777777777778,\"#fb9f3a\"],[0.8888888888888888,\"#fdca26\"],[1.0,\"#f0f921\"]]}],\"heatmap\":[{\"type\":\"heatmap\",\"colorbar\":{\"outlinewidth\":0,\"ticks\":\"\"},\"colorscale\":[[0.0,\"#0d0887\"],[0.1111111111111111,\"#46039f\"],[0.2222222222222222,\"#7201a8\"],[0.3333333333333333,\"#9c179e\"],[0.4444444444444444,\"#bd3786\"],[0.5555555555555556,\"#d8576b\"],[0.6666666666666666,\"#ed7953\"],[0.7777777777777778,\"#fb9f3a\"],[0.8888888888888888,\"#fdca26\"],[1.0,\"#f0f921\"]]}],\"heatmapgl\":[{\"type\":\"heatmapgl\",\"colorbar\":{\"outlinewidth\":0,\"ticks\":\"\"},\"colorscale\":[[0.0,\"#0d0887\"],[0.1111111111111111,\"#46039f\"],[0.2222222222222222,\"#7201a8\"],[0.3333333333333333,\"#9c179e\"],[0.4444444444444444,\"#bd3786\"],[0.5555555555555556,\"#d8576b\"],[0.6666666666666666,\"#ed7953\"],[0.7777777777777778,\"#fb9f3a\"],[0.8888888888888888,\"#fdca26\"],[1.0,\"#f0f921\"]]}],\"contourcarpet\":[{\"type\":\"contourcarpet\",\"colorbar\":{\"outlinewidth\":0,\"ticks\":\"\"}}],\"contour\":[{\"type\":\"contour\",\"colorbar\":{\"outlinewidth\":0,\"ticks\":\"\"},\"colorscale\":[[0.0,\"#0d0887\"],[0.1111111111111111,\"#46039f\"],[0.2222222222222222,\"#7201a8\"],[0.3333333333333333,\"#9c179e\"],[0.4444444444444444,\"#bd3786\"],[0.5555555555555556,\"#d8576b\"],[0.6666666666666666,\"#ed7953\"],[0.7777777777777778,\"#fb9f3a\"],[0.8888888888888888,\"#fdca26\"],[1.0,\"#f0f921\"]]}],\"surface\":[{\"type\":\"surface\",\"colorbar\":{\"outlinewidth\":0,\"ticks\":\"\"},\"colorscale\":[[0.0,\"#0d0887\"],[0.1111111111111111,\"#46039f\"],[0.2222222222222222,\"#7201a8\"],[0.3333333333333333,\"#9c179e\"],[0.4444444444444444,\"#bd3786\"],[0.5555555555555556,\"#d8576b\"],[0.6666666666666666,\"#ed7953\"],[0.7777777777777778,\"#fb9f3a\"],[0.8888888888888888,\"#fdca26\"],[1.0,\"#f0f921\"]]}],\"mesh3d\":[{\"type\":\"mesh3d\",\"colorbar\":{\"outlinewidth\":0,\"ticks\":\"\"}}],\"scatter\":[{\"fillpattern\":{\"fillmode\":\"overlay\",\"size\":10,\"solidity\":0.2},\"type\":\"scatter\"}],\"parcoords\":[{\"type\":\"parcoords\",\"line\":{\"colorbar\":{\"outlinewidth\":0,\"ticks\":\"\"}}}],\"scatterpolargl\":[{\"type\":\"scatterpolargl\",\"marker\":{\"colorbar\":{\"outlinewidth\":0,\"ticks\":\"\"}}}],\"bar\":[{\"error_x\":{\"color\":\"#2a3f5f\"},\"error_y\":{\"color\":\"#2a3f5f\"},\"marker\":{\"line\":{\"color\":\"#E5ECF6\",\"width\":0.5},\"pattern\":{\"fillmode\":\"overlay\",\"size\":10,\"solidity\":0.2}},\"type\":\"bar\"}],\"scattergeo\":[{\"type\":\"scattergeo\",\"marker\":{\"colorbar\":{\"outlinewidth\":0,\"ticks\":\"\"}}}],\"scatterpolar\":[{\"type\":\"scatterpolar\",\"marker\":{\"colorbar\":{\"outlinewidth\":0,\"ticks\":\"\"}}}],\"histogram\":[{\"marker\":{\"pattern\":{\"fillmode\":\"overlay\",\"size\":10,\"solidity\":0.2}},\"type\":\"histogram\"}],\"scattergl\":[{\"type\":\"scattergl\",\"marker\":{\"colorbar\":{\"outlinewidth\":0,\"ticks\":\"\"}}}],\"scatter3d\":[{\"type\":\"scatter3d\",\"line\":{\"colorbar\":{\"outlinewidth\":0,\"ticks\":\"\"}},\"marker\":{\"colorbar\":{\"outlinewidth\":0,\"ticks\":\"\"}}}],\"scattermapbox\":[{\"type\":\"scattermapbox\",\"marker\":{\"colorbar\":{\"outlinewidth\":0,\"ticks\":\"\"}}}],\"scatterternary\":[{\"type\":\"scatterternary\",\"marker\":{\"colorbar\":{\"outlinewidth\":0,\"ticks\":\"\"}}}],\"scattercarpet\":[{\"type\":\"scattercarpet\",\"marker\":{\"colorbar\":{\"outlinewidth\":0,\"ticks\":\"\"}}}],\"carpet\":[{\"aaxis\":{\"endlinecolor\":\"#2a3f5f\",\"gridcolor\":\"white\",\"linecolor\":\"white\",\"minorgridcolor\":\"white\",\"startlinecolor\":\"#2a3f5f\"},\"baxis\":{\"endlinecolor\":\"#2a3f5f\",\"gridcolor\":\"white\",\"linecolor\":\"white\",\"minorgridcolor\":\"white\",\"startlinecolor\":\"#2a3f5f\"},\"type\":\"carpet\"}],\"table\":[{\"cells\":{\"fill\":{\"color\":\"#EBF0F8\"},\"line\":{\"color\":\"white\"}},\"header\":{\"fill\":{\"color\":\"#C8D4E3\"},\"line\":{\"color\":\"white\"}},\"type\":\"table\"}],\"barpolar\":[{\"marker\":{\"line\":{\"color\":\"#E5ECF6\",\"width\":0.5},\"pattern\":{\"fillmode\":\"overlay\",\"size\":10,\"solidity\":0.2}},\"type\":\"barpolar\"}],\"pie\":[{\"automargin\":true,\"type\":\"pie\"}]},\"layout\":{\"autotypenumbers\":\"strict\",\"colorway\":[\"#636efa\",\"#EF553B\",\"#00cc96\",\"#ab63fa\",\"#FFA15A\",\"#19d3f3\",\"#FF6692\",\"#B6E880\",\"#FF97FF\",\"#FECB52\"],\"font\":{\"color\":\"#2a3f5f\"},\"hovermode\":\"closest\",\"hoverlabel\":{\"align\":\"left\"},\"paper_bgcolor\":\"white\",\"plot_bgcolor\":\"#E5ECF6\",\"polar\":{\"bgcolor\":\"#E5ECF6\",\"angularaxis\":{\"gridcolor\":\"white\",\"linecolor\":\"white\",\"ticks\":\"\"},\"radialaxis\":{\"gridcolor\":\"white\",\"linecolor\":\"white\",\"ticks\":\"\"}},\"ternary\":{\"bgcolor\":\"#E5ECF6\",\"aaxis\":{\"gridcolor\":\"white\",\"linecolor\":\"white\",\"ticks\":\"\"},\"baxis\":{\"gridcolor\":\"white\",\"linecolor\":\"white\",\"ticks\":\"\"},\"caxis\":{\"gridcolor\":\"white\",\"linecolor\":\"white\",\"ticks\":\"\"}},\"coloraxis\":{\"colorbar\":{\"outlinewidth\":0,\"ticks\":\"\"}},\"colorscale\":{\"sequential\":[[0.0,\"#0d0887\"],[0.1111111111111111,\"#46039f\"],[0.2222222222222222,\"#7201a8\"],[0.3333333333333333,\"#9c179e\"],[0.4444444444444444,\"#bd3786\"],[0.5555555555555556,\"#d8576b\"],[0.6666666666666666,\"#ed7953\"],[0.7777777777777778,\"#fb9f3a\"],[0.8888888888888888,\"#fdca26\"],[1.0,\"#f0f921\"]],\"sequentialminus\":[[0.0,\"#0d0887\"],[0.1111111111111111,\"#46039f\"],[0.2222222222222222,\"#7201a8\"],[0.3333333333333333,\"#9c179e\"],[0.4444444444444444,\"#bd3786\"],[0.5555555555555556,\"#d8576b\"],[0.6666666666666666,\"#ed7953\"],[0.7777777777777778,\"#fb9f3a\"],[0.8888888888888888,\"#fdca26\"],[1.0,\"#f0f921\"]],\"diverging\":[[0,\"#8e0152\"],[0.1,\"#c51b7d\"],[0.2,\"#de77ae\"],[0.3,\"#f1b6da\"],[0.4,\"#fde0ef\"],[0.5,\"#f7f7f7\"],[0.6,\"#e6f5d0\"],[0.7,\"#b8e186\"],[0.8,\"#7fbc41\"],[0.9,\"#4d9221\"],[1,\"#276419\"]]},\"xaxis\":{\"gridcolor\":\"white\",\"linecolor\":\"white\",\"ticks\":\"\",\"title\":{\"standoff\":15},\"zerolinecolor\":\"white\",\"automargin\":true,\"zerolinewidth\":2},\"yaxis\":{\"gridcolor\":\"white\",\"linecolor\":\"white\",\"ticks\":\"\",\"title\":{\"standoff\":15},\"zerolinecolor\":\"white\",\"automargin\":true,\"zerolinewidth\":2},\"scene\":{\"xaxis\":{\"backgroundcolor\":\"#E5ECF6\",\"gridcolor\":\"white\",\"linecolor\":\"white\",\"showbackground\":true,\"ticks\":\"\",\"zerolinecolor\":\"white\",\"gridwidth\":2},\"yaxis\":{\"backgroundcolor\":\"#E5ECF6\",\"gridcolor\":\"white\",\"linecolor\":\"white\",\"showbackground\":true,\"ticks\":\"\",\"zerolinecolor\":\"white\",\"gridwidth\":2},\"zaxis\":{\"backgroundcolor\":\"#E5ECF6\",\"gridcolor\":\"white\",\"linecolor\":\"white\",\"showbackground\":true,\"ticks\":\"\",\"zerolinecolor\":\"white\",\"gridwidth\":2}},\"shapedefaults\":{\"line\":{\"color\":\"#2a3f5f\"}},\"annotationdefaults\":{\"arrowcolor\":\"#2a3f5f\",\"arrowhead\":0,\"arrowwidth\":1},\"geo\":{\"bgcolor\":\"white\",\"landcolor\":\"#E5ECF6\",\"subunitcolor\":\"white\",\"showland\":true,\"showlakes\":true,\"lakecolor\":\"white\"},\"title\":{\"x\":0.05},\"mapbox\":{\"style\":\"light\"}}}},                        {\"responsive\": true}                    ).then(function(){\n",
              "                            \n",
              "var gd = document.getElementById('9d796ef4-62de-4596-aad6-8cc2c9c3414c');\n",
              "var x = new MutationObserver(function (mutations, observer) {{\n",
              "        var display = window.getComputedStyle(gd).display;\n",
              "        if (!display || display === 'none') {{\n",
              "            console.log([gd, 'removed!']);\n",
              "            Plotly.purge(gd);\n",
              "            observer.disconnect();\n",
              "        }}\n",
              "}});\n",
              "\n",
              "// Listen for the removal of the full notebook cells\n",
              "var notebookContainer = gd.closest('#notebook-container');\n",
              "if (notebookContainer) {{\n",
              "    x.observe(notebookContainer, {childList: true});\n",
              "}}\n",
              "\n",
              "// Listen for the clearing of the current output cell\n",
              "var outputEl = gd.closest('.output');\n",
              "if (outputEl) {{\n",
              "    x.observe(outputEl, {childList: true});\n",
              "}}\n",
              "\n",
              "                        })                };                            </script>        </div>\n",
              "</body>\n",
              "</html>"
            ]
          },
          "metadata": {}
        }
      ]
    }
  ]
}