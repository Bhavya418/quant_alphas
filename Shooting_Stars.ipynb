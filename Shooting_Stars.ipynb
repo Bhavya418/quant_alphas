{
  "nbformat": 4,
  "nbformat_minor": 0,
  "metadata": {
    "colab": {
      "provenance": []
    },
    "kernelspec": {
      "name": "python3",
      "display_name": "Python 3"
    },
    "language_info": {
      "name": "python"
    }
  },
  "cells": [
    {
      "cell_type": "code",
      "source": [
        "!pip install plotly\n",
        "!pip install mplfinance"
      ],
      "metadata": {
        "colab": {
          "base_uri": "https://localhost:8080/"
        },
        "id": "9jrmll0MaimF",
        "outputId": "71c3b76e-ac27-40ac-9294-3ac8885321a5"
      },
      "execution_count": 1,
      "outputs": [
        {
          "output_type": "stream",
          "name": "stdout",
          "text": [
            "Requirement already satisfied: plotly in /usr/local/lib/python3.11/dist-packages (5.24.1)\n",
            "Requirement already satisfied: tenacity>=6.2.0 in /usr/local/lib/python3.11/dist-packages (from plotly) (9.1.2)\n",
            "Requirement already satisfied: packaging in /usr/local/lib/python3.11/dist-packages (from plotly) (24.2)\n",
            "Collecting mplfinance\n",
            "  Downloading mplfinance-0.12.10b0-py3-none-any.whl.metadata (19 kB)\n",
            "Requirement already satisfied: matplotlib in /usr/local/lib/python3.11/dist-packages (from mplfinance) (3.10.0)\n",
            "Requirement already satisfied: pandas in /usr/local/lib/python3.11/dist-packages (from mplfinance) (2.2.2)\n",
            "Requirement already satisfied: contourpy>=1.0.1 in /usr/local/lib/python3.11/dist-packages (from matplotlib->mplfinance) (1.3.2)\n",
            "Requirement already satisfied: cycler>=0.10 in /usr/local/lib/python3.11/dist-packages (from matplotlib->mplfinance) (0.12.1)\n",
            "Requirement already satisfied: fonttools>=4.22.0 in /usr/local/lib/python3.11/dist-packages (from matplotlib->mplfinance) (4.57.0)\n",
            "Requirement already satisfied: kiwisolver>=1.3.1 in /usr/local/lib/python3.11/dist-packages (from matplotlib->mplfinance) (1.4.8)\n",
            "Requirement already satisfied: numpy>=1.23 in /usr/local/lib/python3.11/dist-packages (from matplotlib->mplfinance) (2.0.2)\n",
            "Requirement already satisfied: packaging>=20.0 in /usr/local/lib/python3.11/dist-packages (from matplotlib->mplfinance) (24.2)\n",
            "Requirement already satisfied: pillow>=8 in /usr/local/lib/python3.11/dist-packages (from matplotlib->mplfinance) (11.1.0)\n",
            "Requirement already satisfied: pyparsing>=2.3.1 in /usr/local/lib/python3.11/dist-packages (from matplotlib->mplfinance) (3.2.3)\n",
            "Requirement already satisfied: python-dateutil>=2.7 in /usr/local/lib/python3.11/dist-packages (from matplotlib->mplfinance) (2.8.2)\n",
            "Requirement already satisfied: pytz>=2020.1 in /usr/local/lib/python3.11/dist-packages (from pandas->mplfinance) (2025.2)\n",
            "Requirement already satisfied: tzdata>=2022.7 in /usr/local/lib/python3.11/dist-packages (from pandas->mplfinance) (2025.2)\n",
            "Requirement already satisfied: six>=1.5 in /usr/local/lib/python3.11/dist-packages (from python-dateutil>=2.7->matplotlib->mplfinance) (1.17.0)\n",
            "Downloading mplfinance-0.12.10b0-py3-none-any.whl (75 kB)\n",
            "\u001b[2K   \u001b[90m━━━━━━━━━━━━━━━━━━━━━━━━━━━━━━━━━━━━━━━━\u001b[0m \u001b[32m75.0/75.0 kB\u001b[0m \u001b[31m4.0 MB/s\u001b[0m eta \u001b[36m0:00:00\u001b[0m\n",
            "\u001b[?25hInstalling collected packages: mplfinance\n",
            "Successfully installed mplfinance-0.12.10b0\n"
          ]
        }
      ]
    },
    {
      "cell_type": "code",
      "execution_count": 2,
      "metadata": {
        "id": "3xeLVkbdIoTj"
      },
      "outputs": [],
      "source": [
        "import pandas as pd\n",
        "import mplfinance as mpf\n",
        "import matplotlib.pyplot as plt\n",
        "import requests\n",
        "import plotly.graph_objects as go\n",
        "from datetime import datetime\n",
        "import numpy as np\n"
      ]
    },
    {
      "cell_type": "markdown",
      "source": [
        "Function to check for symbols"
      ],
      "metadata": {
        "id": "dQC3lh5TyoMJ"
      }
    },
    {
      "cell_type": "code",
      "source": [
        "url = 'https://www.alphavantage.co/query?function=SYMBOL_SEARCH&keywords=tata&apikey=SHEYWPL1ZYCDZ17D'\n",
        "r = requests.get(url)\n",
        "data = r.json()\n",
        "\n",
        "print(data)"
      ],
      "metadata": {
        "id": "p7upZSwOymOY",
        "colab": {
          "base_uri": "https://localhost:8080/"
        },
        "outputId": "543d25b1-fa0d-4cc7-9db7-492ba563e031"
      },
      "execution_count": 3,
      "outputs": [
        {
          "output_type": "stream",
          "name": "stdout",
          "text": [
            "{'bestMatches': [{'1. symbol': 'TATACHEM.BSE', '2. name': 'TATA CHEMICALS LTD.', '3. type': 'Equity', '4. region': 'India/Bombay', '5. marketOpen': '09:15', '6. marketClose': '15:30', '7. timezone': 'UTC+5.5', '8. currency': 'INR', '9. matchScore': '0.5333'}, {'1. symbol': 'TATACOMM.BSE', '2. name': 'TATA COMMUNICATIONS LTD.', '3. type': 'Equity', '4. region': 'India/Bombay', '5. marketOpen': '09:15', '6. marketClose': '15:30', '7. timezone': 'UTC+5.5', '8. currency': 'INR', '9. matchScore': '0.5333'}, {'1. symbol': 'TATAELXSI.BSE', '2. name': 'Tata Elxsi Limited', '3. type': 'Equity', '4. region': 'India/Bombay', '5. marketOpen': '09:15', '6. marketClose': '15:30', '7. timezone': 'UTC+5.5', '8. currency': 'INR', '9. matchScore': '0.5000'}, {'1. symbol': 'TATAPOWER.BSE', '2. name': 'TATA POWER CO.LTD.', '3. type': 'Equity', '4. region': 'India/Bombay', '5. marketOpen': '09:15', '6. marketClose': '15:30', '7. timezone': 'UTC+5.5', '8. currency': 'INR', '9. matchScore': '0.5000'}, {'1. symbol': 'TATASTEEL.BSE', '2. name': 'Tata Steel Limited', '3. type': 'Equity', '4. region': 'India/Bombay', '5. marketOpen': '09:15', '6. marketClose': '15:30', '7. timezone': 'UTC+5.5', '8. currency': 'INR', '9. matchScore': '0.5000'}, {'1. symbol': 'TATACONSUM.BSE', '2. name': 'Tata Consumer Products Ltd', '3. type': 'Equity', '4. region': 'India/Bombay', '5. marketOpen': '09:15', '6. marketClose': '15:30', '7. timezone': 'UTC+5.5', '8. currency': 'INR', '9. matchScore': '0.4706'}, {'1. symbol': 'TATAINVEST.BSE', '2. name': 'TATA INVESTMENT CORPORATION LTD.', '3. type': 'Equity', '4. region': 'India/Bombay', '5. marketOpen': '09:15', '6. marketClose': '15:30', '7. timezone': 'UTC+5.5', '8. currency': 'INR', '9. matchScore': '0.4706'}, {'1. symbol': 'TATAMOTORS.BSE', '2. name': 'Tata Motors Limited', '3. type': 'Equity', '4. region': 'India/Bombay', '5. marketOpen': '09:15', '6. marketClose': '15:30', '7. timezone': 'UTC+5.5', '8. currency': 'INR', '9. matchScore': '0.4706'}, {'1. symbol': 'TATAYODOGA.BSE', '2. name': 'TAYO ROLLS LTD.-$', '3. type': 'Equity', '4. region': 'India/Bombay', '5. marketOpen': '09:15', '6. marketClose': '15:30', '7. timezone': 'UTC+5.5', '8. currency': 'INR', '9. matchScore': '0.4706'}, {'1. symbol': 'TCS.BSE', '2. name': 'Tata Consultancy Services Limited', '3. type': 'Equity', '4. region': 'India/Bombay', '5. marketOpen': '09:15', '6. marketClose': '15:30', '7. timezone': 'UTC+5.5', '8. currency': 'INR', '9. matchScore': '0.2162'}]}\n"
          ]
        }
      ]
    },
    {
      "cell_type": "code",
      "source": [
        "def fetch_daily_ohlc(symbol, apikey):\n",
        "    url = f\"https://www.alphavantage.co/query?function=TIME_SERIES_DAILY&symbol={symbol}&outputsize=compact&apikey={apikey}\"\n",
        "    r = requests.get(url)\n",
        "    return r.json()\n"
      ],
      "metadata": {
        "id": "nGN1KepVKZmr"
      },
      "execution_count": 4,
      "outputs": []
    },
    {
      "cell_type": "code",
      "source": [
        "def calculate_percentage_differences(val1, val2):\n",
        "    return abs(val1 - val2) / val2 * 100\n",
        "\n",
        "\n",
        "def calculate_candle_length_percentage(open_price, close_price):\n",
        "    return abs(close_price - open_price) / open_price * 100"
      ],
      "metadata": {
        "id": "1kmeRYFRMgK7"
      },
      "execution_count": 5,
      "outputs": []
    },
    {
      "cell_type": "code",
      "source": [
        "\n",
        "\n",
        "def is_uptrend(candles):\n",
        "    \"\"\"Check for an uptrend using moving average of LOW prices\"\"\"\n",
        "    low_prices = [float(c[\"3. low\"]) for c in candles]\n",
        "\n",
        "    return low_prices[0] > low_prices[len(low_prices)-1]\n"
      ],
      "metadata": {
        "id": "pbkSZfH2xh3_"
      },
      "execution_count": 69,
      "outputs": []
    },
    {
      "cell_type": "code",
      "source": [
        "def is_shooting_star(date,candle,\n",
        "    upper_wick_threshold=1.0,\n",
        "    lower_wick_threshold=1.0,\n",
        "    min_candle_length=1.0,\n",
        "    max_candle_length=10.0,\n",
        "    body_percent=0.3,\n",
        "    shadow_threshold=0.07):\n",
        "\n",
        "    open_price = float(candle[\"1. open\"])\n",
        "    close_price = float(candle[\"4. close\"])\n",
        "    high_price = float(candle[\"2. high\"])\n",
        "    low_price = float(candle[\"3. low\"])\n",
        "\n",
        "    high_close_diff_pct = calculate_percentage_differences(high_price, close_price)\n",
        "    open_low_diff_pct = calculate_percentage_differences(open_price, low_price)\n",
        "    high_open_diff_pct = calculate_percentage_differences(high_price, open_price)\n",
        "    close_low_diff_pct = calculate_percentage_differences(close_price, low_price)\n",
        "\n",
        "    candle_length_pct = calculate_candle_length_percentage(open_price, close_price)\n",
        "\n",
        "    total_range = abs(high_price-low_price)\n",
        "    body_size = abs(open_price-close_price)\n",
        "    upper_wick = high_price - max(open_price, close_price)\n",
        "    lower_wick = min(open_price, close_price) - low_price\n",
        "\n",
        "    upper_wick_pct = calculate_percentage_differences(high_price, max(open_price, close_price))\n",
        "    lower_wick_pct = calculate_percentage_differences(min(open_price, close_price), low_price)\n",
        "    # print(body_size,body_percent,total_range)\n",
        "    if body_size > body_percent * total_range:\n",
        "        return False\n",
        "    # print(date,upper_wick,lower_wick)\n",
        "    if upper_wick > (1-body_percent)*total_range and lower_wick < shadow_threshold*total_range :\n",
        "        return True\n",
        "    if lower_wick>0 and upper_wick/lower_wick > 4:\n",
        "      return True\n",
        "    return False\n",
        "\n",
        "\n",
        "def detect_shooting_star(data,\n",
        "    upper_wick_threshold=1.0,\n",
        "    lower_wick_threshold=1.0,\n",
        "    min_candle_length=1.0,\n",
        "    max_candle_length=10.0):\n",
        "    time_series = data.get(\"Time Series (Daily)\", {})\n",
        "    results = []\n",
        "\n",
        "    for date, candle in time_series.items():\n",
        "        if is_shooting_star(\n",
        "            date,\n",
        "            candle,\n",
        "            upper_wick_threshold,\n",
        "            lower_wick_threshold,\n",
        "            min_candle_length,\n",
        "            max_candle_length\n",
        "        ):\n",
        "            results.append({\n",
        "                \"date\": date,\n",
        "                \"open\": float(candle[\"1. open\"]),\n",
        "                \"high\": float(candle[\"2. high\"]),\n",
        "                \"low\": float(candle[\"3. low\"]),\n",
        "                \"close\": float(candle[\"4. close\"]),\n",
        "                \"volume\": int(candle[\"5. volume\"])\n",
        "            })\n",
        "\n",
        "    return results"
      ],
      "metadata": {
        "id": "W80-MXoXO-L2"
      },
      "execution_count": 88,
      "outputs": []
    },
    {
      "cell_type": "code",
      "source": [],
      "metadata": {
        "id": "r3pQLLiRKv3W"
      },
      "execution_count": null,
      "outputs": []
    },
    {
      "cell_type": "code",
      "source": [
        "def detect_all_shooting_stars(data,\n",
        "    upper_wick_threshold=1.0,\n",
        "    lower_wick_threshold=1.0,\n",
        "    min_candle_length=1.0,\n",
        "    max_candle_length=10.0):\n",
        "    print(data)\n",
        "    results = detect_shooting_star(\n",
        "        data,\n",
        "        upper_wick_threshold,\n",
        "        lower_wick_threshold,\n",
        "        min_candle_length,\n",
        "        max_candle_length\n",
        "    )\n",
        "\n",
        "    return pd.DataFrame(results)\n"
      ],
      "metadata": {
        "id": "amWwyhnAPPsG"
      },
      "execution_count": 9,
      "outputs": []
    },
    {
      "cell_type": "code",
      "source": [
        "def plot_candlestick_with_shootingstar(data, spinning_df):\n",
        "    # Extract the time series data and convert it into a DataFrame\n",
        "    time_series = data.get(\"Time Series (Daily)\", {})\n",
        "\n",
        "    # Convert the time series into a DataFrame\n",
        "    df = pd.DataFrame.from_dict(time_series, orient='index')\n",
        "\n",
        "    # Convert all values to float and rename columns for mplfinance compatibility\n",
        "    df = df[['1. open', '2. high', '3. low', '4. close', '5. volume']].astype(float)\n",
        "    df.columns = ['Open', 'High', 'Low', 'Close', 'Volume']\n",
        "\n",
        "    # Convert the index to datetime\n",
        "    df.index = pd.to_datetime(df.index)\n",
        "    fig = go.Figure(data=[go.Candlestick(x=df.index,\n",
        "                open=df['Open'],\n",
        "                high=df['High'],\n",
        "                low=df['Low'],\n",
        "                close=df['Close'])])\n",
        "\n",
        "    fig.show()"
      ],
      "metadata": {
        "id": "izHBleJxqj-7"
      },
      "execution_count": 10,
      "outputs": []
    },
    {
      "cell_type": "code",
      "source": [
        "apikey = \"SHEYWPL1ZYCDZ17D\"\n",
        "symbol = \"TATAMOTORS.BSE\"\n",
        "data = fetch_daily_ohlc(symbol, apikey)\n",
        "\n",
        "shooting_star_df = detect_all_shooting_stars(\n",
        "        data,\n",
        "        upper_wick_threshold=0.5,\n",
        "        lower_wick_threshold=0.5,\n",
        "        min_candle_length=1.0,\n",
        "        max_candle_length=10.0\n",
        ")\n",
        "\n",
        "print(\"Detected Spinning Candles:\")\n",
        "print(shooting_star_df)\n"
      ],
      "metadata": {
        "colab": {
          "base_uri": "https://localhost:8080/"
        },
        "id": "y59LXJJPQ1q5",
        "outputId": "055d9b96-8219-4b0b-8a31-4e83d5887cc9"
      },
      "execution_count": 90,
      "outputs": [
        {
          "output_type": "stream",
          "name": "stdout",
          "text": [
            "{'Meta Data': {'1. Information': 'Daily Prices (open, high, low, close) and Volumes', '2. Symbol': 'TATAMOTORS.BSE', '3. Last Refreshed': '2025-04-17', '4. Output Size': 'Compact', '5. Time Zone': 'US/Eastern'}, 'Time Series (Daily)': {'2025-04-17': {'1. open': '616.1000', '2. high': '626.9000', '3. low': '608.3000', '4. close': '621.5000', '5. volume': '1170273'}, '2025-04-16': {'1. open': '627.7000', '2. high': '627.7000', '3. low': '613.4000', '4. close': '616.1000', '5. volume': '648458'}, '2025-04-15': {'1. open': '612.2500', '2. high': '628.0500', '3. low': '612.2500', '4. close': '621.8000', '5. volume': '1960419'}, '2025-04-11': {'1. open': '610.6500', '2. high': '612.6500', '3. low': '591.1000', '4. close': '595.0500', '5. volume': '2223520'}, '2025-04-09': {'1. open': '588.9000', '2. high': '595.0000', '3. low': '581.2000', '4. close': '583.0000', '5. volume': '1686551'}, '2025-04-08': {'1. open': '592.6500', '2. high': '606.4000', '3. low': '584.2500', '4. close': '588.9000', '5. volume': '1903190'}, '2025-04-07': {'1. open': '552.5000', '2. high': '582.0000', '3. low': '542.5500', '4. close': '579.8500', '5. volume': '6047807'}, '2025-04-04': {'1. open': '650.9500', '2. high': '650.9500', '3. low': '610.1000', '4. close': '613.8500', '5. volume': '2544217'}, '2025-04-03': {'1. open': '656.0500', '2. high': '669.0000', '3. low': '652.8000', '4. close': '654.0500', '5. volume': '718248'}, '2025-04-02': {'1. open': '676.4000', '2. high': '676.4000', '3. low': '662.0000', '4. close': '671.8000', '5. volume': '529723'}, '2025-04-01': {'1. open': '670.0000', '2. high': '681.9000', '3. low': '665.7000', '4. close': '671.4000', '5. volume': '507047'}, '2025-03-28': {'1. open': '671.1000', '2. high': '684.9000', '3. low': '669.1500', '4. close': '674.0500', '5. volume': '1599284'}, '2025-03-27': {'1. open': '673.9500', '2. high': '677.0500', '3. low': '661.3500', '4. close': '668.6000', '5. volume': '1752516'}, '2025-03-26': {'1. open': '710.4500', '2. high': '717.7500', '3. low': '707.0000', '4. close': '707.9500', '5. volume': '749794'}, '2025-03-25': {'1. open': '719.4000', '2. high': '722.5000', '3. low': '706.3500', '4. close': '710.4500', '5. volume': '549630'}, '2025-03-24': {'1. open': '714.9500', '2. high': '717.5500', '3. low': '702.2500', '4. close': '713.4000', '5. volume': '562815'}, '2025-03-21': {'1. open': '693.3000', '2. high': '704.9000', '3. low': '688.9500', '4. close': '702.8500', '5. volume': '1021602'}, '2025-03-20': {'1. open': '685.0000', '2. high': '692.8500', '3. low': '679.0000', '4. close': '690.1500', '5. volume': '713951'}, '2025-03-19': {'1. open': '688.9500', '2. high': '688.9500', '3. low': '678.8000', '4. close': '681.9000', '5. volume': '425234'}, '2025-03-18': {'1. open': '665.7000', '2. high': '681.8000', '3. low': '664.1500', '4. close': '679.8000', '5. volume': '440745'}, '2025-03-17': {'1. open': '665.5000', '2. high': '666.1500', '3. low': '657.5000', '4. close': '660.9000', '5. volume': '449457'}, '2025-03-13': {'1. open': '673.3000', '2. high': '673.3000', '3. low': '649.5500', '4. close': '655.4000', '5. volume': '1189577'}, '2025-03-12': {'1. open': '652.4000', '2. high': '671.8000', '3. low': '652.4000', '4. close': '668.4500', '5. volume': '788852'}, '2025-03-11': {'1. open': '640.0000', '2. high': '651.1500', '3. low': '638.3500', '4. close': '647.8500', '5. volume': '475976'}, '2025-03-10': {'1. open': '649.3000', '2. high': '654.0000', '3. low': '643.2000', '4. close': '647.9000', '5. volume': '774587'}, '2025-03-07': {'1. open': '640.5000', '2. high': '651.5000', '3. low': '635.6000', '4. close': '648.4500', '5. volume': '950874'}, '2025-03-06': {'1. open': '654.6500', '2. high': '656.0000', '3. low': '636.0000', '4. close': '639.7500', '5. volume': '1129223'}, '2025-03-05': {'1. open': '619.0000', '2. high': '641.8000', '3. low': '618.7500', '4. close': '640.9500', '5. volume': '643986'}, '2025-03-04': {'1. open': '616.0000', '2. high': '629.0000', '3. low': '613.0000', '4. close': '619.1500', '5. volume': '415093'}, '2025-03-03': {'1. open': '621.0000', '2. high': '626.9000', '3. low': '606.2000', '4. close': '621.1000', '5. volume': '815993'}, '2025-02-28': {'1. open': '645.6500', '2. high': '645.6500', '3. low': '618.4500', '4. close': '620.5500', '5. volume': '1150251'}, '2025-02-27': {'1. open': '665.8000', '2. high': '665.8000', '3. low': '645.9000', '4. close': '648.2000', '5. volume': '879774'}, '2025-02-25': {'1. open': '668.9500', '2. high': '672.2000', '3. low': '660.1000', '4. close': '661.7500', '5. volume': '433704'}, '2025-02-24': {'1. open': '670.0000', '2. high': '676.7500', '3. low': '666.0000', '4. close': '668.2000', '5. volume': '377339'}, '2025-02-21': {'1. open': '686.0000', '2. high': '690.1500', '3. low': '671.3000', '4. close': '672.9000', '5. volume': '1003235'}, '2025-02-20': {'1. open': '680.7500', '2. high': '692.6000', '3. low': '675.3000', '4. close': '689.9000', '5. volume': '595555'}, '2025-02-19': {'1. open': '680.7000', '2. high': '690.9000', '3. low': '675.5000', '4. close': '680.8500', '5. volume': '475916'}, '2025-02-18': {'1. open': '687.0000', '2. high': '688.0000', '3. low': '672.5000', '4. close': '681.6000', '5. volume': '789939'}, '2025-02-17': {'1. open': '679.8000', '2. high': '690.6000', '3. low': '667.0000', '4. close': '686.5000', '5. volume': '546636'}, '2025-02-14': {'1. open': '685.0500', '2. high': '691.0000', '3. low': '669.3000', '4. close': '680.2500', '5. volume': '1115354'}, '2025-02-13': {'1. open': '687.7500', '2. high': '693.2000', '3. low': '679.3500', '4. close': '683.6500', '5. volume': '779437'}, '2025-02-12': {'1. open': '679.7000', '2. high': '687.4500', '3. low': '667.4000', '4. close': '684.4000', '5. volume': '729759'}, '2025-02-11': {'1. open': '696.6500', '2. high': '696.6500', '3. low': '675.0000', '4. close': '677.7000', '5. volume': '626711'}, '2025-02-10': {'1. open': '711.6500', '2. high': '711.6500', '3. low': '693.1500', '4. close': '695.8000', '5. volume': '507724'}, '2025-02-07': {'1. open': '713.6500', '2. high': '715.9000', '3. low': '703.3000', '4. close': '706.5500', '5. volume': '418891'}, '2025-02-06': {'1. open': '722.2500', '2. high': '723.8000', '3. low': '707.9500', '4. close': '709.5500', '5. volume': '716459'}, '2025-02-05': {'1. open': '711.0000', '2. high': '725.3500', '3. low': '710.9000', '4. close': '717.2000', '5. volume': '1091657'}, '2025-02-04': {'1. open': '696.0000', '2. high': '713.0500', '3. low': '693.6000', '4. close': '710.7000', '5. volume': '1283143'}, '2025-02-03': {'1. open': '701.7000', '2. high': '701.7000', '3. low': '686.0000', '4. close': '687.4500', '5. volume': '794536'}, '2025-02-01': {'1. open': '724.8500', '2. high': '724.8500', '3. low': '701.4000', '4. close': '706.1000', '5. volume': '779653'}, '2025-01-31': {'1. open': '706.5500', '2. high': '717.0500', '3. low': '696.4500', '4. close': '716.0000', '5. volume': '1708077'}, '2025-01-30': {'1. open': '715.0000', '2. high': '715.0000', '3. low': '684.2500', '4. close': '697.0000', '5. volume': '2561730'}, '2025-01-29': {'1. open': '732.3500', '2. high': '755.0000', '3. low': '726.5000', '4. close': '752.4500', '5. volume': '908702'}, '2025-01-28': {'1. open': '715.6000', '2. high': '740.5500', '3. low': '707.5500', '4. close': '728.4500', '5. volume': '1183451'}, '2025-01-27': {'1. open': '733.9000', '2. high': '733.9000', '3. low': '709.4000', '4. close': '713.1500', '5. volume': '762378'}, '2025-01-24': {'1. open': '752.4500', '2. high': '754.0000', '3. low': '732.3000', '4. close': '733.9000', '5. volume': '697262'}, '2025-01-23': {'1. open': '743.0000', '2. high': '759.8500', '3. low': '739.6500', '4. close': '752.5500', '5. volume': '616256'}, '2025-01-22': {'1. open': '766.2000', '2. high': '766.2000', '3. low': '731.1000', '4. close': '742.9500', '5. volume': '519550'}, '2025-01-21': {'1. open': '775.7500', '2. high': '786.6000', '3. low': '758.1000', '4. close': '759.9500', '5. volume': '806641'}, '2025-01-20': {'1. open': '784.7500', '2. high': '784.7500', '3. low': '767.0000', '4. close': '774.2000', '5. volume': '289970'}, '2025-01-17': {'1. open': '774.4000', '2. high': '785.2000', '3. low': '772.0000', '4. close': '779.4000', '5. volume': '524334'}, '2025-01-16': {'1. open': '770.7500', '2. high': '780.9500', '3. low': '768.0000', '4. close': '774.4000', '5. volume': '370365'}, '2025-01-15': {'1. open': '773.6500', '2. high': '780.0000', '3. low': '756.4500', '4. close': '763.4500', '5. volume': '804139'}, '2025-01-14': {'1. open': '751.0000', '2. high': '779.0000', '3. low': '751.0000', '4. close': '770.6000', '5. volume': '805851'}, '2025-01-13': {'1. open': '769.8000', '2. high': '773.3500', '3. low': '748.8500', '4. close': '750.7500', '5. volume': '489284'}, '2025-01-10': {'1. open': '780.0500', '2. high': '787.8000', '3. low': '767.1000', '4. close': '774.4500', '5. volume': '536247'}, '2025-01-09': {'1. open': '798.9500', '2. high': '809.9500', '3. low': '769.6500', '4. close': '780.0500', '5. volume': '820681'}, '2025-01-08': {'1. open': '792.0000', '2. high': '797.0000', '3. low': '781.7500', '4. close': '794.8500', '5. volume': '1009226'}, '2025-01-07': {'1. open': '771.0000', '2. high': '797.0000', '3. low': '771.0000', '4. close': '793.4000', '5. volume': '678173'}, '2025-01-06': {'1. open': '796.2000', '2. high': '797.3000', '3. low': '765.0500', '4. close': '775.9500', '5. volume': '1509617'}, '2025-01-03': {'1. open': '767.9500', '2. high': '800.5000', '3. low': '761.9000', '4. close': '790.4000', '5. volume': '1351510'}, '2025-01-02': {'1. open': '759.3000', '2. high': '767.0000', '3. low': '749.5000', '4. close': '764.9500', '5. volume': '1101004'}, '2025-01-01': {'1. open': '741.6000', '2. high': '750.9000', '3. low': '736.2500', '4. close': '749.2500', '5. volume': '518908'}, '2024-12-31': {'1. open': '733.6500', '2. high': '743.2500', '3. low': '732.8000', '4. close': '740.7000', '5. volume': '638062'}, '2024-12-30': {'1. open': '753.5000', '2. high': '754.0500', '3. low': '730.8000', '4. close': '733.7500', '5. volume': '743197'}, '2024-12-27': {'1. open': '747.8500', '2. high': '766.7500', '3. low': '745.7000', '4. close': '750.5500', '5. volume': '1236628'}, '2024-12-26': {'1. open': '737.6500', '2. high': '747.6000', '3. low': '736.0000', '4. close': '740.8000', '5. volume': '756741'}, '2024-12-24': {'1. open': '723.9500', '2. high': '745.0000', '3. low': '722.5000', '4. close': '736.3500', '5. volume': '970730'}, '2024-12-23': {'1. open': '733.7500', '2. high': '733.7500', '3. low': '718.0000', '4. close': '722.5000', '5. volume': '507834'}, '2024-12-20': {'1. open': '745.0000', '2. high': '749.4500', '3. low': '721.5500', '4. close': '724.0000', '5. volume': '1433556'}, '2024-12-19': {'1. open': '742.0000', '2. high': '755.8000', '3. low': '741.3500', '4. close': '744.3000', '5. volume': '1095480'}, '2024-12-18': {'1. open': '775.9500', '2. high': '775.9500', '3. low': '754.0000', '4. close': '755.7000', '5. volume': '722551'}, '2024-12-17': {'1. open': '785.0000', '2. high': '796.5000', '3. low': '778.0000', '4. close': '779.3500', '5. volume': '365353'}, '2024-12-16': {'1. open': '790.0000', '2. high': '794.0000', '3. low': '783.0000', '4. close': '784.7000', '5. volume': '491602'}, '2024-12-13': {'1. open': '792.3500', '2. high': '792.4000', '3. low': '775.0000', '4. close': '790.6000', '5. volume': '508033'}, '2024-12-12': {'1. open': '803.0000', '2. high': '803.0000', '3. low': '784.9500', '4. close': '786.3000', '5. volume': '526867'}, '2024-12-11': {'1. open': '803.9000', '2. high': '806.8000', '3. low': '798.0500', '4. close': '799.0000', '5. volume': '627361'}, '2024-12-10': {'1. open': '805.7500', '2. high': '810.4500', '3. low': '797.5500', '4. close': '800.0000', '5. volume': '840713'}, '2024-12-09': {'1. open': '821.9500', '2. high': '821.9500', '3. low': '796.6500', '4. close': '798.9000', '5. volume': '605611'}, '2024-12-06': {'1. open': '794.4500', '2. high': '818.7000', '3. low': '785.1500', '4. close': '816.7500', '5. volume': '1555873'}, '2024-12-05': {'1. open': '791.6500', '2. high': '797.3000', '3. low': '780.9000', '4. close': '792.5500', '5. volume': '866408'}, '2024-12-04': {'1. open': '806.5000', '2. high': '806.5000', '3. low': '784.0000', '4. close': '788.2500', '5. volume': '415446'}, '2024-12-03': {'1. open': '793.9500', '2. high': '805.9000', '3. low': '789.9500', '4. close': '801.1500', '5. volume': '310853'}, '2024-12-02': {'1. open': '787.3500', '2. high': '796.5000', '3. low': '785.0000', '4. close': '789.9500', '5. volume': '819147'}, '2024-11-29': {'1. open': '780.4000', '2. high': '789.2000', '3. low': '777.0000', '4. close': '786.8500', '5. volume': '904317'}, '2024-11-28': {'1. open': '782.9500', '2. high': '792.6000', '3. low': '778.3000', '4. close': '779.8500', '5. volume': '821136'}, '2024-11-27': {'1. open': '785.9500', '2. high': '791.8000', '3. low': '779.2500', '4. close': '784.3500', '5. volume': '590808'}, '2024-11-26': {'1. open': '797.8000', '2. high': '801.8000', '3. low': '780.5500', '4. close': '783.2500', '5. volume': '719632'}, '2024-11-25': {'1. open': '809.3500', '2. high': '810.0000', '3. low': '793.6500', '4. close': '796.8000', '5. volume': '712946'}, '2024-11-22': {'1. open': '775.1500', '2. high': '794.0000', '3. low': '775.1500', '4. close': '791.2500', '5. volume': '567691'}}}\n",
            "Detected Spinning Candles:\n",
            "         date    open    high     low   close   volume\n",
            "0  2025-04-03  656.05  669.00  652.80  654.05   718248\n",
            "1  2025-03-28  671.10  684.90  669.15  674.05  1599284\n",
            "2  2025-03-26  710.45  717.75  707.00  707.95   749794\n",
            "3  2024-12-27  747.85  766.75  745.70  750.55  1236628\n",
            "4  2024-12-26  737.65  747.60  736.00  740.80   756741\n",
            "5  2024-12-19  742.00  755.80  741.35  744.30  1095480\n",
            "6  2024-11-28  782.95  792.60  778.30  779.85   821136\n"
          ]
        }
      ]
    },
    {
      "cell_type": "code",
      "source": [],
      "metadata": {
        "id": "6lFqccqZKw5P"
      },
      "execution_count": null,
      "outputs": []
    },
    {
      "cell_type": "code",
      "source": [
        "plot_candlestick_with_shootingstar(data, shooting_star_df)"
      ],
      "metadata": {
        "colab": {
          "base_uri": "https://localhost:8080/",
          "height": 542
        },
        "id": "I7GnaTk8k8BG",
        "outputId": "df68e96e-414b-4085-cbbd-ad54cbd8c18e"
      },
      "execution_count": 55,
      "outputs": [
        {
          "output_type": "display_data",
          "data": {
            "text/html": [
              "<html>\n",
              "<head><meta charset=\"utf-8\" /></head>\n",
              "<body>\n",
              "    <div>            <script src=\"https://cdnjs.cloudflare.com/ajax/libs/mathjax/2.7.5/MathJax.js?config=TeX-AMS-MML_SVG\"></script><script type=\"text/javascript\">if (window.MathJax && window.MathJax.Hub && window.MathJax.Hub.Config) {window.MathJax.Hub.Config({SVG: {font: \"STIX-Web\"}});}</script>                <script type=\"text/javascript\">window.PlotlyConfig = {MathJaxConfig: 'local'};</script>\n",
              "        <script charset=\"utf-8\" src=\"https://cdn.plot.ly/plotly-2.35.2.min.js\"></script>                <div id=\"ae257ca5-a30c-4340-9a23-b5fdabc6c7da\" class=\"plotly-graph-div\" style=\"height:525px; width:100%;\"></div>            <script type=\"text/javascript\">                                    window.PLOTLYENV=window.PLOTLYENV || {};                                    if (document.getElementById(\"ae257ca5-a30c-4340-9a23-b5fdabc6c7da\")) {                    Plotly.newPlot(                        \"ae257ca5-a30c-4340-9a23-b5fdabc6c7da\",                        [{\"close\":[797.1,771.75,763.3,754.05,742.05,768.4,746.75,767.8,779.2,775.85,771.5,771.6,772.4,763.35,773.05,781.4,753.0,749.2,745.05,737.05,722.7,727.75,722.9,729.95,728.35,732.75,731.95,730.25,716.15,695.15,688.25,703.95,711.0,716.4,721.55,729.65,726.8,725.75,728.05,722.0,727.3,733.25,731.0,736.85,737.05,752.35,766.1,779.2,761.0,773.1,762.2,758.7,751.65,749.2,744.35,745.95,753.25,759.0,779.05,764.1,766.4,754.0,748.1,729.6,743.15,760.35,771.2,779.0,776.75,793.5,801.05,793.35,795.05,788.3,799.55,811.65,811.85,820.95,812.5,832.8,839.05,850.2,860.7,861.7,853.75,861.55,867.6,857.85,864.0,864.85,859.45,853.95,836.2,839.0,838.75,834.2,839.35,844.75,816.05,780.85],\"high\":[801.0,774.55,770.6,759.95,769.0,774.1,752.95,782.25,784.85,776.8,782.5,778.45,775.0,775.95,786.0,783.15,755.4,752.8,749.0,738.5,730.95,731.45,736.5,733.9,738.45,734.9,737.95,731.0,718.15,696.85,701.8,716.9,719.0,719.8,732.0,731.8,734.75,727.95,728.95,732.7,737.3,738.3,740.0,744.05,761.8,770.95,781.6,780.85,763.65,777.75,764.85,760.25,759.6,755.3,753.75,755.8,762.85,785.3,784.95,767.85,776.55,758.85,756.9,743.85,760.8,771.95,782.5,783.75,798.0,809.7,802.4,798.5,798.95,808.0,818.75,822.95,825.55,823.9,836.4,837.9,850.8,862.95,866.2,863.0,864.2,869.75,868.85,866.8,875.5,871.0,863.8,856.6,842.0,843.85,845.7,842.15,846.7,849.3,819.75,800.0],\"low\":[767.25,760.4,757.65,746.15,740.75,757.0,730.95,765.0,770.0,764.3,763.05,768.0,760.75,761.8,769.65,755.05,747.2,744.2,739.25,723.0,722.1,724.35,719.2,722.5,727.05,727.95,727.1,717.8,692.15,679.65,682.85,701.0,709.95,710.9,720.0,723.05,722.1,717.45,711.4,716.15,726.05,717.25,726.9,733.6,732.05,750.0,764.65,766.0,753.45,759.35,754.7,749.8,745.65,736.0,738.85,743.3,738.3,756.25,765.05,759.45,760.05,750.35,730.6,722.5,742.0,726.9,760.1,775.1,773.3,792.25,786.3,789.6,787.0,785.2,797.25,808.0,809.2,812.4,810.0,820.1,836.7,847.15,857.8,835.0,851.25,860.8,858.5,856.75,856.85,855.65,850.25,836.45,832.8,831.5,830.35,832.0,835.2,825.95,784.3,761.65],\"open\":[771.1,764.0,768.05,759.95,768.8,757.0,732.3,779.2,770.0,772.0,767.95,770.7,762.7,770.3,784.4,758.5,749.15,749.95,739.9,727.0,729.0,726.9,729.95,724.9,732.95,732.95,737.95,718.85,693.4,692.25,701.8,716.9,719.0,712.65,729.2,727.8,722.8,727.95,721.85,729.45,735.0,732.95,738.15,740.55,761.8,769.65,780.8,766.3,763.65,765.0,759.4,752.5,756.2,740.0,747.2,751.95,762.85,784.95,765.05,766.9,761.65,753.7,730.6,742.95,760.35,771.95,781.0,778.05,798.0,801.9,795.0,796.85,788.75,802.7,817.25,813.0,825.0,818.35,833.8,822.05,850.2,859.75,859.0,853.7,862.5,865.75,862.0,862.95,866.95,861.65,854.4,836.45,836.2,842.0,834.95,839.3,844.75,826.25,785.65,800.0],\"x\":[\"2025-04-17T00:00:00\",\"2025-04-16T00:00:00\",\"2025-04-15T00:00:00\",\"2025-04-11T00:00:00\",\"2025-04-09T00:00:00\",\"2025-04-08T00:00:00\",\"2025-04-07T00:00:00\",\"2025-04-04T00:00:00\",\"2025-04-03T00:00:00\",\"2025-04-02T00:00:00\",\"2025-04-01T00:00:00\",\"2025-03-28T00:00:00\",\"2025-03-27T00:00:00\",\"2025-03-26T00:00:00\",\"2025-03-25T00:00:00\",\"2025-03-24T00:00:00\",\"2025-03-21T00:00:00\",\"2025-03-20T00:00:00\",\"2025-03-19T00:00:00\",\"2025-03-18T00:00:00\",\"2025-03-17T00:00:00\",\"2025-03-13T00:00:00\",\"2025-03-12T00:00:00\",\"2025-03-11T00:00:00\",\"2025-03-10T00:00:00\",\"2025-03-07T00:00:00\",\"2025-03-06T00:00:00\",\"2025-03-05T00:00:00\",\"2025-03-04T00:00:00\",\"2025-03-03T00:00:00\",\"2025-02-28T00:00:00\",\"2025-02-27T00:00:00\",\"2025-02-25T00:00:00\",\"2025-02-24T00:00:00\",\"2025-02-21T00:00:00\",\"2025-02-20T00:00:00\",\"2025-02-19T00:00:00\",\"2025-02-18T00:00:00\",\"2025-02-17T00:00:00\",\"2025-02-14T00:00:00\",\"2025-02-13T00:00:00\",\"2025-02-12T00:00:00\",\"2025-02-11T00:00:00\",\"2025-02-10T00:00:00\",\"2025-02-07T00:00:00\",\"2025-02-06T00:00:00\",\"2025-02-05T00:00:00\",\"2025-02-04T00:00:00\",\"2025-02-03T00:00:00\",\"2025-01-31T00:00:00\",\"2025-01-30T00:00:00\",\"2025-01-29T00:00:00\",\"2025-01-28T00:00:00\",\"2025-01-27T00:00:00\",\"2025-01-24T00:00:00\",\"2025-01-23T00:00:00\",\"2025-01-22T00:00:00\",\"2025-01-21T00:00:00\",\"2025-01-20T00:00:00\",\"2025-01-17T00:00:00\",\"2025-01-16T00:00:00\",\"2025-01-15T00:00:00\",\"2025-01-14T00:00:00\",\"2025-01-13T00:00:00\",\"2025-01-10T00:00:00\",\"2025-01-09T00:00:00\",\"2025-01-08T00:00:00\",\"2025-01-07T00:00:00\",\"2025-01-06T00:00:00\",\"2025-01-03T00:00:00\",\"2025-01-02T00:00:00\",\"2025-01-01T00:00:00\",\"2024-12-31T00:00:00\",\"2024-12-30T00:00:00\",\"2024-12-27T00:00:00\",\"2024-12-26T00:00:00\",\"2024-12-24T00:00:00\",\"2024-12-23T00:00:00\",\"2024-12-20T00:00:00\",\"2024-12-19T00:00:00\",\"2024-12-18T00:00:00\",\"2024-12-17T00:00:00\",\"2024-12-16T00:00:00\",\"2024-12-13T00:00:00\",\"2024-12-12T00:00:00\",\"2024-12-11T00:00:00\",\"2024-12-10T00:00:00\",\"2024-12-09T00:00:00\",\"2024-12-06T00:00:00\",\"2024-12-05T00:00:00\",\"2024-12-04T00:00:00\",\"2024-12-03T00:00:00\",\"2024-12-02T00:00:00\",\"2024-11-29T00:00:00\",\"2024-11-28T00:00:00\",\"2024-11-27T00:00:00\",\"2024-11-26T00:00:00\",\"2024-11-25T00:00:00\",\"2024-11-22T00:00:00\",\"2024-11-21T00:00:00\"],\"type\":\"candlestick\"}],                        {\"template\":{\"data\":{\"histogram2dcontour\":[{\"type\":\"histogram2dcontour\",\"colorbar\":{\"outlinewidth\":0,\"ticks\":\"\"},\"colorscale\":[[0.0,\"#0d0887\"],[0.1111111111111111,\"#46039f\"],[0.2222222222222222,\"#7201a8\"],[0.3333333333333333,\"#9c179e\"],[0.4444444444444444,\"#bd3786\"],[0.5555555555555556,\"#d8576b\"],[0.6666666666666666,\"#ed7953\"],[0.7777777777777778,\"#fb9f3a\"],[0.8888888888888888,\"#fdca26\"],[1.0,\"#f0f921\"]]}],\"choropleth\":[{\"type\":\"choropleth\",\"colorbar\":{\"outlinewidth\":0,\"ticks\":\"\"}}],\"histogram2d\":[{\"type\":\"histogram2d\",\"colorbar\":{\"outlinewidth\":0,\"ticks\":\"\"},\"colorscale\":[[0.0,\"#0d0887\"],[0.1111111111111111,\"#46039f\"],[0.2222222222222222,\"#7201a8\"],[0.3333333333333333,\"#9c179e\"],[0.4444444444444444,\"#bd3786\"],[0.5555555555555556,\"#d8576b\"],[0.6666666666666666,\"#ed7953\"],[0.7777777777777778,\"#fb9f3a\"],[0.8888888888888888,\"#fdca26\"],[1.0,\"#f0f921\"]]}],\"heatmap\":[{\"type\":\"heatmap\",\"colorbar\":{\"outlinewidth\":0,\"ticks\":\"\"},\"colorscale\":[[0.0,\"#0d0887\"],[0.1111111111111111,\"#46039f\"],[0.2222222222222222,\"#7201a8\"],[0.3333333333333333,\"#9c179e\"],[0.4444444444444444,\"#bd3786\"],[0.5555555555555556,\"#d8576b\"],[0.6666666666666666,\"#ed7953\"],[0.7777777777777778,\"#fb9f3a\"],[0.8888888888888888,\"#fdca26\"],[1.0,\"#f0f921\"]]}],\"heatmapgl\":[{\"type\":\"heatmapgl\",\"colorbar\":{\"outlinewidth\":0,\"ticks\":\"\"},\"colorscale\":[[0.0,\"#0d0887\"],[0.1111111111111111,\"#46039f\"],[0.2222222222222222,\"#7201a8\"],[0.3333333333333333,\"#9c179e\"],[0.4444444444444444,\"#bd3786\"],[0.5555555555555556,\"#d8576b\"],[0.6666666666666666,\"#ed7953\"],[0.7777777777777778,\"#fb9f3a\"],[0.8888888888888888,\"#fdca26\"],[1.0,\"#f0f921\"]]}],\"contourcarpet\":[{\"type\":\"contourcarpet\",\"colorbar\":{\"outlinewidth\":0,\"ticks\":\"\"}}],\"contour\":[{\"type\":\"contour\",\"colorbar\":{\"outlinewidth\":0,\"ticks\":\"\"},\"colorscale\":[[0.0,\"#0d0887\"],[0.1111111111111111,\"#46039f\"],[0.2222222222222222,\"#7201a8\"],[0.3333333333333333,\"#9c179e\"],[0.4444444444444444,\"#bd3786\"],[0.5555555555555556,\"#d8576b\"],[0.6666666666666666,\"#ed7953\"],[0.7777777777777778,\"#fb9f3a\"],[0.8888888888888888,\"#fdca26\"],[1.0,\"#f0f921\"]]}],\"surface\":[{\"type\":\"surface\",\"colorbar\":{\"outlinewidth\":0,\"ticks\":\"\"},\"colorscale\":[[0.0,\"#0d0887\"],[0.1111111111111111,\"#46039f\"],[0.2222222222222222,\"#7201a8\"],[0.3333333333333333,\"#9c179e\"],[0.4444444444444444,\"#bd3786\"],[0.5555555555555556,\"#d8576b\"],[0.6666666666666666,\"#ed7953\"],[0.7777777777777778,\"#fb9f3a\"],[0.8888888888888888,\"#fdca26\"],[1.0,\"#f0f921\"]]}],\"mesh3d\":[{\"type\":\"mesh3d\",\"colorbar\":{\"outlinewidth\":0,\"ticks\":\"\"}}],\"scatter\":[{\"fillpattern\":{\"fillmode\":\"overlay\",\"size\":10,\"solidity\":0.2},\"type\":\"scatter\"}],\"parcoords\":[{\"type\":\"parcoords\",\"line\":{\"colorbar\":{\"outlinewidth\":0,\"ticks\":\"\"}}}],\"scatterpolargl\":[{\"type\":\"scatterpolargl\",\"marker\":{\"colorbar\":{\"outlinewidth\":0,\"ticks\":\"\"}}}],\"bar\":[{\"error_x\":{\"color\":\"#2a3f5f\"},\"error_y\":{\"color\":\"#2a3f5f\"},\"marker\":{\"line\":{\"color\":\"#E5ECF6\",\"width\":0.5},\"pattern\":{\"fillmode\":\"overlay\",\"size\":10,\"solidity\":0.2}},\"type\":\"bar\"}],\"scattergeo\":[{\"type\":\"scattergeo\",\"marker\":{\"colorbar\":{\"outlinewidth\":0,\"ticks\":\"\"}}}],\"scatterpolar\":[{\"type\":\"scatterpolar\",\"marker\":{\"colorbar\":{\"outlinewidth\":0,\"ticks\":\"\"}}}],\"histogram\":[{\"marker\":{\"pattern\":{\"fillmode\":\"overlay\",\"size\":10,\"solidity\":0.2}},\"type\":\"histogram\"}],\"scattergl\":[{\"type\":\"scattergl\",\"marker\":{\"colorbar\":{\"outlinewidth\":0,\"ticks\":\"\"}}}],\"scatter3d\":[{\"type\":\"scatter3d\",\"line\":{\"colorbar\":{\"outlinewidth\":0,\"ticks\":\"\"}},\"marker\":{\"colorbar\":{\"outlinewidth\":0,\"ticks\":\"\"}}}],\"scattermapbox\":[{\"type\":\"scattermapbox\",\"marker\":{\"colorbar\":{\"outlinewidth\":0,\"ticks\":\"\"}}}],\"scatterternary\":[{\"type\":\"scatterternary\",\"marker\":{\"colorbar\":{\"outlinewidth\":0,\"ticks\":\"\"}}}],\"scattercarpet\":[{\"type\":\"scattercarpet\",\"marker\":{\"colorbar\":{\"outlinewidth\":0,\"ticks\":\"\"}}}],\"carpet\":[{\"aaxis\":{\"endlinecolor\":\"#2a3f5f\",\"gridcolor\":\"white\",\"linecolor\":\"white\",\"minorgridcolor\":\"white\",\"startlinecolor\":\"#2a3f5f\"},\"baxis\":{\"endlinecolor\":\"#2a3f5f\",\"gridcolor\":\"white\",\"linecolor\":\"white\",\"minorgridcolor\":\"white\",\"startlinecolor\":\"#2a3f5f\"},\"type\":\"carpet\"}],\"table\":[{\"cells\":{\"fill\":{\"color\":\"#EBF0F8\"},\"line\":{\"color\":\"white\"}},\"header\":{\"fill\":{\"color\":\"#C8D4E3\"},\"line\":{\"color\":\"white\"}},\"type\":\"table\"}],\"barpolar\":[{\"marker\":{\"line\":{\"color\":\"#E5ECF6\",\"width\":0.5},\"pattern\":{\"fillmode\":\"overlay\",\"size\":10,\"solidity\":0.2}},\"type\":\"barpolar\"}],\"pie\":[{\"automargin\":true,\"type\":\"pie\"}]},\"layout\":{\"autotypenumbers\":\"strict\",\"colorway\":[\"#636efa\",\"#EF553B\",\"#00cc96\",\"#ab63fa\",\"#FFA15A\",\"#19d3f3\",\"#FF6692\",\"#B6E880\",\"#FF97FF\",\"#FECB52\"],\"font\":{\"color\":\"#2a3f5f\"},\"hovermode\":\"closest\",\"hoverlabel\":{\"align\":\"left\"},\"paper_bgcolor\":\"white\",\"plot_bgcolor\":\"#E5ECF6\",\"polar\":{\"bgcolor\":\"#E5ECF6\",\"angularaxis\":{\"gridcolor\":\"white\",\"linecolor\":\"white\",\"ticks\":\"\"},\"radialaxis\":{\"gridcolor\":\"white\",\"linecolor\":\"white\",\"ticks\":\"\"}},\"ternary\":{\"bgcolor\":\"#E5ECF6\",\"aaxis\":{\"gridcolor\":\"white\",\"linecolor\":\"white\",\"ticks\":\"\"},\"baxis\":{\"gridcolor\":\"white\",\"linecolor\":\"white\",\"ticks\":\"\"},\"caxis\":{\"gridcolor\":\"white\",\"linecolor\":\"white\",\"ticks\":\"\"}},\"coloraxis\":{\"colorbar\":{\"outlinewidth\":0,\"ticks\":\"\"}},\"colorscale\":{\"sequential\":[[0.0,\"#0d0887\"],[0.1111111111111111,\"#46039f\"],[0.2222222222222222,\"#7201a8\"],[0.3333333333333333,\"#9c179e\"],[0.4444444444444444,\"#bd3786\"],[0.5555555555555556,\"#d8576b\"],[0.6666666666666666,\"#ed7953\"],[0.7777777777777778,\"#fb9f3a\"],[0.8888888888888888,\"#fdca26\"],[1.0,\"#f0f921\"]],\"sequentialminus\":[[0.0,\"#0d0887\"],[0.1111111111111111,\"#46039f\"],[0.2222222222222222,\"#7201a8\"],[0.3333333333333333,\"#9c179e\"],[0.4444444444444444,\"#bd3786\"],[0.5555555555555556,\"#d8576b\"],[0.6666666666666666,\"#ed7953\"],[0.7777777777777778,\"#fb9f3a\"],[0.8888888888888888,\"#fdca26\"],[1.0,\"#f0f921\"]],\"diverging\":[[0,\"#8e0152\"],[0.1,\"#c51b7d\"],[0.2,\"#de77ae\"],[0.3,\"#f1b6da\"],[0.4,\"#fde0ef\"],[0.5,\"#f7f7f7\"],[0.6,\"#e6f5d0\"],[0.7,\"#b8e186\"],[0.8,\"#7fbc41\"],[0.9,\"#4d9221\"],[1,\"#276419\"]]},\"xaxis\":{\"gridcolor\":\"white\",\"linecolor\":\"white\",\"ticks\":\"\",\"title\":{\"standoff\":15},\"zerolinecolor\":\"white\",\"automargin\":true,\"zerolinewidth\":2},\"yaxis\":{\"gridcolor\":\"white\",\"linecolor\":\"white\",\"ticks\":\"\",\"title\":{\"standoff\":15},\"zerolinecolor\":\"white\",\"automargin\":true,\"zerolinewidth\":2},\"scene\":{\"xaxis\":{\"backgroundcolor\":\"#E5ECF6\",\"gridcolor\":\"white\",\"linecolor\":\"white\",\"showbackground\":true,\"ticks\":\"\",\"zerolinecolor\":\"white\",\"gridwidth\":2},\"yaxis\":{\"backgroundcolor\":\"#E5ECF6\",\"gridcolor\":\"white\",\"linecolor\":\"white\",\"showbackground\":true,\"ticks\":\"\",\"zerolinecolor\":\"white\",\"gridwidth\":2},\"zaxis\":{\"backgroundcolor\":\"#E5ECF6\",\"gridcolor\":\"white\",\"linecolor\":\"white\",\"showbackground\":true,\"ticks\":\"\",\"zerolinecolor\":\"white\",\"gridwidth\":2}},\"shapedefaults\":{\"line\":{\"color\":\"#2a3f5f\"}},\"annotationdefaults\":{\"arrowcolor\":\"#2a3f5f\",\"arrowhead\":0,\"arrowwidth\":1},\"geo\":{\"bgcolor\":\"white\",\"landcolor\":\"#E5ECF6\",\"subunitcolor\":\"white\",\"showland\":true,\"showlakes\":true,\"lakecolor\":\"white\"},\"title\":{\"x\":0.05},\"mapbox\":{\"style\":\"light\"}}}},                        {\"responsive\": true}                    ).then(function(){\n",
              "                            \n",
              "var gd = document.getElementById('ae257ca5-a30c-4340-9a23-b5fdabc6c7da');\n",
              "var x = new MutationObserver(function (mutations, observer) {{\n",
              "        var display = window.getComputedStyle(gd).display;\n",
              "        if (!display || display === 'none') {{\n",
              "            console.log([gd, 'removed!']);\n",
              "            Plotly.purge(gd);\n",
              "            observer.disconnect();\n",
              "        }}\n",
              "}});\n",
              "\n",
              "// Listen for the removal of the full notebook cells\n",
              "var notebookContainer = gd.closest('#notebook-container');\n",
              "if (notebookContainer) {{\n",
              "    x.observe(notebookContainer, {childList: true});\n",
              "}}\n",
              "\n",
              "// Listen for the clearing of the current output cell\n",
              "var outputEl = gd.closest('.output');\n",
              "if (outputEl) {{\n",
              "    x.observe(outputEl, {childList: true});\n",
              "}}\n",
              "\n",
              "                        })                };                            </script>        </div>\n",
              "</body>\n",
              "</html>"
            ]
          },
          "metadata": {}
        }
      ]
    },
    {
      "cell_type": "code",
      "source": [
        "\n",
        "def calculate_profit_loss(\n",
        "    data: dict,\n",
        "    shooting_star_df: pd.DataFrame,\n",
        "    lookback: int = 5,\n",
        "    take_profit_pct=0.1,\n",
        "    stop_pct: float = 0.1\n",
        "):\n",
        "    \"\"\"\n",
        "    For each spinning top date, enter next day:\n",
        "      - If prior lookback days form downtrend, go LONG; else SHORT.\n",
        "      - Exit when profit or loss reaches stop_pct of entry price.\n",
        "      - Simulate day-by-day until exit.\n",
        "    Returns total P/L and list of trades.\n",
        "    \"\"\"\n",
        "    ts = data.get('Time Series (Daily)', {})\n",
        "    df = pd.DataFrame.from_dict(ts, orient='index').astype(float)\n",
        "    df.columns = ['Open', 'High', 'Low', 'Close', 'Volume']\n",
        "    df.index = pd.to_datetime(df.index)\n",
        "    trades = []\n",
        "    total_pnl=0\n",
        "\n",
        "    dates = shooting_star_df['date']\n",
        "    sorted_dates = [dt.strftime('%Y-%m-%d') for dt in df.index]\n",
        "    # print(ts[sorted_dates[0]])\n",
        "    # print(sorted_dates)\n",
        "    for date in dates:\n",
        "      idx = sorted_dates.index(date)\n",
        "      prev_candle_str = sorted_dates[idx + 1 : idx + lookback]\n",
        "      prev_candles = [ts[d] for d in prev_candle_str]\n",
        "\n",
        "      if idx == 0:\n",
        "            continue\n",
        "      entry_idx   = idx - 1\n",
        "      entry_dt    = df.index[entry_idx]\n",
        "      entry_price = df.at[entry_dt, 'Open']\n",
        "      close = df.at[entry_dt,'Close']\n",
        "\n",
        "      if is_uptrend(prev_candles):\n",
        "          direction       = 'short'\n",
        "          profit_target   = entry_price * (1 - take_profit_pct)\n",
        "          stop_loss_level = entry_price * (1 + stop_pct)\n",
        "\n",
        "      else :\n",
        "        continue\n",
        "\n",
        "      # now scan only **future** days: these are at indices entry_idx-1, entry_idx-2, …, 0\n",
        "      exit_dt    = None\n",
        "      exit_price = None\n",
        "      for future_idx in range(entry_idx, -1, -1):\n",
        "          trade_dt = df.index[future_idx]\n",
        "          high = df.at[trade_dt, 'High']\n",
        "          low  = df.at[trade_dt, 'Low']\n",
        "          open = df.at[trade_dt,'Open']\n",
        "\n",
        "          if direction == 'short':  # short\n",
        "              if low <= profit_target:\n",
        "                  exit_price = profit_target\n",
        "                  exit_dt    = trade_dt\n",
        "                  break\n",
        "              if high >= stop_loss_level:\n",
        "                  exit_price = stop_loss_level\n",
        "                  exit_dt    = trade_dt\n",
        "                  break\n",
        "\n",
        "      # fallback: exit at last available close (chronologically oldest)\n",
        "      if exit_dt is None:\n",
        "          exit_dt    = df.index[-1]\n",
        "          exit_price = entry_price\n",
        "\n",
        "      pnl = (exit_price - entry_price) if direction == 'long' else (entry_price - exit_price)\n",
        "      total_pnl += pnl\n",
        "\n",
        "      trades.append({\n",
        "          'entry_date':  entry_dt,\n",
        "          'entry_price': entry_price,\n",
        "          'exit_date':   exit_dt,\n",
        "          'exit_price':  exit_price,\n",
        "          'direction':   direction,\n",
        "          'pnl':         pnl\n",
        "      })\n",
        "    return total_pnl, trades"
      ],
      "metadata": {
        "id": "WLLGPKFszAL0"
      },
      "execution_count": 84,
      "outputs": []
    },
    {
      "cell_type": "code",
      "source": [
        "total_profit_loss, trades = calculate_profit_loss(data, shooting_star_df)\n",
        "\n",
        "print(f\"Total Profit/Loss: {total_profit_loss}\")\n",
        "for trade in trades:\n",
        "    print(f\"Buy on {trade['entry_date']} at {trade['entry_price']}, Sell on {trade['exit_date']} at {trade['exit_price']}, Profit/Loss: {trade['pnl']}\")"
      ],
      "metadata": {
        "colab": {
          "base_uri": "https://localhost:8080/"
        },
        "id": "Y351-W7nzsMF",
        "outputId": "df5e4aed-f0e8-4720-b72c-32b266f3ffb4"
      },
      "execution_count": 91,
      "outputs": [
        {
          "output_type": "stream",
          "name": "stdout",
          "text": [
            "Total Profit/Loss: 285.88\n",
            "Buy on 2025-04-04 00:00:00 at 650.95, Sell on 2025-04-07 00:00:00 at 585.855, Profit/Loss: 65.09500000000003\n",
            "Buy on 2025-03-27 00:00:00 at 673.95, Sell on 2025-04-07 00:00:00 at 606.5550000000001, Profit/Loss: 67.39499999999998\n",
            "Buy on 2024-12-30 00:00:00 at 753.5, Sell on 2025-02-11 00:00:00 at 678.15, Profit/Loss: 75.35000000000002\n",
            "Buy on 2024-11-29 00:00:00 at 780.4, Sell on 2025-01-30 00:00:00 at 702.36, Profit/Loss: 78.03999999999996\n"
          ]
        }
      ]
    },
    {
      "cell_type": "code",
      "source": [],
      "metadata": {
        "id": "xJQrKKUxZMog"
      },
      "execution_count": null,
      "outputs": []
    }
  ]
}