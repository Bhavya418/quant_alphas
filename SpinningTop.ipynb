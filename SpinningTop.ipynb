{
  "nbformat": 4,
  "nbformat_minor": 0,
  "metadata": {
    "colab": {
      "provenance": []
    },
    "kernelspec": {
      "name": "python3",
      "display_name": "Python 3"
    },
    "language_info": {
      "name": "python"
    }
  },
  "cells": [
    {
      "cell_type": "code",
      "source": [
        "!pip install plotly\n",
        "!pip install mplfinance"
      ],
      "metadata": {
        "colab": {
          "base_uri": "https://localhost:8080/"
        },
        "id": "9jrmll0MaimF",
        "outputId": "40f8bc59-1a49-4fdc-dbe7-fb8d00a065a6"
      },
      "execution_count": 1,
      "outputs": [
        {
          "output_type": "stream",
          "name": "stdout",
          "text": [
            "Requirement already satisfied: plotly in /usr/local/lib/python3.11/dist-packages (5.24.1)\n",
            "Requirement already satisfied: tenacity>=6.2.0 in /usr/local/lib/python3.11/dist-packages (from plotly) (9.1.2)\n",
            "Requirement already satisfied: packaging in /usr/local/lib/python3.11/dist-packages (from plotly) (24.2)\n",
            "Collecting mplfinance\n",
            "  Downloading mplfinance-0.12.10b0-py3-none-any.whl.metadata (19 kB)\n",
            "Requirement already satisfied: matplotlib in /usr/local/lib/python3.11/dist-packages (from mplfinance) (3.10.0)\n",
            "Requirement already satisfied: pandas in /usr/local/lib/python3.11/dist-packages (from mplfinance) (2.2.2)\n",
            "Requirement already satisfied: contourpy>=1.0.1 in /usr/local/lib/python3.11/dist-packages (from matplotlib->mplfinance) (1.3.2)\n",
            "Requirement already satisfied: cycler>=0.10 in /usr/local/lib/python3.11/dist-packages (from matplotlib->mplfinance) (0.12.1)\n",
            "Requirement already satisfied: fonttools>=4.22.0 in /usr/local/lib/python3.11/dist-packages (from matplotlib->mplfinance) (4.57.0)\n",
            "Requirement already satisfied: kiwisolver>=1.3.1 in /usr/local/lib/python3.11/dist-packages (from matplotlib->mplfinance) (1.4.8)\n",
            "Requirement already satisfied: numpy>=1.23 in /usr/local/lib/python3.11/dist-packages (from matplotlib->mplfinance) (2.0.2)\n",
            "Requirement already satisfied: packaging>=20.0 in /usr/local/lib/python3.11/dist-packages (from matplotlib->mplfinance) (24.2)\n",
            "Requirement already satisfied: pillow>=8 in /usr/local/lib/python3.11/dist-packages (from matplotlib->mplfinance) (11.1.0)\n",
            "Requirement already satisfied: pyparsing>=2.3.1 in /usr/local/lib/python3.11/dist-packages (from matplotlib->mplfinance) (3.2.3)\n",
            "Requirement already satisfied: python-dateutil>=2.7 in /usr/local/lib/python3.11/dist-packages (from matplotlib->mplfinance) (2.8.2)\n",
            "Requirement already satisfied: pytz>=2020.1 in /usr/local/lib/python3.11/dist-packages (from pandas->mplfinance) (2025.2)\n",
            "Requirement already satisfied: tzdata>=2022.7 in /usr/local/lib/python3.11/dist-packages (from pandas->mplfinance) (2025.2)\n",
            "Requirement already satisfied: six>=1.5 in /usr/local/lib/python3.11/dist-packages (from python-dateutil>=2.7->matplotlib->mplfinance) (1.17.0)\n",
            "Downloading mplfinance-0.12.10b0-py3-none-any.whl (75 kB)\n",
            "\u001b[2K   \u001b[90m━━━━━━━━━━━━━━━━━━━━━━━━━━━━━━━━━━━━━━━━\u001b[0m \u001b[32m75.0/75.0 kB\u001b[0m \u001b[31m1.7 MB/s\u001b[0m eta \u001b[36m0:00:00\u001b[0m\n",
            "\u001b[?25hInstalling collected packages: mplfinance\n",
            "Successfully installed mplfinance-0.12.10b0\n"
          ]
        }
      ]
    },
    {
      "cell_type": "code",
      "execution_count": 2,
      "metadata": {
        "id": "3xeLVkbdIoTj"
      },
      "outputs": [],
      "source": [
        "import pandas as pd\n",
        "import mplfinance as mpf\n",
        "import matplotlib.pyplot as plt\n",
        "import requests\n",
        "import plotly.graph_objects as go\n",
        "from datetime import datetime\n",
        "import numpy as np\n"
      ]
    },
    {
      "cell_type": "markdown",
      "source": [
        "Function to check for symbols"
      ],
      "metadata": {
        "id": "dQC3lh5TyoMJ"
      }
    },
    {
      "cell_type": "code",
      "source": [
        "url = 'https://www.alphavantage.co/query?function=SYMBOL_SEARCH&keywords=tata&apikey=SHEYWPL1ZYCDZ17D'\n",
        "r = requests.get(url)\n",
        "data = r.json()\n",
        "\n",
        "print(data)"
      ],
      "metadata": {
        "id": "p7upZSwOymOY",
        "colab": {
          "base_uri": "https://localhost:8080/"
        },
        "outputId": "b58d8ae3-50ed-4e7e-e8e3-a7c923423834"
      },
      "execution_count": 3,
      "outputs": [
        {
          "output_type": "stream",
          "name": "stdout",
          "text": [
            "{'bestMatches': [{'1. symbol': 'TATACHEM.BSE', '2. name': 'TATA CHEMICALS LTD.', '3. type': 'Equity', '4. region': 'India/Bombay', '5. marketOpen': '09:15', '6. marketClose': '15:30', '7. timezone': 'UTC+5.5', '8. currency': 'INR', '9. matchScore': '0.5333'}, {'1. symbol': 'TATACOMM.BSE', '2. name': 'TATA COMMUNICATIONS LTD.', '3. type': 'Equity', '4. region': 'India/Bombay', '5. marketOpen': '09:15', '6. marketClose': '15:30', '7. timezone': 'UTC+5.5', '8. currency': 'INR', '9. matchScore': '0.5333'}, {'1. symbol': 'TATAELXSI.BSE', '2. name': 'Tata Elxsi Limited', '3. type': 'Equity', '4. region': 'India/Bombay', '5. marketOpen': '09:15', '6. marketClose': '15:30', '7. timezone': 'UTC+5.5', '8. currency': 'INR', '9. matchScore': '0.5000'}, {'1. symbol': 'TATAPOWER.BSE', '2. name': 'TATA POWER CO.LTD.', '3. type': 'Equity', '4. region': 'India/Bombay', '5. marketOpen': '09:15', '6. marketClose': '15:30', '7. timezone': 'UTC+5.5', '8. currency': 'INR', '9. matchScore': '0.5000'}, {'1. symbol': 'TATASTEEL.BSE', '2. name': 'Tata Steel Limited', '3. type': 'Equity', '4. region': 'India/Bombay', '5. marketOpen': '09:15', '6. marketClose': '15:30', '7. timezone': 'UTC+5.5', '8. currency': 'INR', '9. matchScore': '0.5000'}, {'1. symbol': 'TATACONSUM.BSE', '2. name': 'Tata Consumer Products Ltd', '3. type': 'Equity', '4. region': 'India/Bombay', '5. marketOpen': '09:15', '6. marketClose': '15:30', '7. timezone': 'UTC+5.5', '8. currency': 'INR', '9. matchScore': '0.4706'}, {'1. symbol': 'TATAINVEST.BSE', '2. name': 'TATA INVESTMENT CORPORATION LTD.', '3. type': 'Equity', '4. region': 'India/Bombay', '5. marketOpen': '09:15', '6. marketClose': '15:30', '7. timezone': 'UTC+5.5', '8. currency': 'INR', '9. matchScore': '0.4706'}, {'1. symbol': 'TATAMOTORS.BSE', '2. name': 'Tata Motors Limited', '3. type': 'Equity', '4. region': 'India/Bombay', '5. marketOpen': '09:15', '6. marketClose': '15:30', '7. timezone': 'UTC+5.5', '8. currency': 'INR', '9. matchScore': '0.4706'}, {'1. symbol': 'TATAYODOGA.BSE', '2. name': 'TAYO ROLLS LTD.-$', '3. type': 'Equity', '4. region': 'India/Bombay', '5. marketOpen': '09:15', '6. marketClose': '15:30', '7. timezone': 'UTC+5.5', '8. currency': 'INR', '9. matchScore': '0.4706'}, {'1. symbol': 'TCS.BSE', '2. name': 'Tata Consultancy Services Limited', '3. type': 'Equity', '4. region': 'India/Bombay', '5. marketOpen': '09:15', '6. marketClose': '15:30', '7. timezone': 'UTC+5.5', '8. currency': 'INR', '9. matchScore': '0.2162'}]}\n"
          ]
        }
      ]
    },
    {
      "cell_type": "code",
      "source": [
        "def fetch_daily_ohlc(symbol, apikey):\n",
        "    url = f\"https://www.alphavantage.co/query?function=TIME_SERIES_DAILY&symbol={symbol}&outputsize=compact&apikey={apikey}\"\n",
        "    r = requests.get(url)\n",
        "    return r.json()\n"
      ],
      "metadata": {
        "id": "nGN1KepVKZmr"
      },
      "execution_count": 4,
      "outputs": []
    },
    {
      "cell_type": "code",
      "source": [
        "def calculate_percentage_differences(val1, val2):\n",
        "    return abs(val1 - val2) / val2 * 100\n",
        "\n",
        "\n",
        "def calculate_candle_length_percentage(open_price, close_price):\n",
        "    return abs(close_price - open_price) / open_price * 100"
      ],
      "metadata": {
        "id": "1kmeRYFRMgK7"
      },
      "execution_count": 5,
      "outputs": []
    },
    {
      "cell_type": "code",
      "source": [
        "def is_downtrend(candles, window=2):\n",
        "    \"\"\"Check for a downtrend using moving average of LOW prices\"\"\"\n",
        "    low_prices =[float(c[\"3. low\"]) for c in candles]\n",
        "\n",
        "    if len(low_prices) < window:\n",
        "        return True  # not enough data to form a trend\n",
        "\n",
        "    moving_avg = [np.mean(low_prices[i:i+window]) for i in range(len(low_prices) - window + 1)]\n",
        "\n",
        "    return all(earlier <= later for earlier, later in zip(moving_avg, moving_avg[1:]))\n",
        "\n",
        "def is_uptrend(candles, window=2):\n",
        "    \"\"\"Check for an uptrend using moving average of LOW prices\"\"\"\n",
        "    low_prices = [float(c[\"3. low\"]) for c in candles]\n",
        "\n",
        "    if len(low_prices) < window:\n",
        "        return True  # not enough data to form a trend\n",
        "\n",
        "    moving_avg = [np.mean(low_prices[i:i+window]) for i in range(len(low_prices) - window + 1)]\n",
        "\n",
        "    return all(earlier >= later for earlier, later in zip(moving_avg, moving_avg[1:]))\n"
      ],
      "metadata": {
        "id": "pbkSZfH2xh3_"
      },
      "execution_count": 139,
      "outputs": []
    },
    {
      "cell_type": "code",
      "source": [
        "def is_spinning(candle,\n",
        "    upper_wick_threshold=1.0,\n",
        "    lower_wick_threshold=1.0,\n",
        "    min_candle_length=1.0,\n",
        "    max_candle_length=10.0,\n",
        "    body_percent=0.32,\n",
        "    shadow_threshold=0.04):\n",
        "\n",
        "    open_price = float(candle[\"1. open\"])\n",
        "    close_price = float(candle[\"4. close\"])\n",
        "    high_price = float(candle[\"2. high\"])\n",
        "    low_price = float(candle[\"3. low\"])\n",
        "\n",
        "    high_close_diff_pct = calculate_percentage_differences(high_price, close_price)\n",
        "    open_low_diff_pct = calculate_percentage_differences(open_price, low_price)\n",
        "    high_open_diff_pct = calculate_percentage_differences(high_price, open_price)\n",
        "    close_low_diff_pct = calculate_percentage_differences(close_price, low_price)\n",
        "\n",
        "    candle_length_pct = calculate_candle_length_percentage(open_price, close_price)\n",
        "\n",
        "    total_range = abs(high_price-low_price)\n",
        "    body_size = abs(open_price-close_price)\n",
        "    upper_wick = high_price - max(open_price, close_price)\n",
        "    lower_wick = min(open_price, close_price) - low_price\n",
        "\n",
        "    upper_wick_pct = calculate_percentage_differences(high_price, max(open_price, close_price))\n",
        "    lower_wick_pct = calculate_percentage_differences(min(open_price, close_price), low_price)\n",
        "    # print(body_size,body_percent,total_range)\n",
        "    if body_size > body_percent * total_range:\n",
        "        return False\n",
        "\n",
        "    if abs(upper_wick - lower_wick) > shadow_threshold*100:\n",
        "        return False\n",
        "\n",
        "    return True\n",
        "\n",
        "\n",
        "def detect_spinningTop(data,\n",
        "    upper_wick_threshold=1.0,\n",
        "    lower_wick_threshold=1.0,\n",
        "    min_candle_length=1.0,\n",
        "    max_candle_length=10.0):\n",
        "    time_series = data.get(\"Time Series (Daily)\", {})\n",
        "    results = []\n",
        "\n",
        "    for date, candle in time_series.items():\n",
        "        if is_spinning(\n",
        "            candle,\n",
        "            upper_wick_threshold,\n",
        "            lower_wick_threshold,\n",
        "            min_candle_length,\n",
        "            max_candle_length\n",
        "        ):\n",
        "            results.append({\n",
        "                \"date\": date,\n",
        "                \"open\": float(candle[\"1. open\"]),\n",
        "                \"high\": float(candle[\"2. high\"]),\n",
        "                \"low\": float(candle[\"3. low\"]),\n",
        "                \"close\": float(candle[\"4. close\"]),\n",
        "                \"volume\": int(candle[\"5. volume\"])\n",
        "            })\n",
        "\n",
        "    return results"
      ],
      "metadata": {
        "id": "W80-MXoXO-L2"
      },
      "execution_count": 67,
      "outputs": []
    },
    {
      "cell_type": "code",
      "source": [
        "def detect_all_spinning(data,\n",
        "    upper_wick_threshold=1.0,\n",
        "    lower_wick_threshold=1.0,\n",
        "    min_candle_length=1.0,\n",
        "    max_candle_length=10.0):\n",
        "    print(data)\n",
        "    results = detect_spinningTop(\n",
        "        data,\n",
        "        upper_wick_threshold,\n",
        "        lower_wick_threshold,\n",
        "        min_candle_length,\n",
        "        max_candle_length\n",
        "    )\n",
        "\n",
        "    return pd.DataFrame(results)\n"
      ],
      "metadata": {
        "id": "amWwyhnAPPsG"
      },
      "execution_count": 33,
      "outputs": []
    },
    {
      "cell_type": "code",
      "source": [
        "def plot_candlestick_with_spinning(data, spinning_df):\n",
        "    # Extract the time series data and convert it into a DataFrame\n",
        "    time_series = data.get(\"Time Series (Daily)\", {})\n",
        "\n",
        "    # Convert the time series into a DataFrame\n",
        "    df = pd.DataFrame.from_dict(time_series, orient='index')\n",
        "\n",
        "    # Convert all values to float and rename columns for mplfinance compatibility\n",
        "    df = df[['1. open', '2. high', '3. low', '4. close', '5. volume']].astype(float)\n",
        "    df.columns = ['Open', 'High', 'Low', 'Close', 'Volume']\n",
        "\n",
        "    # Convert the index to datetime\n",
        "    df.index = pd.to_datetime(df.index)\n",
        "    fig = go.Figure(data=[go.Candlestick(x=df.index,\n",
        "                open=df['Open'],\n",
        "                high=df['High'],\n",
        "                low=df['Low'],\n",
        "                close=df['Close'])])\n",
        "\n",
        "    fig.show()"
      ],
      "metadata": {
        "id": "izHBleJxqj-7"
      },
      "execution_count": 34,
      "outputs": []
    },
    {
      "cell_type": "code",
      "source": [
        "apikey = \"SHEYWPL1ZYCDZ17D\"\n",
        "symbol = \"SBIN.BSE\"\n",
        "data = fetch_daily_ohlc(symbol, apikey)\n",
        "\n",
        "spinning_df = detect_all_spinning(\n",
        "        data,\n",
        "        upper_wick_threshold=0.5,\n",
        "        lower_wick_threshold=0.5,\n",
        "        min_candle_length=1.0,\n",
        "        max_candle_length=10.0\n",
        ")\n",
        "\n",
        "print(\"Detected Spinning Candles:\")\n",
        "print(spinning_df)\n"
      ],
      "metadata": {
        "id": "y59LXJJPQ1q5"
      },
      "execution_count": null,
      "outputs": []
    },
    {
      "cell_type": "code",
      "source": [
        "plot_candlestick_with_spinning(data, spinning_df)"
      ],
      "metadata": {
        "colab": {
          "base_uri": "https://localhost:8080/",
          "height": 542
        },
        "id": "I7GnaTk8k8BG",
        "outputId": "e5327f9c-79c3-4710-ba8d-2276a8f6f51f"
      },
      "execution_count": 123,
      "outputs": [
        {
          "output_type": "display_data",
          "data": {
            "text/html": [
              "<html>\n",
              "<head><meta charset=\"utf-8\" /></head>\n",
              "<body>\n",
              "    <div>            <script src=\"https://cdnjs.cloudflare.com/ajax/libs/mathjax/2.7.5/MathJax.js?config=TeX-AMS-MML_SVG\"></script><script type=\"text/javascript\">if (window.MathJax && window.MathJax.Hub && window.MathJax.Hub.Config) {window.MathJax.Hub.Config({SVG: {font: \"STIX-Web\"}});}</script>                <script type=\"text/javascript\">window.PlotlyConfig = {MathJaxConfig: 'local'};</script>\n",
              "        <script charset=\"utf-8\" src=\"https://cdn.plot.ly/plotly-2.35.2.min.js\"></script>                <div id=\"4f1aba04-d76e-4f75-bc49-474214a9c32b\" class=\"plotly-graph-div\" style=\"height:525px; width:100%;\"></div>            <script type=\"text/javascript\">                                    window.PLOTLYENV=window.PLOTLYENV || {};                                    if (document.getElementById(\"4f1aba04-d76e-4f75-bc49-474214a9c32b\")) {                    Plotly.newPlot(                        \"4f1aba04-d76e-4f75-bc49-474214a9c32b\",                        [{\"close\":[797.1,771.75,763.3,754.05,742.05,768.4,746.75,767.8,779.2,775.85,771.5,771.6,772.4,763.35,773.05,781.4,753.0,749.2,745.05,737.05,722.7,727.75,722.9,729.95,728.35,732.75,731.95,730.25,716.15,695.15,688.25,703.95,711.0,716.4,721.55,729.65,726.8,725.75,728.05,722.0,727.3,733.25,731.0,736.85,737.05,752.35,766.1,779.2,761.0,773.1,762.2,758.7,751.65,749.2,744.35,745.95,753.25,759.0,779.05,764.1,766.4,754.0,748.1,729.6,743.15,760.35,771.2,779.0,776.75,793.5,801.05,793.35,795.05,788.3,799.55,811.65,811.85,820.95,812.5,832.8,839.05,850.2,860.7,861.7,853.75,861.55,867.6,857.85,864.0,864.85,859.45,853.95,836.2,839.0,838.75,834.2,839.35,844.75,816.05,780.85],\"high\":[801.0,774.55,770.6,759.95,769.0,774.1,752.95,782.25,784.85,776.8,782.5,778.45,775.0,775.95,786.0,783.15,755.4,752.8,749.0,738.5,730.95,731.45,736.5,733.9,738.45,734.9,737.95,731.0,718.15,696.85,701.8,716.9,719.0,719.8,732.0,731.8,734.75,727.95,728.95,732.7,737.3,738.3,740.0,744.05,761.8,770.95,781.6,780.85,763.65,777.75,764.85,760.25,759.6,755.3,753.75,755.8,762.85,785.3,784.95,767.85,776.55,758.85,756.9,743.85,760.8,771.95,782.5,783.75,798.0,809.7,802.4,798.5,798.95,808.0,818.75,822.95,825.55,823.9,836.4,837.9,850.8,862.95,866.2,863.0,864.2,869.75,868.85,866.8,875.5,871.0,863.8,856.6,842.0,843.85,845.7,842.15,846.7,849.3,819.75,800.0],\"low\":[767.25,760.4,757.65,746.15,740.75,757.0,730.95,765.0,770.0,764.3,763.05,768.0,760.75,761.8,769.65,755.05,747.2,744.2,739.25,723.0,722.1,724.35,719.2,722.5,727.05,727.95,727.1,717.8,692.15,679.65,682.85,701.0,709.95,710.9,720.0,723.05,722.1,717.45,711.4,716.15,726.05,717.25,726.9,733.6,732.05,750.0,764.65,766.0,753.45,759.35,754.7,749.8,745.65,736.0,738.85,743.3,738.3,756.25,765.05,759.45,760.05,750.35,730.6,722.5,742.0,726.9,760.1,775.1,773.3,792.25,786.3,789.6,787.0,785.2,797.25,808.0,809.2,812.4,810.0,820.1,836.7,847.15,857.8,835.0,851.25,860.8,858.5,856.75,856.85,855.65,850.25,836.45,832.8,831.5,830.35,832.0,835.2,825.95,784.3,761.65],\"open\":[771.1,764.0,768.05,759.95,768.8,757.0,732.3,779.2,770.0,772.0,767.95,770.7,762.7,770.3,784.4,758.5,749.15,749.95,739.9,727.0,729.0,726.9,729.95,724.9,732.95,732.95,737.95,718.85,693.4,692.25,701.8,716.9,719.0,712.65,729.2,727.8,722.8,727.95,721.85,729.45,735.0,732.95,738.15,740.55,761.8,769.65,780.8,766.3,763.65,765.0,759.4,752.5,756.2,740.0,747.2,751.95,762.85,784.95,765.05,766.9,761.65,753.7,730.6,742.95,760.35,771.95,781.0,778.05,798.0,801.9,795.0,796.85,788.75,802.7,817.25,813.0,825.0,818.35,833.8,822.05,850.2,859.75,859.0,853.7,862.5,865.75,862.0,862.95,866.95,861.65,854.4,836.45,836.2,842.0,834.95,839.3,844.75,826.25,785.65,800.0],\"x\":[\"2025-04-17T00:00:00\",\"2025-04-16T00:00:00\",\"2025-04-15T00:00:00\",\"2025-04-11T00:00:00\",\"2025-04-09T00:00:00\",\"2025-04-08T00:00:00\",\"2025-04-07T00:00:00\",\"2025-04-04T00:00:00\",\"2025-04-03T00:00:00\",\"2025-04-02T00:00:00\",\"2025-04-01T00:00:00\",\"2025-03-28T00:00:00\",\"2025-03-27T00:00:00\",\"2025-03-26T00:00:00\",\"2025-03-25T00:00:00\",\"2025-03-24T00:00:00\",\"2025-03-21T00:00:00\",\"2025-03-20T00:00:00\",\"2025-03-19T00:00:00\",\"2025-03-18T00:00:00\",\"2025-03-17T00:00:00\",\"2025-03-13T00:00:00\",\"2025-03-12T00:00:00\",\"2025-03-11T00:00:00\",\"2025-03-10T00:00:00\",\"2025-03-07T00:00:00\",\"2025-03-06T00:00:00\",\"2025-03-05T00:00:00\",\"2025-03-04T00:00:00\",\"2025-03-03T00:00:00\",\"2025-02-28T00:00:00\",\"2025-02-27T00:00:00\",\"2025-02-25T00:00:00\",\"2025-02-24T00:00:00\",\"2025-02-21T00:00:00\",\"2025-02-20T00:00:00\",\"2025-02-19T00:00:00\",\"2025-02-18T00:00:00\",\"2025-02-17T00:00:00\",\"2025-02-14T00:00:00\",\"2025-02-13T00:00:00\",\"2025-02-12T00:00:00\",\"2025-02-11T00:00:00\",\"2025-02-10T00:00:00\",\"2025-02-07T00:00:00\",\"2025-02-06T00:00:00\",\"2025-02-05T00:00:00\",\"2025-02-04T00:00:00\",\"2025-02-03T00:00:00\",\"2025-01-31T00:00:00\",\"2025-01-30T00:00:00\",\"2025-01-29T00:00:00\",\"2025-01-28T00:00:00\",\"2025-01-27T00:00:00\",\"2025-01-24T00:00:00\",\"2025-01-23T00:00:00\",\"2025-01-22T00:00:00\",\"2025-01-21T00:00:00\",\"2025-01-20T00:00:00\",\"2025-01-17T00:00:00\",\"2025-01-16T00:00:00\",\"2025-01-15T00:00:00\",\"2025-01-14T00:00:00\",\"2025-01-13T00:00:00\",\"2025-01-10T00:00:00\",\"2025-01-09T00:00:00\",\"2025-01-08T00:00:00\",\"2025-01-07T00:00:00\",\"2025-01-06T00:00:00\",\"2025-01-03T00:00:00\",\"2025-01-02T00:00:00\",\"2025-01-01T00:00:00\",\"2024-12-31T00:00:00\",\"2024-12-30T00:00:00\",\"2024-12-27T00:00:00\",\"2024-12-26T00:00:00\",\"2024-12-24T00:00:00\",\"2024-12-23T00:00:00\",\"2024-12-20T00:00:00\",\"2024-12-19T00:00:00\",\"2024-12-18T00:00:00\",\"2024-12-17T00:00:00\",\"2024-12-16T00:00:00\",\"2024-12-13T00:00:00\",\"2024-12-12T00:00:00\",\"2024-12-11T00:00:00\",\"2024-12-10T00:00:00\",\"2024-12-09T00:00:00\",\"2024-12-06T00:00:00\",\"2024-12-05T00:00:00\",\"2024-12-04T00:00:00\",\"2024-12-03T00:00:00\",\"2024-12-02T00:00:00\",\"2024-11-29T00:00:00\",\"2024-11-28T00:00:00\",\"2024-11-27T00:00:00\",\"2024-11-26T00:00:00\",\"2024-11-25T00:00:00\",\"2024-11-22T00:00:00\",\"2024-11-21T00:00:00\"],\"type\":\"candlestick\"}],                        {\"template\":{\"data\":{\"histogram2dcontour\":[{\"type\":\"histogram2dcontour\",\"colorbar\":{\"outlinewidth\":0,\"ticks\":\"\"},\"colorscale\":[[0.0,\"#0d0887\"],[0.1111111111111111,\"#46039f\"],[0.2222222222222222,\"#7201a8\"],[0.3333333333333333,\"#9c179e\"],[0.4444444444444444,\"#bd3786\"],[0.5555555555555556,\"#d8576b\"],[0.6666666666666666,\"#ed7953\"],[0.7777777777777778,\"#fb9f3a\"],[0.8888888888888888,\"#fdca26\"],[1.0,\"#f0f921\"]]}],\"choropleth\":[{\"type\":\"choropleth\",\"colorbar\":{\"outlinewidth\":0,\"ticks\":\"\"}}],\"histogram2d\":[{\"type\":\"histogram2d\",\"colorbar\":{\"outlinewidth\":0,\"ticks\":\"\"},\"colorscale\":[[0.0,\"#0d0887\"],[0.1111111111111111,\"#46039f\"],[0.2222222222222222,\"#7201a8\"],[0.3333333333333333,\"#9c179e\"],[0.4444444444444444,\"#bd3786\"],[0.5555555555555556,\"#d8576b\"],[0.6666666666666666,\"#ed7953\"],[0.7777777777777778,\"#fb9f3a\"],[0.8888888888888888,\"#fdca26\"],[1.0,\"#f0f921\"]]}],\"heatmap\":[{\"type\":\"heatmap\",\"colorbar\":{\"outlinewidth\":0,\"ticks\":\"\"},\"colorscale\":[[0.0,\"#0d0887\"],[0.1111111111111111,\"#46039f\"],[0.2222222222222222,\"#7201a8\"],[0.3333333333333333,\"#9c179e\"],[0.4444444444444444,\"#bd3786\"],[0.5555555555555556,\"#d8576b\"],[0.6666666666666666,\"#ed7953\"],[0.7777777777777778,\"#fb9f3a\"],[0.8888888888888888,\"#fdca26\"],[1.0,\"#f0f921\"]]}],\"heatmapgl\":[{\"type\":\"heatmapgl\",\"colorbar\":{\"outlinewidth\":0,\"ticks\":\"\"},\"colorscale\":[[0.0,\"#0d0887\"],[0.1111111111111111,\"#46039f\"],[0.2222222222222222,\"#7201a8\"],[0.3333333333333333,\"#9c179e\"],[0.4444444444444444,\"#bd3786\"],[0.5555555555555556,\"#d8576b\"],[0.6666666666666666,\"#ed7953\"],[0.7777777777777778,\"#fb9f3a\"],[0.8888888888888888,\"#fdca26\"],[1.0,\"#f0f921\"]]}],\"contourcarpet\":[{\"type\":\"contourcarpet\",\"colorbar\":{\"outlinewidth\":0,\"ticks\":\"\"}}],\"contour\":[{\"type\":\"contour\",\"colorbar\":{\"outlinewidth\":0,\"ticks\":\"\"},\"colorscale\":[[0.0,\"#0d0887\"],[0.1111111111111111,\"#46039f\"],[0.2222222222222222,\"#7201a8\"],[0.3333333333333333,\"#9c179e\"],[0.4444444444444444,\"#bd3786\"],[0.5555555555555556,\"#d8576b\"],[0.6666666666666666,\"#ed7953\"],[0.7777777777777778,\"#fb9f3a\"],[0.8888888888888888,\"#fdca26\"],[1.0,\"#f0f921\"]]}],\"surface\":[{\"type\":\"surface\",\"colorbar\":{\"outlinewidth\":0,\"ticks\":\"\"},\"colorscale\":[[0.0,\"#0d0887\"],[0.1111111111111111,\"#46039f\"],[0.2222222222222222,\"#7201a8\"],[0.3333333333333333,\"#9c179e\"],[0.4444444444444444,\"#bd3786\"],[0.5555555555555556,\"#d8576b\"],[0.6666666666666666,\"#ed7953\"],[0.7777777777777778,\"#fb9f3a\"],[0.8888888888888888,\"#fdca26\"],[1.0,\"#f0f921\"]]}],\"mesh3d\":[{\"type\":\"mesh3d\",\"colorbar\":{\"outlinewidth\":0,\"ticks\":\"\"}}],\"scatter\":[{\"fillpattern\":{\"fillmode\":\"overlay\",\"size\":10,\"solidity\":0.2},\"type\":\"scatter\"}],\"parcoords\":[{\"type\":\"parcoords\",\"line\":{\"colorbar\":{\"outlinewidth\":0,\"ticks\":\"\"}}}],\"scatterpolargl\":[{\"type\":\"scatterpolargl\",\"marker\":{\"colorbar\":{\"outlinewidth\":0,\"ticks\":\"\"}}}],\"bar\":[{\"error_x\":{\"color\":\"#2a3f5f\"},\"error_y\":{\"color\":\"#2a3f5f\"},\"marker\":{\"line\":{\"color\":\"#E5ECF6\",\"width\":0.5},\"pattern\":{\"fillmode\":\"overlay\",\"size\":10,\"solidity\":0.2}},\"type\":\"bar\"}],\"scattergeo\":[{\"type\":\"scattergeo\",\"marker\":{\"colorbar\":{\"outlinewidth\":0,\"ticks\":\"\"}}}],\"scatterpolar\":[{\"type\":\"scatterpolar\",\"marker\":{\"colorbar\":{\"outlinewidth\":0,\"ticks\":\"\"}}}],\"histogram\":[{\"marker\":{\"pattern\":{\"fillmode\":\"overlay\",\"size\":10,\"solidity\":0.2}},\"type\":\"histogram\"}],\"scattergl\":[{\"type\":\"scattergl\",\"marker\":{\"colorbar\":{\"outlinewidth\":0,\"ticks\":\"\"}}}],\"scatter3d\":[{\"type\":\"scatter3d\",\"line\":{\"colorbar\":{\"outlinewidth\":0,\"ticks\":\"\"}},\"marker\":{\"colorbar\":{\"outlinewidth\":0,\"ticks\":\"\"}}}],\"scattermapbox\":[{\"type\":\"scattermapbox\",\"marker\":{\"colorbar\":{\"outlinewidth\":0,\"ticks\":\"\"}}}],\"scatterternary\":[{\"type\":\"scatterternary\",\"marker\":{\"colorbar\":{\"outlinewidth\":0,\"ticks\":\"\"}}}],\"scattercarpet\":[{\"type\":\"scattercarpet\",\"marker\":{\"colorbar\":{\"outlinewidth\":0,\"ticks\":\"\"}}}],\"carpet\":[{\"aaxis\":{\"endlinecolor\":\"#2a3f5f\",\"gridcolor\":\"white\",\"linecolor\":\"white\",\"minorgridcolor\":\"white\",\"startlinecolor\":\"#2a3f5f\"},\"baxis\":{\"endlinecolor\":\"#2a3f5f\",\"gridcolor\":\"white\",\"linecolor\":\"white\",\"minorgridcolor\":\"white\",\"startlinecolor\":\"#2a3f5f\"},\"type\":\"carpet\"}],\"table\":[{\"cells\":{\"fill\":{\"color\":\"#EBF0F8\"},\"line\":{\"color\":\"white\"}},\"header\":{\"fill\":{\"color\":\"#C8D4E3\"},\"line\":{\"color\":\"white\"}},\"type\":\"table\"}],\"barpolar\":[{\"marker\":{\"line\":{\"color\":\"#E5ECF6\",\"width\":0.5},\"pattern\":{\"fillmode\":\"overlay\",\"size\":10,\"solidity\":0.2}},\"type\":\"barpolar\"}],\"pie\":[{\"automargin\":true,\"type\":\"pie\"}]},\"layout\":{\"autotypenumbers\":\"strict\",\"colorway\":[\"#636efa\",\"#EF553B\",\"#00cc96\",\"#ab63fa\",\"#FFA15A\",\"#19d3f3\",\"#FF6692\",\"#B6E880\",\"#FF97FF\",\"#FECB52\"],\"font\":{\"color\":\"#2a3f5f\"},\"hovermode\":\"closest\",\"hoverlabel\":{\"align\":\"left\"},\"paper_bgcolor\":\"white\",\"plot_bgcolor\":\"#E5ECF6\",\"polar\":{\"bgcolor\":\"#E5ECF6\",\"angularaxis\":{\"gridcolor\":\"white\",\"linecolor\":\"white\",\"ticks\":\"\"},\"radialaxis\":{\"gridcolor\":\"white\",\"linecolor\":\"white\",\"ticks\":\"\"}},\"ternary\":{\"bgcolor\":\"#E5ECF6\",\"aaxis\":{\"gridcolor\":\"white\",\"linecolor\":\"white\",\"ticks\":\"\"},\"baxis\":{\"gridcolor\":\"white\",\"linecolor\":\"white\",\"ticks\":\"\"},\"caxis\":{\"gridcolor\":\"white\",\"linecolor\":\"white\",\"ticks\":\"\"}},\"coloraxis\":{\"colorbar\":{\"outlinewidth\":0,\"ticks\":\"\"}},\"colorscale\":{\"sequential\":[[0.0,\"#0d0887\"],[0.1111111111111111,\"#46039f\"],[0.2222222222222222,\"#7201a8\"],[0.3333333333333333,\"#9c179e\"],[0.4444444444444444,\"#bd3786\"],[0.5555555555555556,\"#d8576b\"],[0.6666666666666666,\"#ed7953\"],[0.7777777777777778,\"#fb9f3a\"],[0.8888888888888888,\"#fdca26\"],[1.0,\"#f0f921\"]],\"sequentialminus\":[[0.0,\"#0d0887\"],[0.1111111111111111,\"#46039f\"],[0.2222222222222222,\"#7201a8\"],[0.3333333333333333,\"#9c179e\"],[0.4444444444444444,\"#bd3786\"],[0.5555555555555556,\"#d8576b\"],[0.6666666666666666,\"#ed7953\"],[0.7777777777777778,\"#fb9f3a\"],[0.8888888888888888,\"#fdca26\"],[1.0,\"#f0f921\"]],\"diverging\":[[0,\"#8e0152\"],[0.1,\"#c51b7d\"],[0.2,\"#de77ae\"],[0.3,\"#f1b6da\"],[0.4,\"#fde0ef\"],[0.5,\"#f7f7f7\"],[0.6,\"#e6f5d0\"],[0.7,\"#b8e186\"],[0.8,\"#7fbc41\"],[0.9,\"#4d9221\"],[1,\"#276419\"]]},\"xaxis\":{\"gridcolor\":\"white\",\"linecolor\":\"white\",\"ticks\":\"\",\"title\":{\"standoff\":15},\"zerolinecolor\":\"white\",\"automargin\":true,\"zerolinewidth\":2},\"yaxis\":{\"gridcolor\":\"white\",\"linecolor\":\"white\",\"ticks\":\"\",\"title\":{\"standoff\":15},\"zerolinecolor\":\"white\",\"automargin\":true,\"zerolinewidth\":2},\"scene\":{\"xaxis\":{\"backgroundcolor\":\"#E5ECF6\",\"gridcolor\":\"white\",\"linecolor\":\"white\",\"showbackground\":true,\"ticks\":\"\",\"zerolinecolor\":\"white\",\"gridwidth\":2},\"yaxis\":{\"backgroundcolor\":\"#E5ECF6\",\"gridcolor\":\"white\",\"linecolor\":\"white\",\"showbackground\":true,\"ticks\":\"\",\"zerolinecolor\":\"white\",\"gridwidth\":2},\"zaxis\":{\"backgroundcolor\":\"#E5ECF6\",\"gridcolor\":\"white\",\"linecolor\":\"white\",\"showbackground\":true,\"ticks\":\"\",\"zerolinecolor\":\"white\",\"gridwidth\":2}},\"shapedefaults\":{\"line\":{\"color\":\"#2a3f5f\"}},\"annotationdefaults\":{\"arrowcolor\":\"#2a3f5f\",\"arrowhead\":0,\"arrowwidth\":1},\"geo\":{\"bgcolor\":\"white\",\"landcolor\":\"#E5ECF6\",\"subunitcolor\":\"white\",\"showland\":true,\"showlakes\":true,\"lakecolor\":\"white\"},\"title\":{\"x\":0.05},\"mapbox\":{\"style\":\"light\"}}}},                        {\"responsive\": true}                    ).then(function(){\n",
              "                            \n",
              "var gd = document.getElementById('4f1aba04-d76e-4f75-bc49-474214a9c32b');\n",
              "var x = new MutationObserver(function (mutations, observer) {{\n",
              "        var display = window.getComputedStyle(gd).display;\n",
              "        if (!display || display === 'none') {{\n",
              "            console.log([gd, 'removed!']);\n",
              "            Plotly.purge(gd);\n",
              "            observer.disconnect();\n",
              "        }}\n",
              "}});\n",
              "\n",
              "// Listen for the removal of the full notebook cells\n",
              "var notebookContainer = gd.closest('#notebook-container');\n",
              "if (notebookContainer) {{\n",
              "    x.observe(notebookContainer, {childList: true});\n",
              "}}\n",
              "\n",
              "// Listen for the clearing of the current output cell\n",
              "var outputEl = gd.closest('.output');\n",
              "if (outputEl) {{\n",
              "    x.observe(outputEl, {childList: true});\n",
              "}}\n",
              "\n",
              "                        })                };                            </script>        </div>\n",
              "</body>\n",
              "</html>"
            ]
          },
          "metadata": {}
        }
      ]
    },
    {
      "cell_type": "code",
      "source": [
        "\n",
        "def calculate_profit_loss(\n",
        "    data: dict,\n",
        "    spinning_df: pd.DataFrame,\n",
        "    lookback: int = 6,\n",
        "    take_profit_pct=0.073,\n",
        "    stop_pct: float = 0.06\n",
        "):\n",
        "    \"\"\"\n",
        "    For each spinning top date, enter next day:\n",
        "      - If prior lookback days form downtrend, go LONG; else SHORT.\n",
        "      - Exit when profit or loss reaches stop_pct of entry price.\n",
        "      - Simulate day-by-day until exit.\n",
        "    Returns total P/L and list of trades.\n",
        "    \"\"\"\n",
        "    ts = data.get('Time Series (Daily)', {})\n",
        "    df = pd.DataFrame.from_dict(ts, orient='index').astype(float)\n",
        "    df.columns = ['Open', 'High', 'Low', 'Close', 'Volume']\n",
        "    df.index = pd.to_datetime(df.index)\n",
        "    trades = []\n",
        "    total_pnl=0\n",
        "\n",
        "    dates = spinning_df['date']\n",
        "    sorted_dates = [dt.strftime('%Y-%m-%d') for dt in df.index]\n",
        "    # print(ts[sorted_dates[0]])\n",
        "    # print(sorted_dates)\n",
        "    for date in dates:\n",
        "      idx = sorted_dates.index(date)\n",
        "      prev_candle_str = sorted_dates[idx + 1 : idx + lookback]\n",
        "      prev_candles = [ts[d] for d in prev_candle_str]\n",
        "\n",
        "      if idx == 0:\n",
        "            continue\n",
        "      entry_idx   = idx - 1\n",
        "      entry_dt    = df.index[entry_idx]\n",
        "      entry_price = df.at[entry_dt, 'Open']\n",
        "      close = df.at[entry_dt,'Close']\n",
        "      # decide direction & thresholds\n",
        "      if is_downtrend(prev_candles):\n",
        "          direction       = 'long'\n",
        "          profit_target   = entry_price * (1 + take_profit_pct)\n",
        "          stop_loss_level = entry_price * (1 - stop_pct)\n",
        "      else:\n",
        "          direction       = 'short'\n",
        "          profit_target   = entry_price * (1 - take_profit_pct)\n",
        "          stop_loss_level = entry_price * (1 + stop_pct)\n",
        "\n",
        "      print(direction,entry_dt)\n",
        "      # now scan only **future** days: these are at indices entry_idx-1, entry_idx-2, …, 0\n",
        "      exit_dt    = None\n",
        "      exit_price = None\n",
        "      for future_idx in range(entry_idx, -1, -1):\n",
        "          trade_dt = df.index[future_idx]\n",
        "          high = df.at[trade_dt, 'High']\n",
        "          low  = df.at[trade_dt, 'Low']\n",
        "          open = df.at[trade_dt,'Open']\n",
        "\n",
        "\n",
        "          if direction == 'long' :\n",
        "              if high >= profit_target:\n",
        "                  exit_price = profit_target\n",
        "                  exit_dt    = trade_dt\n",
        "                  break\n",
        "              if low <= stop_loss_level:\n",
        "                  exit_price = stop_loss_level\n",
        "                  exit_dt    = trade_dt\n",
        "                  break\n",
        "          else:  # short\n",
        "              if low <= profit_target:\n",
        "                  exit_price = profit_target\n",
        "                  exit_dt    = trade_dt\n",
        "                  break\n",
        "              if high >= stop_loss_level:\n",
        "                  exit_price = stop_loss_level\n",
        "                  exit_dt    = trade_dt\n",
        "                  break\n",
        "\n",
        "      # fallback: exit at last available close (chronologically oldest)\n",
        "      if exit_dt is None:\n",
        "          exit_dt    = df.index[-1]\n",
        "          exit_price = entry_price\n",
        "\n",
        "      pnl = (exit_price - entry_price) if direction == 'long' else (entry_price - exit_price)\n",
        "      total_pnl += pnl\n",
        "\n",
        "      trades.append({\n",
        "          'entry_date':  entry_dt,\n",
        "          'entry_price': entry_price,\n",
        "          'exit_date':   exit_dt,\n",
        "          'exit_price':  exit_price,\n",
        "          'direction':   direction,\n",
        "          'pnl':         pnl\n",
        "      })\n",
        "    return total_pnl, trades"
      ],
      "metadata": {
        "id": "WLLGPKFszAL0"
      },
      "execution_count": 137,
      "outputs": []
    },
    {
      "cell_type": "code",
      "source": [
        "total_profit_loss, trades = calculate_profit_loss(data, spinning_df)\n",
        "\n",
        "print(f\"Total Profit/Loss: {total_profit_loss}\")\n",
        "for trade in trades:\n",
        "    print(f\"Buy on {trade['entry_date']} at {trade['entry_price']}, Sell on {trade['exit_date']} at {trade['exit_price']}, Profit/Loss: {trade['pnl']}\")"
      ],
      "metadata": {
        "id": "Y351-W7nzsMF"
      },
      "execution_count": null,
      "outputs": []
    },
    {
      "cell_type": "code",
      "source": [],
      "metadata": {
        "id": "xJQrKKUxZMog"
      },
      "execution_count": null,
      "outputs": []
    }
  ]
}