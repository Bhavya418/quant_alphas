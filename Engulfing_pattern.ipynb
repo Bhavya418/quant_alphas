{
  "nbformat": 4,
  "nbformat_minor": 0,
  "metadata": {
    "colab": {
      "provenance": [],
      "authorship_tag": "ABX9TyPPFXN26uLTf9fTfnqth/21",
      "include_colab_link": true
    },
    "kernelspec": {
      "name": "python3",
      "display_name": "Python 3"
    },
    "language_info": {
      "name": "python"
    }
  },
  "cells": [
    {
      "cell_type": "markdown",
      "metadata": {
        "id": "view-in-github",
        "colab_type": "text"
      },
      "source": [
        "<a href=\"https://colab.research.google.com/github/Bhavya418/quant_alphas/blob/main/Engulfing_pattern.ipynb\" target=\"_parent\"><img src=\"https://colab.research.google.com/assets/colab-badge.svg\" alt=\"Open In Colab\"/></a>"
      ]
    },
    {
      "cell_type": "code",
      "execution_count": 1,
      "metadata": {
        "colab": {
          "base_uri": "https://localhost:8080/"
        },
        "id": "LrEtfvqEsKVp",
        "outputId": "422d411d-6865-47b6-c03d-cbdf28fc2356"
      },
      "outputs": [
        {
          "output_type": "stream",
          "name": "stdout",
          "text": [
            "Requirement already satisfied: plotly in /usr/local/lib/python3.11/dist-packages (5.24.1)\n",
            "Requirement already satisfied: tenacity>=6.2.0 in /usr/local/lib/python3.11/dist-packages (from plotly) (9.1.2)\n",
            "Requirement already satisfied: packaging in /usr/local/lib/python3.11/dist-packages (from plotly) (24.2)\n",
            "Collecting mplfinance\n",
            "  Downloading mplfinance-0.12.10b0-py3-none-any.whl.metadata (19 kB)\n",
            "Requirement already satisfied: matplotlib in /usr/local/lib/python3.11/dist-packages (from mplfinance) (3.10.0)\n",
            "Requirement already satisfied: pandas in /usr/local/lib/python3.11/dist-packages (from mplfinance) (2.2.2)\n",
            "Requirement already satisfied: contourpy>=1.0.1 in /usr/local/lib/python3.11/dist-packages (from matplotlib->mplfinance) (1.3.2)\n",
            "Requirement already satisfied: cycler>=0.10 in /usr/local/lib/python3.11/dist-packages (from matplotlib->mplfinance) (0.12.1)\n",
            "Requirement already satisfied: fonttools>=4.22.0 in /usr/local/lib/python3.11/dist-packages (from matplotlib->mplfinance) (4.57.0)\n",
            "Requirement already satisfied: kiwisolver>=1.3.1 in /usr/local/lib/python3.11/dist-packages (from matplotlib->mplfinance) (1.4.8)\n",
            "Requirement already satisfied: numpy>=1.23 in /usr/local/lib/python3.11/dist-packages (from matplotlib->mplfinance) (2.0.2)\n",
            "Requirement already satisfied: packaging>=20.0 in /usr/local/lib/python3.11/dist-packages (from matplotlib->mplfinance) (24.2)\n",
            "Requirement already satisfied: pillow>=8 in /usr/local/lib/python3.11/dist-packages (from matplotlib->mplfinance) (11.1.0)\n",
            "Requirement already satisfied: pyparsing>=2.3.1 in /usr/local/lib/python3.11/dist-packages (from matplotlib->mplfinance) (3.2.3)\n",
            "Requirement already satisfied: python-dateutil>=2.7 in /usr/local/lib/python3.11/dist-packages (from matplotlib->mplfinance) (2.8.2)\n",
            "Requirement already satisfied: pytz>=2020.1 in /usr/local/lib/python3.11/dist-packages (from pandas->mplfinance) (2025.2)\n",
            "Requirement already satisfied: tzdata>=2022.7 in /usr/local/lib/python3.11/dist-packages (from pandas->mplfinance) (2025.2)\n",
            "Requirement already satisfied: six>=1.5 in /usr/local/lib/python3.11/dist-packages (from python-dateutil>=2.7->matplotlib->mplfinance) (1.17.0)\n",
            "Downloading mplfinance-0.12.10b0-py3-none-any.whl (75 kB)\n",
            "\u001b[2K   \u001b[90m━━━━━━━━━━━━━━━━━━━━━━━━━━━━━━━━━━━━━━━━\u001b[0m \u001b[32m75.0/75.0 kB\u001b[0m \u001b[31m1.6 MB/s\u001b[0m eta \u001b[36m0:00:00\u001b[0m\n",
            "\u001b[?25hInstalling collected packages: mplfinance\n",
            "Successfully installed mplfinance-0.12.10b0\n"
          ]
        }
      ],
      "source": [
        "!pip install plotly\n",
        "!pip install mplfinance"
      ]
    },
    {
      "cell_type": "code",
      "source": [
        "import pandas as pd\n",
        "import mplfinance as mpf\n",
        "import matplotlib.pyplot as plt\n",
        "import requests\n",
        "import plotly.graph_objects as go\n",
        "from datetime import datetime\n"
      ],
      "metadata": {
        "id": "dJwMQNNBhFSi"
      },
      "execution_count": 2,
      "outputs": []
    },
    {
      "cell_type": "code",
      "source": [
        "def fetch_daily_ohlc(symbol, apikey):\n",
        "    url = f\"https://www.alphavantage.co/query?function=TIME_SERIES_DAILY&symbol={symbol}&outputsize=compact&apikey={apikey}\"\n",
        "    r = requests.get(url)\n",
        "    return r.json()\n"
      ],
      "metadata": {
        "id": "iQ8NfC7-hIdY"
      },
      "execution_count": 3,
      "outputs": []
    },
    {
      "cell_type": "code",
      "source": [
        "apikey = \"SHEYWPL1ZYCDZ17D\"\n",
        "symbol = \"RELIANCE.BSE\"\n",
        "data = fetch_daily_ohlc(symbol, apikey)\n",
        "print(data)\n"
      ],
      "metadata": {
        "colab": {
          "base_uri": "https://localhost:8080/"
        },
        "id": "JzqgjS1qhZTv",
        "outputId": "67b3bdd5-6e9f-4309-e8b5-bb33d926179e"
      },
      "execution_count": 4,
      "outputs": [
        {
          "output_type": "stream",
          "name": "stdout",
          "text": [
            "{'Meta Data': {'1. Information': 'Daily Prices (open, high, low, close) and Volumes', '2. Symbol': 'RELIANCE.BSE', '3. Last Refreshed': '2025-04-17', '4. Output Size': 'Compact', '5. Time Zone': 'US/Eastern'}, 'Time Series (Daily)': {'2025-04-17': {'1. open': '1238.6500', '2. high': '1279.4500', '3. low': '1227.4000', '4. close': '1274.5500', '5. volume': '392500'}, '2025-04-16': {'1. open': '1239.8500', '2. high': '1240.9000', '3. low': '1229.0500', '4. close': '1238.6500', '5. volume': '361521'}, '2025-04-15': {'1. open': '1256.0000', '2. high': '1256.0000', '3. low': '1237.0000', '4. close': '1239.9000', '5. volume': '719043'}, '2025-04-11': {'1. open': '1200.0000', '2. high': '1222.4500', '3. low': '1197.0500', '4. close': '1219.3000', '5. volume': '684519'}, '2025-04-09': {'1. open': '1172.4000', '2. high': '1189.5000', '3. low': '1169.1000', '4. close': '1185.6000', '5. volume': '495957'}, '2025-04-08': {'1. open': '1177.8500', '2. high': '1196.8000', '3. low': '1163.8500', '4. close': '1182.4000', '5. volume': '894893'}, '2025-04-07': {'1. open': '1125.0000', '2. high': '1171.0000', '3. low': '1115.5500', '4. close': '1166.2000', '5. volume': '1433461'}, '2025-04-04': {'1. open': '1240.0000', '2. high': '1245.2000', '3. low': '1192.8500', '4. close': '1204.7000', '5. volume': '785059'}, '2025-04-03': {'1. open': '1238.9500', '2. high': '1251.2000', '3. low': '1234.5500', '4. close': '1248.6000', '5. volume': '532522'}, '2025-04-02': {'1. open': '1250.3500', '2. high': '1256.0000', '3. low': '1243.8000', '4. close': '1251.1000', '5. volume': '243303'}, '2025-04-01': {'1. open': '1274.6000', '2. high': '1277.8000', '3. low': '1250.0000', '4. close': '1252.4500', '5. volume': '722008'}, '2025-03-28': {'1. open': '1279.3000', '2. high': '1295.7000', '3. low': '1269.0500', '4. close': '1275.0000', '5. volume': '987799'}, '2025-03-27': {'1. open': '1275.0500', '2. high': '1285.1500', '3. low': '1272.0500', '4. close': '1278.4000', '5. volume': '278220'}, '2025-03-26': {'1. open': '1290.2500', '2. high': '1293.9500', '3. low': '1269.0000', '4. close': '1272.5500', '5. volume': '658347'}, '2025-03-25': {'1. open': '1307.0000', '2. high': '1307.0000', '3. low': '1283.0000', '4. close': '1285.4000', '5. volume': '865836'}, '2025-03-24': {'1. open': '1286.4000', '2. high': '1305.3000', '3. low': '1281.0000', '4. close': '1301.3500', '5. volume': '861533'}, '2025-03-21': {'1. open': '1270.0500', '2. high': '1284.5000', '3. low': '1270.0500', '4. close': '1276.4500', '5. volume': '361299'}, '2025-03-20': {'1. open': '1254.2000', '2. high': '1272.8000', '3. low': '1250.0000', '4. close': '1268.5500', '5. volume': '612659'}, '2025-03-19': {'1. open': '1242.0000', '2. high': '1252.7500', '3. low': '1239.3500', '4. close': '1247.7000', '5. volume': '295426'}, '2025-03-18': {'1. open': '1243.5000', '2. high': '1248.1000', '3. low': '1234.9000', '4. close': '1238.8000', '5. volume': '1740575'}, '2025-03-17': {'1. open': '1247.0000', '2. high': '1257.2000', '3. low': '1233.2500', '4. close': '1240.4000', '5. volume': '422823'}, '2025-03-13': {'1. open': '1262.9000', '2. high': '1264.0000', '3. low': '1244.0000', '4. close': '1247.4000', '5. volume': '302876'}, '2025-03-12': {'1. open': '1256.8500', '2. high': '1261.5500', '3. low': '1244.0000', '4. close': '1256.6000', '5. volume': '426299'}, '2025-03-11': {'1. open': '1238.0500', '2. high': '1249.5500', '3. low': '1230.0000', '4. close': '1247.4000', '5. volume': '305952'}, '2025-03-10': {'1. open': '1249.1000', '2. high': '1258.0000', '3. low': '1235.5000', '4. close': '1238.2000', '5. volume': '245117'}, '2025-03-07': {'1. open': '1214.0500', '2. high': '1254.5000', '3. low': '1212.3000', '4. close': '1249.1000', '5. volume': '794738'}, '2025-03-06': {'1. open': '1201.0000', '2. high': '1214.0000', '3. low': '1185.5000', '4. close': '1210.5500', '5. volume': '652420'}, '2025-03-05': {'1. open': '1162.0000', '2. high': '1183.0500', '3. low': '1158.0000', '4. close': '1175.7500', '5. volume': '348560'}, '2025-03-04': {'1. open': '1165.0000', '2. high': '1174.1000', '3. low': '1159.2500', '4. close': '1161.7000', '5. volume': '286826'}, '2025-03-03': {'1. open': '1209.8000', '2. high': '1209.8000', '3. low': '1156.0000', '4. close': '1171.1000', '5. volume': '542446'}, '2025-02-28': {'1. open': '1201.0000', '2. high': '1217.4000', '3. low': '1193.3000', '4. close': '1199.6000', '5. volume': '437656'}, '2025-02-27': {'1. open': '1213.5500', '2. high': '1215.0000', '3. low': '1201.0000', '4. close': '1207.0500', '5. volume': '193166'}, '2025-02-25': {'1. open': '1213.9500', '2. high': '1221.0000', '3. low': '1201.0000', '4. close': '1203.9000', '5. volume': '881729'}, '2025-02-24': {'1. open': '1219.4000', '2. high': '1223.0000', '3. low': '1210.6000', '4. close': '1214.7500', '5. volume': '477209'}, '2025-02-21': {'1. open': '1229.9500', '2. high': '1239.9500', '3. low': '1222.3500', '4. close': '1227.7000', '5. volume': '907589'}, '2025-02-20': {'1. open': '1226.2500', '2. high': '1239.4000', '3. low': '1223.0000', '4. close': '1233.0500', '5. volume': '206262'}, '2025-02-19': {'1. open': '1222.7500', '2. high': '1232.8000', '3. low': '1217.6000', '4. close': '1226.9500', '5. volume': '110206'}, '2025-02-18': {'1. open': '1225.2500', '2. high': '1229.9500', '3. low': '1216.4000', '4. close': '1224.9500', '5. volume': '206583'}, '2025-02-17': {'1. open': '1215.7500', '2. high': '1227.2000', '3. low': '1205.1500', '4. close': '1224.7500', '5. volume': '207944'}, '2025-02-14': {'1. open': '1220.0000', '2. high': '1224.3000', '3. low': '1206.0000', '4. close': '1216.9500', '5. volume': '358010'}, '2025-02-13': {'1. open': '1218.9500', '2. high': '1227.9500', '3. low': '1212.1500', '4. close': '1216.2000', '5. volume': '360188'}, '2025-02-12': {'1. open': '1219.9500', '2. high': '1227.8500', '3. low': '1193.6500', '4. close': '1215.7000', '5. volume': '596942'}, '2025-02-11': {'1. open': '1263.0500', '2. high': '1263.4000', '3. low': '1230.0000', '4. close': '1234.6000', '5. volume': '554854'}, '2025-02-10': {'1. open': '1263.8000', '2. high': '1266.0000', '3. low': '1245.8500', '4. close': '1253.4000', '5. volume': '539885'}, '2025-02-07': {'1. open': '1266.4500', '2. high': '1284.7500', '3. low': '1262.0000', '4. close': '1266.8500', '5. volume': '375026'}, '2025-02-06': {'1. open': '1276.6000', '2. high': '1287.3500', '3. low': '1270.8000', '4. close': '1281.5500', '5. volume': '160168'}, '2025-02-05': {'1. open': '1284.9500', '2. high': '1290.0000', '3. low': '1276.1500', '4. close': '1278.0500', '5. volume': '355650'}, '2025-02-04': {'1. open': '1247.0500', '2. high': '1289.0000', '3. low': '1246.6500', '4. close': '1286.0000', '5. volume': '397483'}, '2025-02-03': {'1. open': '1250.0000', '2. high': '1255.9000', '3. low': '1238.0000', '4. close': '1245.1500', '5. volume': '396687'}, '2025-02-01': {'1. open': '1265.0000', '2. high': '1269.9500', '3. low': '1241.5000', '4. close': '1264.6500', '5. volume': '266300'}, '2025-01-31': {'1. open': '1257.4000', '2. high': '1266.0000', '3. low': '1249.5000', '4. close': '1264.9000', '5. volume': '412707'}, '2025-01-30': {'1. open': '1235.0000', '2. high': '1256.6000', '3. low': '1232.2500', '4. close': '1253.6000', '5. volume': '462230'}, '2025-01-29': {'1. open': '1237.3000', '2. high': '1242.7500', '3. low': '1228.4500', '4. close': '1235.8000', '5. volume': '358148'}, '2025-01-28': {'1. open': '1236.6000', '2. high': '1244.1500', '3. low': '1218.9000', '4. close': '1233.8000', '5. volume': '364260'}, '2025-01-27': {'1. open': '1239.9000', '2. high': '1240.4500', '3. low': '1220.0500', '4. close': '1229.3000', '5. volume': '411760'}, '2025-01-24': {'1. open': '1266.9000', '2. high': '1273.1000', '3. low': '1244.0000', '4. close': '1245.9000', '5. volume': '430797'}, '2025-01-23': {'1. open': '1274.7500', '2. high': '1277.2500', '3. low': '1261.5500', '4. close': '1263.8500', '5. volume': '235409'}, '2025-01-22': {'1. open': '1279.0000', '2. high': '1282.9000', '3. low': '1268.8000', '4. close': '1277.3000', '5. volume': '2201402'}, '2025-01-21': {'1. open': '1310.0000', '2. high': '1312.8500', '3. low': '1269.5500', '4. close': '1272.9500', '5. volume': '1210468'}, '2025-01-20': {'1. open': '1319.3500', '2. high': '1319.3500', '3. low': '1300.5500', '4. close': '1305.0000', '5. volume': '242236'}, '2025-01-17': {'1. open': '1325.1000', '2. high': '1325.1000', '3. low': '1284.7000', '4. close': '1301.3000', '5. volume': '1514067'}, '2025-01-16': {'1. open': '1260.2000', '2. high': '1275.0000', '3. low': '1251.4000', '4. close': '1268.7000', '5. volume': '391749'}, '2025-01-15': {'1. open': '1247.0000', '2. high': '1256.7500', '3. low': '1242.1500', '4. close': '1252.3000', '5. volume': '287139'}, '2025-01-14': {'1. open': '1240.0000', '2. high': '1255.0500', '3. low': '1227.3000', '4. close': '1238.5500', '5. volume': '837785'}, '2025-01-13': {'1. open': '1230.0000', '2. high': '1245.1500', '3. low': '1225.6000', '4. close': '1240.0500', '5. volume': '810470'}, '2025-01-10': {'1. open': '1255.9000', '2. high': '1256.7000', '3. low': '1236.1500', '4. close': '1242.3500', '5. volume': '498991'}, '2025-01-09': {'1. open': '1267.9000', '2. high': '1269.4000', '3. low': '1248.0000', '4. close': '1255.0000', '5. volume': '262909'}, '2025-01-08': {'1. open': '1251.2000', '2. high': '1270.7000', '3. low': '1245.0000', '4. close': '1264.7000', '5. volume': '881916'}, '2025-01-07': {'1. open': '1221.6500', '2. high': '1243.4000', '3. low': '1221.4000', '4. close': '1240.9000', '5. volume': '512057'}, '2025-01-06': {'1. open': '1251.5500', '2. high': '1261.7000', '3. low': '1215.3000', '4. close': '1218.2000', '5. volume': '782428'}, '2025-01-03': {'1. open': '1247.7500', '2. high': '1262.3000', '3. low': '1235.6000', '4. close': '1251.3500', '5. volume': '502895'}, '2025-01-02': {'1. open': '1220.7000', '2. high': '1244.5000', '3. low': '1220.2500', '4. close': '1241.6500', '5. volume': '529144'}, '2025-01-01': {'1. open': '1218.9500', '2. high': '1226.2000', '3. low': '1212.1000', '4. close': '1221.6500', '5. volume': '380215'}, '2024-12-31': {'1. open': '1210.4000', '2. high': '1219.0500', '3. low': '1206.4000', '4. close': '1215.4500', '5. volume': '444246'}, '2024-12-30': {'1. open': '1219.6500', '2. high': '1223.3500', '3. low': '1208.6500', '4. close': '1210.9000', '5. volume': '314452'}, '2024-12-27': {'1. open': '1216.6500', '2. high': '1227.6000', '3. low': '1216.6500', '4. close': '1220.9500', '5. volume': '653086'}, '2024-12-26': {'1. open': '1224.6500', '2. high': '1228.0000', '3. low': '1214.4500', '4. close': '1216.6000', '5. volume': '556935'}, '2024-12-24': {'1. open': '1231.9000', '2. high': '1233.4500', '3. low': '1221.4500', '4. close': '1223.5000', '5. volume': '268064'}, '2024-12-23': {'1. open': '1217.2500', '2. high': '1227.0000', '3. low': '1213.1500', '4. close': '1222.1000', '5. volume': '3332773'}, '2024-12-20': {'1. open': '1229.9500', '2. high': '1239.7500', '3. low': '1202.1000', '4. close': '1206.0000', '5. volume': '1166317'}, '2024-12-19': {'1. open': '1239.9500', '2. high': '1244.9500', '3. low': '1229.4000', '4. close': '1230.6000', '5. volume': '424104'}, '2024-12-18': {'1. open': '1243.4000', '2. high': '1259.9000', '3. low': '1241.7500', '4. close': '1253.0500', '5. volume': '260426'}, '2024-12-17': {'1. open': '1262.6500', '2. high': '1262.6500', '3. low': '1242.6000', '4. close': '1245.1000', '5. volume': '639483'}, '2024-12-16': {'1. open': '1275.0000', '2. high': '1281.6000', '3. low': '1266.8500', '4. close': '1268.0500', '5. volume': '465483'}, '2024-12-13': {'1. open': '1265.0000', '2. high': '1275.1500', '3. low': '1240.0000', '4. close': '1273.3500', '5. volume': '1106984'}, '2024-12-12': {'1. open': '1275.2000', '2. high': '1278.1000', '3. low': '1261.0500', '4. close': '1263.8500', '5. volume': '683512'}, '2024-12-11': {'1. open': '1286.5000', '2. high': '1290.0000', '3. low': '1275.3500', '4. close': '1278.1000', '5. volume': '594409'}, '2024-12-10': {'1. open': '1290.0000', '2. high': '1295.0000', '3. low': '1280.7500', '4. close': '1284.9500', '5. volume': '438986'}, '2024-12-09': {'1. open': '1303.0000', '2. high': '1315.4500', '3. low': '1292.9000', '4. close': '1295.1500', '5. volume': '554024'}, '2024-12-06': {'1. open': '1326.9000', '2. high': '1326.9000', '3. low': '1309.8000', '4. close': '1311.8000', '5. volume': '412701'}, '2024-12-05': {'1. open': '1310.7500', '2. high': '1329.5000', '3. low': '1306.4000', '4. close': '1321.2000', '5. volume': '674847'}, '2024-12-04': {'1. open': '1326.9500', '2. high': '1329.0000', '3. low': '1305.0000', '4. close': '1309.0000', '5. volume': '438492'}, '2024-12-03': {'1. open': '1318.8500', '2. high': '1326.7000', '3. low': '1307.2500', '4. close': '1323.3500', '5. volume': '344673'}, '2024-12-02': {'1. open': '1291.6500', '2. high': '1311.0500', '3. low': '1277.0000', '4. close': '1309.0500', '5. volume': '633384'}, '2024-11-29': {'1. open': '1280.0000', '2. high': '1299.3000', '3. low': '1274.7500', '4. close': '1292.4500', '5. volume': '748891'}, '2024-11-28': {'1. open': '1291.9500', '2. high': '1296.8000', '3. low': '1269.2500', '4. close': '1271.3500', '5. volume': '481819'}, '2024-11-27': {'1. open': '1295.7500', '2. high': '1303.8000', '3. low': '1286.2000', '4. close': '1292.9000', '5. volume': '263573'}, '2024-11-26': {'1. open': '1296.4500', '2. high': '1297.8500', '3. low': '1284.0000', '4. close': '1295.5500', '5. volume': '487024'}, '2024-11-25': {'1. open': '1294.8000', '2. high': '1304.3500', '3. low': '1282.6500', '4. close': '1287.8000', '5. volume': '962533'}, '2024-11-22': {'1. open': '1229.9000', '2. high': '1268.6500', '3. low': '1223.0500', '4. close': '1265.9500', '5. volume': '1055840'}}}\n"
          ]
        }
      ]
    },
    {
      "cell_type": "code",
      "source": [
        "def is_downtrend(candles):\n",
        "    \"\"\"True if lows are decreasing = downtrend\"\"\"\n",
        "    low_prices = [float(c[\"3. low\"]) for c in candles]\n",
        "    for earlier, later in zip(low_prices, low_prices[1:]):\n",
        "        if earlier <= later:\n",
        "            return False\n",
        "    return True\n",
        "\n",
        "def is_uptrend(candles):\n",
        "    \"\"\"True if lows are increasing = uptrend\"\"\"\n",
        "    low_prices = [float(c[\"3. low\"]) for c in candles]\n",
        "\n",
        "    for earlier, later in zip(low_prices, low_prices[1:]):\n",
        "        if earlier >= later:\n",
        "            return False\n",
        "    return True"
      ],
      "metadata": {
        "id": "qeUIIs185Mpj"
      },
      "execution_count": 5,
      "outputs": []
    },
    {
      "cell_type": "code",
      "source": [
        "def is_bullish_engulfing(prev_candle, current_candle):\n",
        "    prev_open = float(prev_candle[\"1. open\"])\n",
        "    prev_close = float(prev_candle[\"4. close\"])\n",
        "    current_open = float(current_candle[\"1. open\"])\n",
        "    current_close = float(current_candle[\"4. close\"])\n",
        "\n",
        "    if prev_close > prev_open or current_close< current_open:\n",
        "      return False\n",
        "\n",
        "    return current_open < prev_close and current_close > prev_open\n",
        "\n",
        "def is_bearish_engulfing(prev_candle, current_candle):\n",
        "    prev_open = float(prev_candle[\"1. open\"])\n",
        "    prev_close = float(prev_candle[\"4. close\"])\n",
        "    current_open = float(current_candle[\"1. open\"])\n",
        "    current_close = float(current_candle[\"4. close\"])\n",
        "\n",
        "    if not (prev_close > prev_open and current_close < current_open):\n",
        "        return False\n",
        "\n",
        "    return current_open > prev_close and current_close < prev_open\n"
      ],
      "metadata": {
        "id": "p1DD5QYG6Sh8"
      },
      "execution_count": 6,
      "outputs": []
    },
    {
      "cell_type": "code",
      "source": [
        "def detect_engulfing(data,lookback_days=3):\n",
        "    time_series = data.get(\"Time Series (Daily)\", {})\n",
        "    sorted_dates = sorted(time_series.keys())\n",
        "    results = []\n",
        "    for i in range(lookback_days + 1, len(sorted_dates)):\n",
        "        current_date = sorted_dates[i]\n",
        "        prev_date = sorted_dates[i - 1]\n",
        "\n",
        "        current_candle = time_series[current_date]\n",
        "        prev_candle = time_series[prev_date]\n",
        "        trend_candles = [time_series[sorted_dates[j]] for j in range(i - lookback_days - 1, i - 1)]\n",
        "        if is_downtrend(trend_candles) and is_bullish_engulfing(prev_candle, current_candle):\n",
        "            pattern = \"bullish_engulfing\"\n",
        "            entry_price = float(current_candle[\"4. close\"])\n",
        "            stoploss = min(float(prev_candle[\"3. low\"]), float(current_candle[\"3. low\"]))\n",
        "\n",
        "        elif is_uptrend(trend_candles) and is_bearish_engulfing(prev_candle, current_candle):\n",
        "            entry_price = float(current_candle[\"4. close\"])\n",
        "            stoploss = max(float(prev_candle[\"2. high\"]), float(current_candle[\"2. high\"]))\n",
        "            pattern = \"bearish_engulfing\"\n",
        "        else:\n",
        "            continue\n",
        "\n",
        "        results.append({\n",
        "            \"date\": current_date,\n",
        "            \"pattern\": pattern,\n",
        "            \"entry_price\": entry_price,\n",
        "            \"stoploss\": stoploss,\n",
        "            \"open\": float(current_candle[\"1. open\"]),\n",
        "            \"high\": float(current_candle[\"2. high\"]),\n",
        "            \"low\": float(current_candle[\"3. low\"]),\n",
        "            \"close\": float(current_candle[\"4. close\"]),\n",
        "            \"volume\": int(current_candle[\"5. volume\"])\n",
        "        })\n",
        "\n",
        "    return pd.DataFrame(results)\n"
      ],
      "metadata": {
        "id": "Lw2q551yhl8Y"
      },
      "execution_count": 11,
      "outputs": []
    },
    {
      "cell_type": "code",
      "source": [
        "def calculate_profit_loss_with_target_and_window(data, engulfing_df, target_pct=2.0, hold_days=3):\n",
        "    time_series = data.get(\"Time Series (Daily)\", {})\n",
        "    df = pd.DataFrame.from_dict(time_series, orient='index')\n",
        "    df = df[['1. open', '2. high', '3. low', '4. close', '5. volume']].astype(float)\n",
        "    df.columns = ['Open', 'High', 'Low', 'Close', 'Volume']\n",
        "    df.index = pd.to_datetime(df.index)\n",
        "    df = df.sort_index()\n",
        "\n",
        "    trades = []\n",
        "    total_profit_loss = 0.0\n",
        "\n",
        "    for _, row in engulfing_df.iterrows():\n",
        "        entry_date = pd.to_datetime(row[\"date\"])\n",
        "        direction = row[\"pattern\"]\n",
        "        entry_price = row[\"entry_price\"]\n",
        "\n",
        "        if entry_date not in df.index:\n",
        "            continue\n",
        "\n",
        "        future_dates = df.index[df.index > entry_date]\n",
        "        window_dates = future_dates[:hold_days]\n",
        "\n",
        "        if len(window_dates) == 0:\n",
        "            continue\n",
        "\n",
        "        target_price = (\n",
        "            entry_price * (1 + target_pct / 100)\n",
        "            if direction == \"bullish_engulfing\"\n",
        "            else entry_price * (1 - target_pct / 100)\n",
        "        )\n",
        "\n",
        "        exit_price = None\n",
        "        exit_date = None\n",
        "        reason = \"\"\n",
        "\n",
        "        # Step 1: Check for target hit in window\n",
        "        for day in window_dates:\n",
        "            high = df.loc[day][\"High\"]\n",
        "            low = df.loc[day][\"Low\"]\n",
        "            open_price = df.loc[day][\"Open\"]\n",
        "\n",
        "            if direction == \"bullish_engulfing\" and high >= target_price:\n",
        "                exit_price = open_price\n",
        "                exit_date = day\n",
        "                reason = \"target_hit\"\n",
        "                break\n",
        "            elif direction == \"bearish_engulfing\" and low <= target_price:\n",
        "                exit_price = open_price\n",
        "                exit_date = day\n",
        "                reason = \"target_hit\"\n",
        "                break\n",
        "\n",
        "        # Step 2: If target not hit, exit at max/min within window\n",
        "        if exit_price is None:\n",
        "            if direction == \"bullish_engulfing\":\n",
        "                max_day = df.loc[window_dates][\"High\"].idxmax()\n",
        "                exit_price = df.loc[max_day][\"High\"]\n",
        "                exit_date = max_day\n",
        "                reason = \"max_window_exit\"\n",
        "            elif direction == \"bearish_engulfing\":\n",
        "                min_day = df.loc[window_dates][\"Low\"].idxmin()\n",
        "                exit_price = df.loc[min_day][\"Low\"]\n",
        "                exit_date = min_day\n",
        "                reason = \"min_window_exit\"\n",
        "\n",
        "        if exit_price is None or exit_date is None:\n",
        "            continue\n",
        "\n",
        "        profit_loss = (\n",
        "            exit_price - entry_price if direction == \"bullish_engulfing\"\n",
        "            else entry_price - exit_price\n",
        "        )\n",
        "        total_profit_loss += profit_loss\n",
        "\n",
        "        trades.append({\n",
        "            'entry_date': entry_date,\n",
        "            'entry_price': entry_price,\n",
        "            'exit_date': exit_date,\n",
        "            'exit_price': exit_price,\n",
        "            'target_price': target_price,\n",
        "            'direction': direction,\n",
        "            'profit_loss': profit_loss,\n",
        "            'exit_reason': reason,\n",
        "            'stoploss': row.get(\"stoploss\", None)\n",
        "        })\n",
        "\n",
        "    return total_profit_loss, trades\n"
      ],
      "metadata": {
        "id": "r4cKm5MCRlbu"
      },
      "execution_count": 24,
      "outputs": []
    },
    {
      "cell_type": "code",
      "source": [
        "def plot_candlestick(data):\n",
        "    # Extract the time series data and convert it into a DataFrame\n",
        "    time_series = data.get(\"Time Series (Daily)\", {})\n",
        "\n",
        "    # Convert the time series into a DataFrame\n",
        "    df = pd.DataFrame.from_dict(time_series, orient='index')\n",
        "\n",
        "    # Convert all values to float and rename columns for mplfinance compatibility\n",
        "    df = df[['1. open', '2. high', '3. low', '4. close', '5. volume']].astype(float)\n",
        "    df.columns = ['Open', 'High', 'Low', 'Close', 'Volume']\n",
        "\n",
        "    # Convert the index to datetime\n",
        "    df.index = pd.to_datetime(df.index)\n",
        "    fig = go.Figure(data=[go.Candlestick(x=df.index,\n",
        "                open=df['Open'],\n",
        "                high=df['High'],\n",
        "                low=df['Low'],\n",
        "                close=df['Close'])])\n",
        "\n",
        "    fig.show()"
      ],
      "metadata": {
        "id": "7jZS9UBJaFCV"
      },
      "execution_count": 26,
      "outputs": []
    },
    {
      "cell_type": "code",
      "source": [
        "engulfing_df = detect_engulfing(data)\n",
        "total_profit_loss, trades = calculate_profit_loss_with_target_and_window(\n",
        "    data,\n",
        "    engulfing_df,\n",
        "    target_pct=2.0,\n",
        "    hold_days=3\n",
        ")\n",
        "\n",
        "print(f\"Total Profit/Loss: {total_profit_loss:.2f}\")\n",
        "for trade in trades:\n",
        "    print(\n",
        "        f\"{trade['direction']} | Entry: {trade['entry_date'].date()} at {trade['entry_price']:.2f}, \"\n",
        "        f\"Exit: {trade['exit_date'].date()} at {trade['exit_price']:.2f} \"\n",
        "        f\"(Target: {trade['target_price']:.2f}, Reason: {trade['exit_reason']}), \"\n",
        "        f\"P/L: {trade['profit_loss']:.2f}\"\n",
        "    )\n"
      ],
      "metadata": {
        "colab": {
          "base_uri": "https://localhost:8080/"
        },
        "id": "fGWr8_ljhb-_",
        "outputId": "f503ac29-ba33-4f8c-ee55-6ca03bc29f76"
      },
      "execution_count": 25,
      "outputs": [
        {
          "output_type": "stream",
          "name": "stdout",
          "text": [
            "Total Profit/Loss: 58.65\n",
            "bearish_engulfing | Entry: 2024-12-04 at 1309.00, Exit: 2024-12-09 at 1292.90 (Target: 1282.82, Reason: min_window_exit), P/L: 16.10\n",
            "bearish_engulfing | Entry: 2025-01-06 at 1218.20, Exit: 2025-01-07 at 1221.40 (Target: 1193.84, Reason: min_window_exit), P/L: -3.20\n",
            "bullish_engulfing | Entry: 2025-01-30 at 1253.60, Exit: 2025-02-01 at 1269.95 (Target: 1278.67, Reason: max_window_exit), P/L: 16.35\n",
            "bullish_engulfing | Entry: 2025-02-19 at 1226.95, Exit: 2025-02-21 at 1239.95 (Target: 1251.49, Reason: max_window_exit), P/L: 13.00\n",
            "bearish_engulfing | Entry: 2025-03-25 at 1285.40, Exit: 2025-03-26 at 1269.00 (Target: 1259.69, Reason: min_window_exit), P/L: 16.40\n"
          ]
        }
      ]
    },
    {
      "cell_type": "code",
      "source": [
        "plot_candlestick(data)"
      ],
      "metadata": {
        "colab": {
          "base_uri": "https://localhost:8080/",
          "height": 542
        },
        "id": "a0LUYDg-aCG1",
        "outputId": "5d28cb17-bf59-4517-8d93-982c78820076"
      },
      "execution_count": 27,
      "outputs": [
        {
          "output_type": "display_data",
          "data": {
            "text/html": [
              "<html>\n",
              "<head><meta charset=\"utf-8\" /></head>\n",
              "<body>\n",
              "    <div>            <script src=\"https://cdnjs.cloudflare.com/ajax/libs/mathjax/2.7.5/MathJax.js?config=TeX-AMS-MML_SVG\"></script><script type=\"text/javascript\">if (window.MathJax && window.MathJax.Hub && window.MathJax.Hub.Config) {window.MathJax.Hub.Config({SVG: {font: \"STIX-Web\"}});}</script>                <script type=\"text/javascript\">window.PlotlyConfig = {MathJaxConfig: 'local'};</script>\n",
              "        <script charset=\"utf-8\" src=\"https://cdn.plot.ly/plotly-2.35.2.min.js\"></script>                <div id=\"072baf7d-8479-43ba-8530-a91c76c294b0\" class=\"plotly-graph-div\" style=\"height:525px; width:100%;\"></div>            <script type=\"text/javascript\">                                    window.PLOTLYENV=window.PLOTLYENV || {};                                    if (document.getElementById(\"072baf7d-8479-43ba-8530-a91c76c294b0\")) {                    Plotly.newPlot(                        \"072baf7d-8479-43ba-8530-a91c76c294b0\",                        [{\"close\":[1274.55,1238.65,1239.9,1219.3,1185.6,1182.4,1166.2,1204.7,1248.6,1251.1,1252.45,1275.0,1278.4,1272.55,1285.4,1301.35,1276.45,1268.55,1247.7,1238.8,1240.4,1247.4,1256.6,1247.4,1238.2,1249.1,1210.55,1175.75,1161.7,1171.1,1199.6,1207.05,1203.9,1214.75,1227.7,1233.05,1226.95,1224.95,1224.75,1216.95,1216.2,1215.7,1234.6,1253.4,1266.85,1281.55,1278.05,1286.0,1245.15,1264.65,1264.9,1253.6,1235.8,1233.8,1229.3,1245.9,1263.85,1277.3,1272.95,1305.0,1301.3,1268.7,1252.3,1238.55,1240.05,1242.35,1255.0,1264.7,1240.9,1218.2,1251.35,1241.65,1221.65,1215.45,1210.9,1220.95,1216.6,1223.5,1222.1,1206.0,1230.6,1253.05,1245.1,1268.05,1273.35,1263.85,1278.1,1284.95,1295.15,1311.8,1321.2,1309.0,1323.35,1309.05,1292.45,1271.35,1292.9,1295.55,1287.8,1265.95],\"high\":[1279.45,1240.9,1256.0,1222.45,1189.5,1196.8,1171.0,1245.2,1251.2,1256.0,1277.8,1295.7,1285.15,1293.95,1307.0,1305.3,1284.5,1272.8,1252.75,1248.1,1257.2,1264.0,1261.55,1249.55,1258.0,1254.5,1214.0,1183.05,1174.1,1209.8,1217.4,1215.0,1221.0,1223.0,1239.95,1239.4,1232.8,1229.95,1227.2,1224.3,1227.95,1227.85,1263.4,1266.0,1284.75,1287.35,1290.0,1289.0,1255.9,1269.95,1266.0,1256.6,1242.75,1244.15,1240.45,1273.1,1277.25,1282.9,1312.85,1319.35,1325.1,1275.0,1256.75,1255.05,1245.15,1256.7,1269.4,1270.7,1243.4,1261.7,1262.3,1244.5,1226.2,1219.05,1223.35,1227.6,1228.0,1233.45,1227.0,1239.75,1244.95,1259.9,1262.65,1281.6,1275.15,1278.1,1290.0,1295.0,1315.45,1326.9,1329.5,1329.0,1326.7,1311.05,1299.3,1296.8,1303.8,1297.85,1304.35,1268.65],\"low\":[1227.4,1229.05,1237.0,1197.05,1169.1,1163.85,1115.55,1192.85,1234.55,1243.8,1250.0,1269.05,1272.05,1269.0,1283.0,1281.0,1270.05,1250.0,1239.35,1234.9,1233.25,1244.0,1244.0,1230.0,1235.5,1212.3,1185.5,1158.0,1159.25,1156.0,1193.3,1201.0,1201.0,1210.6,1222.35,1223.0,1217.6,1216.4,1205.15,1206.0,1212.15,1193.65,1230.0,1245.85,1262.0,1270.8,1276.15,1246.65,1238.0,1241.5,1249.5,1232.25,1228.45,1218.9,1220.05,1244.0,1261.55,1268.8,1269.55,1300.55,1284.7,1251.4,1242.15,1227.3,1225.6,1236.15,1248.0,1245.0,1221.4,1215.3,1235.6,1220.25,1212.1,1206.4,1208.65,1216.65,1214.45,1221.45,1213.15,1202.1,1229.4,1241.75,1242.6,1266.85,1240.0,1261.05,1275.35,1280.75,1292.9,1309.8,1306.4,1305.0,1307.25,1277.0,1274.75,1269.25,1286.2,1284.0,1282.65,1223.05],\"open\":[1238.65,1239.85,1256.0,1200.0,1172.4,1177.85,1125.0,1240.0,1238.95,1250.35,1274.6,1279.3,1275.05,1290.25,1307.0,1286.4,1270.05,1254.2,1242.0,1243.5,1247.0,1262.9,1256.85,1238.05,1249.1,1214.05,1201.0,1162.0,1165.0,1209.8,1201.0,1213.55,1213.95,1219.4,1229.95,1226.25,1222.75,1225.25,1215.75,1220.0,1218.95,1219.95,1263.05,1263.8,1266.45,1276.6,1284.95,1247.05,1250.0,1265.0,1257.4,1235.0,1237.3,1236.6,1239.9,1266.9,1274.75,1279.0,1310.0,1319.35,1325.1,1260.2,1247.0,1240.0,1230.0,1255.9,1267.9,1251.2,1221.65,1251.55,1247.75,1220.7,1218.95,1210.4,1219.65,1216.65,1224.65,1231.9,1217.25,1229.95,1239.95,1243.4,1262.65,1275.0,1265.0,1275.2,1286.5,1290.0,1303.0,1326.9,1310.75,1326.95,1318.85,1291.65,1280.0,1291.95,1295.75,1296.45,1294.8,1229.9],\"x\":[\"2025-04-17T00:00:00\",\"2025-04-16T00:00:00\",\"2025-04-15T00:00:00\",\"2025-04-11T00:00:00\",\"2025-04-09T00:00:00\",\"2025-04-08T00:00:00\",\"2025-04-07T00:00:00\",\"2025-04-04T00:00:00\",\"2025-04-03T00:00:00\",\"2025-04-02T00:00:00\",\"2025-04-01T00:00:00\",\"2025-03-28T00:00:00\",\"2025-03-27T00:00:00\",\"2025-03-26T00:00:00\",\"2025-03-25T00:00:00\",\"2025-03-24T00:00:00\",\"2025-03-21T00:00:00\",\"2025-03-20T00:00:00\",\"2025-03-19T00:00:00\",\"2025-03-18T00:00:00\",\"2025-03-17T00:00:00\",\"2025-03-13T00:00:00\",\"2025-03-12T00:00:00\",\"2025-03-11T00:00:00\",\"2025-03-10T00:00:00\",\"2025-03-07T00:00:00\",\"2025-03-06T00:00:00\",\"2025-03-05T00:00:00\",\"2025-03-04T00:00:00\",\"2025-03-03T00:00:00\",\"2025-02-28T00:00:00\",\"2025-02-27T00:00:00\",\"2025-02-25T00:00:00\",\"2025-02-24T00:00:00\",\"2025-02-21T00:00:00\",\"2025-02-20T00:00:00\",\"2025-02-19T00:00:00\",\"2025-02-18T00:00:00\",\"2025-02-17T00:00:00\",\"2025-02-14T00:00:00\",\"2025-02-13T00:00:00\",\"2025-02-12T00:00:00\",\"2025-02-11T00:00:00\",\"2025-02-10T00:00:00\",\"2025-02-07T00:00:00\",\"2025-02-06T00:00:00\",\"2025-02-05T00:00:00\",\"2025-02-04T00:00:00\",\"2025-02-03T00:00:00\",\"2025-02-01T00:00:00\",\"2025-01-31T00:00:00\",\"2025-01-30T00:00:00\",\"2025-01-29T00:00:00\",\"2025-01-28T00:00:00\",\"2025-01-27T00:00:00\",\"2025-01-24T00:00:00\",\"2025-01-23T00:00:00\",\"2025-01-22T00:00:00\",\"2025-01-21T00:00:00\",\"2025-01-20T00:00:00\",\"2025-01-17T00:00:00\",\"2025-01-16T00:00:00\",\"2025-01-15T00:00:00\",\"2025-01-14T00:00:00\",\"2025-01-13T00:00:00\",\"2025-01-10T00:00:00\",\"2025-01-09T00:00:00\",\"2025-01-08T00:00:00\",\"2025-01-07T00:00:00\",\"2025-01-06T00:00:00\",\"2025-01-03T00:00:00\",\"2025-01-02T00:00:00\",\"2025-01-01T00:00:00\",\"2024-12-31T00:00:00\",\"2024-12-30T00:00:00\",\"2024-12-27T00:00:00\",\"2024-12-26T00:00:00\",\"2024-12-24T00:00:00\",\"2024-12-23T00:00:00\",\"2024-12-20T00:00:00\",\"2024-12-19T00:00:00\",\"2024-12-18T00:00:00\",\"2024-12-17T00:00:00\",\"2024-12-16T00:00:00\",\"2024-12-13T00:00:00\",\"2024-12-12T00:00:00\",\"2024-12-11T00:00:00\",\"2024-12-10T00:00:00\",\"2024-12-09T00:00:00\",\"2024-12-06T00:00:00\",\"2024-12-05T00:00:00\",\"2024-12-04T00:00:00\",\"2024-12-03T00:00:00\",\"2024-12-02T00:00:00\",\"2024-11-29T00:00:00\",\"2024-11-28T00:00:00\",\"2024-11-27T00:00:00\",\"2024-11-26T00:00:00\",\"2024-11-25T00:00:00\",\"2024-11-22T00:00:00\"],\"type\":\"candlestick\"}],                        {\"template\":{\"data\":{\"histogram2dcontour\":[{\"type\":\"histogram2dcontour\",\"colorbar\":{\"outlinewidth\":0,\"ticks\":\"\"},\"colorscale\":[[0.0,\"#0d0887\"],[0.1111111111111111,\"#46039f\"],[0.2222222222222222,\"#7201a8\"],[0.3333333333333333,\"#9c179e\"],[0.4444444444444444,\"#bd3786\"],[0.5555555555555556,\"#d8576b\"],[0.6666666666666666,\"#ed7953\"],[0.7777777777777778,\"#fb9f3a\"],[0.8888888888888888,\"#fdca26\"],[1.0,\"#f0f921\"]]}],\"choropleth\":[{\"type\":\"choropleth\",\"colorbar\":{\"outlinewidth\":0,\"ticks\":\"\"}}],\"histogram2d\":[{\"type\":\"histogram2d\",\"colorbar\":{\"outlinewidth\":0,\"ticks\":\"\"},\"colorscale\":[[0.0,\"#0d0887\"],[0.1111111111111111,\"#46039f\"],[0.2222222222222222,\"#7201a8\"],[0.3333333333333333,\"#9c179e\"],[0.4444444444444444,\"#bd3786\"],[0.5555555555555556,\"#d8576b\"],[0.6666666666666666,\"#ed7953\"],[0.7777777777777778,\"#fb9f3a\"],[0.8888888888888888,\"#fdca26\"],[1.0,\"#f0f921\"]]}],\"heatmap\":[{\"type\":\"heatmap\",\"colorbar\":{\"outlinewidth\":0,\"ticks\":\"\"},\"colorscale\":[[0.0,\"#0d0887\"],[0.1111111111111111,\"#46039f\"],[0.2222222222222222,\"#7201a8\"],[0.3333333333333333,\"#9c179e\"],[0.4444444444444444,\"#bd3786\"],[0.5555555555555556,\"#d8576b\"],[0.6666666666666666,\"#ed7953\"],[0.7777777777777778,\"#fb9f3a\"],[0.8888888888888888,\"#fdca26\"],[1.0,\"#f0f921\"]]}],\"heatmapgl\":[{\"type\":\"heatmapgl\",\"colorbar\":{\"outlinewidth\":0,\"ticks\":\"\"},\"colorscale\":[[0.0,\"#0d0887\"],[0.1111111111111111,\"#46039f\"],[0.2222222222222222,\"#7201a8\"],[0.3333333333333333,\"#9c179e\"],[0.4444444444444444,\"#bd3786\"],[0.5555555555555556,\"#d8576b\"],[0.6666666666666666,\"#ed7953\"],[0.7777777777777778,\"#fb9f3a\"],[0.8888888888888888,\"#fdca26\"],[1.0,\"#f0f921\"]]}],\"contourcarpet\":[{\"type\":\"contourcarpet\",\"colorbar\":{\"outlinewidth\":0,\"ticks\":\"\"}}],\"contour\":[{\"type\":\"contour\",\"colorbar\":{\"outlinewidth\":0,\"ticks\":\"\"},\"colorscale\":[[0.0,\"#0d0887\"],[0.1111111111111111,\"#46039f\"],[0.2222222222222222,\"#7201a8\"],[0.3333333333333333,\"#9c179e\"],[0.4444444444444444,\"#bd3786\"],[0.5555555555555556,\"#d8576b\"],[0.6666666666666666,\"#ed7953\"],[0.7777777777777778,\"#fb9f3a\"],[0.8888888888888888,\"#fdca26\"],[1.0,\"#f0f921\"]]}],\"surface\":[{\"type\":\"surface\",\"colorbar\":{\"outlinewidth\":0,\"ticks\":\"\"},\"colorscale\":[[0.0,\"#0d0887\"],[0.1111111111111111,\"#46039f\"],[0.2222222222222222,\"#7201a8\"],[0.3333333333333333,\"#9c179e\"],[0.4444444444444444,\"#bd3786\"],[0.5555555555555556,\"#d8576b\"],[0.6666666666666666,\"#ed7953\"],[0.7777777777777778,\"#fb9f3a\"],[0.8888888888888888,\"#fdca26\"],[1.0,\"#f0f921\"]]}],\"mesh3d\":[{\"type\":\"mesh3d\",\"colorbar\":{\"outlinewidth\":0,\"ticks\":\"\"}}],\"scatter\":[{\"fillpattern\":{\"fillmode\":\"overlay\",\"size\":10,\"solidity\":0.2},\"type\":\"scatter\"}],\"parcoords\":[{\"type\":\"parcoords\",\"line\":{\"colorbar\":{\"outlinewidth\":0,\"ticks\":\"\"}}}],\"scatterpolargl\":[{\"type\":\"scatterpolargl\",\"marker\":{\"colorbar\":{\"outlinewidth\":0,\"ticks\":\"\"}}}],\"bar\":[{\"error_x\":{\"color\":\"#2a3f5f\"},\"error_y\":{\"color\":\"#2a3f5f\"},\"marker\":{\"line\":{\"color\":\"#E5ECF6\",\"width\":0.5},\"pattern\":{\"fillmode\":\"overlay\",\"size\":10,\"solidity\":0.2}},\"type\":\"bar\"}],\"scattergeo\":[{\"type\":\"scattergeo\",\"marker\":{\"colorbar\":{\"outlinewidth\":0,\"ticks\":\"\"}}}],\"scatterpolar\":[{\"type\":\"scatterpolar\",\"marker\":{\"colorbar\":{\"outlinewidth\":0,\"ticks\":\"\"}}}],\"histogram\":[{\"marker\":{\"pattern\":{\"fillmode\":\"overlay\",\"size\":10,\"solidity\":0.2}},\"type\":\"histogram\"}],\"scattergl\":[{\"type\":\"scattergl\",\"marker\":{\"colorbar\":{\"outlinewidth\":0,\"ticks\":\"\"}}}],\"scatter3d\":[{\"type\":\"scatter3d\",\"line\":{\"colorbar\":{\"outlinewidth\":0,\"ticks\":\"\"}},\"marker\":{\"colorbar\":{\"outlinewidth\":0,\"ticks\":\"\"}}}],\"scattermapbox\":[{\"type\":\"scattermapbox\",\"marker\":{\"colorbar\":{\"outlinewidth\":0,\"ticks\":\"\"}}}],\"scatterternary\":[{\"type\":\"scatterternary\",\"marker\":{\"colorbar\":{\"outlinewidth\":0,\"ticks\":\"\"}}}],\"scattercarpet\":[{\"type\":\"scattercarpet\",\"marker\":{\"colorbar\":{\"outlinewidth\":0,\"ticks\":\"\"}}}],\"carpet\":[{\"aaxis\":{\"endlinecolor\":\"#2a3f5f\",\"gridcolor\":\"white\",\"linecolor\":\"white\",\"minorgridcolor\":\"white\",\"startlinecolor\":\"#2a3f5f\"},\"baxis\":{\"endlinecolor\":\"#2a3f5f\",\"gridcolor\":\"white\",\"linecolor\":\"white\",\"minorgridcolor\":\"white\",\"startlinecolor\":\"#2a3f5f\"},\"type\":\"carpet\"}],\"table\":[{\"cells\":{\"fill\":{\"color\":\"#EBF0F8\"},\"line\":{\"color\":\"white\"}},\"header\":{\"fill\":{\"color\":\"#C8D4E3\"},\"line\":{\"color\":\"white\"}},\"type\":\"table\"}],\"barpolar\":[{\"marker\":{\"line\":{\"color\":\"#E5ECF6\",\"width\":0.5},\"pattern\":{\"fillmode\":\"overlay\",\"size\":10,\"solidity\":0.2}},\"type\":\"barpolar\"}],\"pie\":[{\"automargin\":true,\"type\":\"pie\"}]},\"layout\":{\"autotypenumbers\":\"strict\",\"colorway\":[\"#636efa\",\"#EF553B\",\"#00cc96\",\"#ab63fa\",\"#FFA15A\",\"#19d3f3\",\"#FF6692\",\"#B6E880\",\"#FF97FF\",\"#FECB52\"],\"font\":{\"color\":\"#2a3f5f\"},\"hovermode\":\"closest\",\"hoverlabel\":{\"align\":\"left\"},\"paper_bgcolor\":\"white\",\"plot_bgcolor\":\"#E5ECF6\",\"polar\":{\"bgcolor\":\"#E5ECF6\",\"angularaxis\":{\"gridcolor\":\"white\",\"linecolor\":\"white\",\"ticks\":\"\"},\"radialaxis\":{\"gridcolor\":\"white\",\"linecolor\":\"white\",\"ticks\":\"\"}},\"ternary\":{\"bgcolor\":\"#E5ECF6\",\"aaxis\":{\"gridcolor\":\"white\",\"linecolor\":\"white\",\"ticks\":\"\"},\"baxis\":{\"gridcolor\":\"white\",\"linecolor\":\"white\",\"ticks\":\"\"},\"caxis\":{\"gridcolor\":\"white\",\"linecolor\":\"white\",\"ticks\":\"\"}},\"coloraxis\":{\"colorbar\":{\"outlinewidth\":0,\"ticks\":\"\"}},\"colorscale\":{\"sequential\":[[0.0,\"#0d0887\"],[0.1111111111111111,\"#46039f\"],[0.2222222222222222,\"#7201a8\"],[0.3333333333333333,\"#9c179e\"],[0.4444444444444444,\"#bd3786\"],[0.5555555555555556,\"#d8576b\"],[0.6666666666666666,\"#ed7953\"],[0.7777777777777778,\"#fb9f3a\"],[0.8888888888888888,\"#fdca26\"],[1.0,\"#f0f921\"]],\"sequentialminus\":[[0.0,\"#0d0887\"],[0.1111111111111111,\"#46039f\"],[0.2222222222222222,\"#7201a8\"],[0.3333333333333333,\"#9c179e\"],[0.4444444444444444,\"#bd3786\"],[0.5555555555555556,\"#d8576b\"],[0.6666666666666666,\"#ed7953\"],[0.7777777777777778,\"#fb9f3a\"],[0.8888888888888888,\"#fdca26\"],[1.0,\"#f0f921\"]],\"diverging\":[[0,\"#8e0152\"],[0.1,\"#c51b7d\"],[0.2,\"#de77ae\"],[0.3,\"#f1b6da\"],[0.4,\"#fde0ef\"],[0.5,\"#f7f7f7\"],[0.6,\"#e6f5d0\"],[0.7,\"#b8e186\"],[0.8,\"#7fbc41\"],[0.9,\"#4d9221\"],[1,\"#276419\"]]},\"xaxis\":{\"gridcolor\":\"white\",\"linecolor\":\"white\",\"ticks\":\"\",\"title\":{\"standoff\":15},\"zerolinecolor\":\"white\",\"automargin\":true,\"zerolinewidth\":2},\"yaxis\":{\"gridcolor\":\"white\",\"linecolor\":\"white\",\"ticks\":\"\",\"title\":{\"standoff\":15},\"zerolinecolor\":\"white\",\"automargin\":true,\"zerolinewidth\":2},\"scene\":{\"xaxis\":{\"backgroundcolor\":\"#E5ECF6\",\"gridcolor\":\"white\",\"linecolor\":\"white\",\"showbackground\":true,\"ticks\":\"\",\"zerolinecolor\":\"white\",\"gridwidth\":2},\"yaxis\":{\"backgroundcolor\":\"#E5ECF6\",\"gridcolor\":\"white\",\"linecolor\":\"white\",\"showbackground\":true,\"ticks\":\"\",\"zerolinecolor\":\"white\",\"gridwidth\":2},\"zaxis\":{\"backgroundcolor\":\"#E5ECF6\",\"gridcolor\":\"white\",\"linecolor\":\"white\",\"showbackground\":true,\"ticks\":\"\",\"zerolinecolor\":\"white\",\"gridwidth\":2}},\"shapedefaults\":{\"line\":{\"color\":\"#2a3f5f\"}},\"annotationdefaults\":{\"arrowcolor\":\"#2a3f5f\",\"arrowhead\":0,\"arrowwidth\":1},\"geo\":{\"bgcolor\":\"white\",\"landcolor\":\"#E5ECF6\",\"subunitcolor\":\"white\",\"showland\":true,\"showlakes\":true,\"lakecolor\":\"white\"},\"title\":{\"x\":0.05},\"mapbox\":{\"style\":\"light\"}}}},                        {\"responsive\": true}                    ).then(function(){\n",
              "                            \n",
              "var gd = document.getElementById('072baf7d-8479-43ba-8530-a91c76c294b0');\n",
              "var x = new MutationObserver(function (mutations, observer) {{\n",
              "        var display = window.getComputedStyle(gd).display;\n",
              "        if (!display || display === 'none') {{\n",
              "            console.log([gd, 'removed!']);\n",
              "            Plotly.purge(gd);\n",
              "            observer.disconnect();\n",
              "        }}\n",
              "}});\n",
              "\n",
              "// Listen for the removal of the full notebook cells\n",
              "var notebookContainer = gd.closest('#notebook-container');\n",
              "if (notebookContainer) {{\n",
              "    x.observe(notebookContainer, {childList: true});\n",
              "}}\n",
              "\n",
              "// Listen for the clearing of the current output cell\n",
              "var outputEl = gd.closest('.output');\n",
              "if (outputEl) {{\n",
              "    x.observe(outputEl, {childList: true});\n",
              "}}\n",
              "\n",
              "                        })                };                            </script>        </div>\n",
              "</body>\n",
              "</html>"
            ]
          },
          "metadata": {}
        }
      ]
    }
  ]
}