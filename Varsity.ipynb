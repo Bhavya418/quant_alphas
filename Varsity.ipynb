{
  "nbformat": 4,
  "nbformat_minor": 0,
  "metadata": {
    "colab": {
      "provenance": []
    },
    "kernelspec": {
      "name": "python3",
      "display_name": "Python 3"
    },
    "language_info": {
      "name": "python"
    }
  },
  "cells": [
    {
      "cell_type": "code",
      "source": [
        "!pip install plotly\n",
        "!pip install mplfinance"
      ],
      "metadata": {
        "colab": {
          "base_uri": "https://localhost:8080/"
        },
        "id": "9jrmll0MaimF",
        "outputId": "b9403c83-98a6-4d06-e3c8-7f6f8245a414"
      },
      "execution_count": null,
      "outputs": [
        {
          "output_type": "stream",
          "name": "stdout",
          "text": [
            "Requirement already satisfied: plotly in /usr/local/lib/python3.11/dist-packages (5.24.1)\n",
            "Requirement already satisfied: tenacity>=6.2.0 in /usr/local/lib/python3.11/dist-packages (from plotly) (9.1.2)\n",
            "Requirement already satisfied: packaging in /usr/local/lib/python3.11/dist-packages (from plotly) (24.2)\n",
            "Requirement already satisfied: mplfinance in /usr/local/lib/python3.11/dist-packages (0.12.10b0)\n",
            "Requirement already satisfied: matplotlib in /usr/local/lib/python3.11/dist-packages (from mplfinance) (3.10.0)\n",
            "Requirement already satisfied: pandas in /usr/local/lib/python3.11/dist-packages (from mplfinance) (2.2.2)\n",
            "Requirement already satisfied: contourpy>=1.0.1 in /usr/local/lib/python3.11/dist-packages (from matplotlib->mplfinance) (1.3.1)\n",
            "Requirement already satisfied: cycler>=0.10 in /usr/local/lib/python3.11/dist-packages (from matplotlib->mplfinance) (0.12.1)\n",
            "Requirement already satisfied: fonttools>=4.22.0 in /usr/local/lib/python3.11/dist-packages (from matplotlib->mplfinance) (4.57.0)\n",
            "Requirement already satisfied: kiwisolver>=1.3.1 in /usr/local/lib/python3.11/dist-packages (from matplotlib->mplfinance) (1.4.8)\n",
            "Requirement already satisfied: numpy>=1.23 in /usr/local/lib/python3.11/dist-packages (from matplotlib->mplfinance) (2.0.2)\n",
            "Requirement already satisfied: packaging>=20.0 in /usr/local/lib/python3.11/dist-packages (from matplotlib->mplfinance) (24.2)\n",
            "Requirement already satisfied: pillow>=8 in /usr/local/lib/python3.11/dist-packages (from matplotlib->mplfinance) (11.1.0)\n",
            "Requirement already satisfied: pyparsing>=2.3.1 in /usr/local/lib/python3.11/dist-packages (from matplotlib->mplfinance) (3.2.3)\n",
            "Requirement already satisfied: python-dateutil>=2.7 in /usr/local/lib/python3.11/dist-packages (from matplotlib->mplfinance) (2.8.2)\n",
            "Requirement already satisfied: pytz>=2020.1 in /usr/local/lib/python3.11/dist-packages (from pandas->mplfinance) (2025.2)\n",
            "Requirement already satisfied: tzdata>=2022.7 in /usr/local/lib/python3.11/dist-packages (from pandas->mplfinance) (2025.2)\n",
            "Requirement already satisfied: six>=1.5 in /usr/local/lib/python3.11/dist-packages (from python-dateutil>=2.7->matplotlib->mplfinance) (1.17.0)\n"
          ]
        }
      ]
    },
    {
      "cell_type": "code",
      "execution_count": null,
      "metadata": {
        "id": "3xeLVkbdIoTj"
      },
      "outputs": [],
      "source": [
        "import pandas as pd\n",
        "import mplfinance as mpf\n",
        "import matplotlib.pyplot as plt\n",
        "import requests\n",
        "import plotly.graph_objects as go\n",
        "from datetime import datetime\n"
      ]
    },
    {
      "cell_type": "markdown",
      "source": [
        "Function to check for symbols"
      ],
      "metadata": {
        "id": "dQC3lh5TyoMJ"
      }
    },
    {
      "cell_type": "code",
      "source": [
        "url = 'https://www.alphavantage.co/query?function=SYMBOL_SEARCH&keywords=tata&apikey=SHEYWPL1ZYCDZ17D'\n",
        "r = requests.get(url)\n",
        "data = r.json()\n",
        "\n",
        "print(data)"
      ],
      "metadata": {
        "id": "p7upZSwOymOY"
      },
      "execution_count": null,
      "outputs": []
    },
    {
      "cell_type": "code",
      "source": [
        "def fetch_daily_ohlc(symbol, apikey):\n",
        "    url = f\"https://www.alphavantage.co/query?function=TIME_SERIES_DAILY&symbol={symbol}&outputsize=compact&apikey={apikey}\"\n",
        "    r = requests.get(url)\n",
        "    return r.json()\n"
      ],
      "metadata": {
        "id": "nGN1KepVKZmr"
      },
      "execution_count": null,
      "outputs": []
    },
    {
      "cell_type": "code",
      "source": [
        "def calculate_percentage_differences(val1, val2):\n",
        "    return abs(val1 - val2) / val2 * 100\n",
        "\n",
        "\n",
        "def calculate_candle_length_percentage(open_price, close_price):\n",
        "    return abs(close_price - open_price) / open_price * 100"
      ],
      "metadata": {
        "id": "1kmeRYFRMgK7"
      },
      "execution_count": null,
      "outputs": []
    },
    {
      "cell_type": "code",
      "source": [
        "def is_marubozu(candle,\n",
        "    candle_type=\"bullish\",\n",
        "    upper_wick_threshold=1.0,\n",
        "    lower_wick_threshold=1.0,\n",
        "    min_candle_length=1.0,\n",
        "    max_candle_length=10.0):\n",
        "\n",
        "    open_price = float(candle[\"1. open\"])\n",
        "    close_price = float(candle[\"4. close\"])\n",
        "    high_price = float(candle[\"2. high\"])\n",
        "    low_price = float(candle[\"3. low\"])\n",
        "\n",
        "    high_close_diff_pct = calculate_percentage_differences(high_price, close_price)\n",
        "    open_low_diff_pct = calculate_percentage_differences(open_price, low_price)\n",
        "    high_open_diff_pct = calculate_percentage_differences(high_price, open_price)\n",
        "    close_low_diff_pct = calculate_percentage_differences(close_price, low_price)\n",
        "\n",
        "    candle_length_pct = calculate_candle_length_percentage(open_price, close_price)\n",
        "\n",
        "    if not (min_candle_length <= candle_length_pct <= max_candle_length):\n",
        "        return False\n",
        "\n",
        "    if candle_type == \"bullish\":\n",
        "        return (\n",
        "            high_close_diff_pct < upper_wick_threshold and\n",
        "            open_low_diff_pct < lower_wick_threshold and\n",
        "            close_price > open_price\n",
        "        )\n",
        "    elif candle_type == \"bearish\":\n",
        "        return (\n",
        "            high_open_diff_pct < upper_wick_threshold and\n",
        "            close_low_diff_pct < lower_wick_threshold and\n",
        "            open_price > close_price\n",
        "        )\n",
        "    else:\n",
        "        raise ValueError(\"Invalid candle_type. Use 'bullish' or 'bearish'.\")\n",
        "\n",
        "\n",
        "def detect_marubozu(data,\n",
        "    candle_type=\"bullish\",\n",
        "    upper_wick_threshold=1.0,\n",
        "    lower_wick_threshold=1.0,\n",
        "    min_candle_length=1.0,\n",
        "    max_candle_length=10.0):\n",
        "    time_series = data.get(\"Time Series (Daily)\", {})\n",
        "    results = []\n",
        "\n",
        "    for date, candle in time_series.items():\n",
        "        if is_marubozu(\n",
        "            candle,\n",
        "            candle_type,\n",
        "            upper_wick_threshold,\n",
        "            lower_wick_threshold,\n",
        "            min_candle_length,\n",
        "            max_candle_length\n",
        "        ):\n",
        "            results.append({\n",
        "                \"date\": date,\n",
        "                \"type\": candle_type,\n",
        "                \"open\": float(candle[\"1. open\"]),\n",
        "                \"high\": float(candle[\"2. high\"]),\n",
        "                \"low\": float(candle[\"3. low\"]),\n",
        "                \"close\": float(candle[\"4. close\"]),\n",
        "                \"volume\": int(candle[\"5. volume\"])\n",
        "            })\n",
        "\n",
        "    return results"
      ],
      "metadata": {
        "id": "W80-MXoXO-L2"
      },
      "execution_count": null,
      "outputs": []
    },
    {
      "cell_type": "code",
      "source": [
        "def detect_all_marubozus(data,\n",
        "    upper_wick_threshold=1.0,\n",
        "    lower_wick_threshold=1.0,\n",
        "    min_candle_length=1.0,\n",
        "    max_candle_length=10.0):\n",
        "\n",
        "    bullish_results = detect_marubozu(\n",
        "        data, \"bullish\",\n",
        "        upper_wick_threshold,\n",
        "        lower_wick_threshold,\n",
        "        min_candle_length,\n",
        "        max_candle_length\n",
        "    )\n",
        "\n",
        "    bearish_results = detect_marubozu(\n",
        "        data, \"bearish\",\n",
        "        upper_wick_threshold,\n",
        "        lower_wick_threshold,\n",
        "        min_candle_length,\n",
        "        max_candle_length\n",
        "    )\n",
        "\n",
        "    # Add type label to each result dict\n",
        "    for result in bullish_results:\n",
        "        result['type'] = 'bullish'\n",
        "    for result in bearish_results:\n",
        "        result['type'] = 'bearish'\n",
        "\n",
        "    combined_results = bullish_results + bearish_results\n",
        "\n",
        "    return pd.DataFrame(combined_results)\n"
      ],
      "metadata": {
        "id": "amWwyhnAPPsG"
      },
      "execution_count": null,
      "outputs": []
    },
    {
      "cell_type": "code",
      "source": [
        "def plot_candlestick_with_marubozu(data, marubozu_df):\n",
        "    # Extract the time series data and convert it into a DataFrame\n",
        "    time_series = data.get(\"Time Series (Daily)\", {})\n",
        "\n",
        "    # Convert the time series into a DataFrame\n",
        "    df = pd.DataFrame.from_dict(time_series, orient='index')\n",
        "\n",
        "    # Convert all values to float and rename columns for mplfinance compatibility\n",
        "    df = df[['1. open', '2. high', '3. low', '4. close', '5. volume']].astype(float)\n",
        "    df.columns = ['Open', 'High', 'Low', 'Close', 'Volume']\n",
        "\n",
        "    # Convert the index to datetime\n",
        "    df.index = pd.to_datetime(df.index)\n",
        "    fig = go.Figure(data=[go.Candlestick(x=df.index,\n",
        "                open=df['Open'],\n",
        "                high=df['High'],\n",
        "                low=df['Low'],\n",
        "                close=df['Close'])])\n",
        "\n",
        "    fig.show()"
      ],
      "metadata": {
        "id": "izHBleJxqj-7"
      },
      "execution_count": null,
      "outputs": []
    },
    {
      "cell_type": "code",
      "source": [
        "apikey = \"SHEYWPL1ZYCDZ17D\"\n",
        "symbol = \"RELIANCE.BSE\"\n",
        "data = fetch_daily_ohlc(symbol, apikey)\n",
        "\n",
        "marubozu_df = detect_all_marubozus(\n",
        "        data,\n",
        "        upper_wick_threshold=0.5,\n",
        "        lower_wick_threshold=0.5,\n",
        "        min_candle_length=1.0,\n",
        "        max_candle_length=10.0\n",
        ")\n",
        "\n",
        "print(\"Detected Marubozu Candles:\")\n",
        "print(marubozu_df)\n"
      ],
      "metadata": {
        "colab": {
          "base_uri": "https://localhost:8080/"
        },
        "id": "y59LXJJPQ1q5",
        "outputId": "5bb2992a-8335-45e7-f7f8-6056f729a2c8"
      },
      "execution_count": null,
      "outputs": [
        {
          "output_type": "stream",
          "name": "stdout",
          "text": [
            "Detected Marubozu Candles:\n",
            "          date     type     open     high      low    close   volume\n",
            "0   2025-04-11  bullish  1200.00  1222.45  1197.05  1219.30   684519\n",
            "1   2025-04-09  bullish  1172.40  1189.50  1169.10  1185.60   495957\n",
            "2   2025-03-24  bullish  1286.40  1305.30  1281.00  1301.35   861533\n",
            "3   2025-03-20  bullish  1254.20  1272.80  1250.00  1268.55   612659\n",
            "4   2025-03-07  bullish  1214.05  1254.50  1212.30  1249.10   794738\n",
            "5   2025-02-04  bullish  1247.05  1289.00  1246.65  1286.00   397483\n",
            "6   2025-01-30  bullish  1235.00  1256.60  1232.25  1253.60   462230\n",
            "7   2025-01-08  bullish  1251.20  1270.70  1245.00  1264.70   881916\n",
            "8   2025-01-07  bullish  1221.65  1243.40  1221.40  1240.90   512057\n",
            "9   2025-01-02  bullish  1220.70  1244.50  1220.25  1241.65   529144\n",
            "10  2025-04-01  bearish  1274.60  1277.80  1250.00  1252.45   722008\n",
            "11  2025-03-26  bearish  1290.25  1293.95  1269.00  1272.55   658347\n",
            "12  2025-03-25  bearish  1307.00  1307.00  1283.00  1285.40   865836\n",
            "13  2025-03-13  bearish  1262.90  1264.00  1244.00  1247.40   302876\n",
            "14  2025-02-11  bearish  1263.05  1263.40  1230.00  1234.60   554854\n",
            "15  2025-01-24  bearish  1266.90  1273.10  1244.00  1245.90   430797\n",
            "16  2025-01-21  bearish  1310.00  1312.85  1269.55  1272.95  1210468\n",
            "17  2025-01-20  bearish  1319.35  1319.35  1300.55  1305.00   242236\n",
            "18  2024-12-17  bearish  1262.65  1262.65  1242.60  1245.10   639483\n",
            "19  2024-12-06  bearish  1326.90  1326.90  1309.80  1311.80   412701\n",
            "20  2024-12-04  bearish  1326.95  1329.00  1305.00  1309.00   438492\n",
            "21  2024-11-28  bearish  1291.95  1296.80  1269.25  1271.35   481819\n",
            "22  2024-11-21  bearish  1247.05  1247.05  1217.70  1223.20   491073\n"
          ]
        }
      ]
    },
    {
      "cell_type": "code",
      "source": [
        "plot_candlestick_with_marubozu(data, marubozu_df)"
      ],
      "metadata": {
        "colab": {
          "base_uri": "https://localhost:8080/",
          "height": 542
        },
        "id": "I7GnaTk8k8BG",
        "outputId": "5c8eb206-b088-45c0-9125-a10b6c3bcf4b"
      },
      "execution_count": null,
      "outputs": [
        {
          "output_type": "display_data",
          "data": {
            "text/html": [
              "<html>\n",
              "<head><meta charset=\"utf-8\" /></head>\n",
              "<body>\n",
              "    <div>            <script src=\"https://cdnjs.cloudflare.com/ajax/libs/mathjax/2.7.5/MathJax.js?config=TeX-AMS-MML_SVG\"></script><script type=\"text/javascript\">if (window.MathJax && window.MathJax.Hub && window.MathJax.Hub.Config) {window.MathJax.Hub.Config({SVG: {font: \"STIX-Web\"}});}</script>                <script type=\"text/javascript\">window.PlotlyConfig = {MathJaxConfig: 'local'};</script>\n",
              "        <script charset=\"utf-8\" src=\"https://cdn.plot.ly/plotly-2.35.2.min.js\"></script>                <div id=\"b526c282-4668-4af3-9870-c3bf3fc7c6c0\" class=\"plotly-graph-div\" style=\"height:525px; width:100%;\"></div>            <script type=\"text/javascript\">                                    window.PLOTLYENV=window.PLOTLYENV || {};                                    if (document.getElementById(\"b526c282-4668-4af3-9870-c3bf3fc7c6c0\")) {                    Plotly.newPlot(                        \"b526c282-4668-4af3-9870-c3bf3fc7c6c0\",                        [{\"close\":[1219.3,1185.6,1182.4,1166.2,1204.7,1248.6,1251.1,1252.45,1275.0,1278.4,1272.55,1285.4,1301.35,1276.45,1268.55,1247.7,1238.8,1240.4,1247.4,1256.6,1247.4,1238.2,1249.1,1210.55,1175.75,1161.7,1171.1,1199.6,1207.05,1203.9,1214.75,1227.7,1233.05,1226.95,1224.95,1224.75,1216.95,1216.2,1215.7,1234.6,1253.4,1266.85,1281.55,1278.05,1286.0,1245.15,1264.65,1264.9,1253.6,1235.8,1233.8,1229.3,1245.9,1263.85,1277.3,1272.95,1305.0,1301.3,1268.7,1252.3,1238.55,1240.05,1242.35,1255.0,1264.7,1240.9,1218.2,1251.35,1241.65,1221.65,1215.45,1210.9,1220.95,1216.6,1223.5,1222.1,1206.0,1230.6,1253.05,1245.1,1268.05,1273.35,1263.85,1278.1,1284.95,1295.15,1311.8,1321.2,1309.0,1323.35,1309.05,1292.45,1271.35,1292.9,1295.55,1287.8,1265.95,1223.2,1241.3,1260.65],\"high\":[1222.45,1189.5,1196.8,1171.0,1245.2,1251.2,1256.0,1277.8,1295.7,1285.15,1293.95,1307.0,1305.3,1284.5,1272.8,1252.75,1248.1,1257.2,1264.0,1261.55,1249.55,1258.0,1254.5,1214.0,1183.05,1174.1,1209.8,1217.4,1215.0,1221.0,1223.0,1239.95,1239.4,1232.8,1229.95,1227.2,1224.3,1227.95,1227.85,1263.4,1266.0,1284.75,1287.35,1290.0,1289.0,1255.9,1269.95,1266.0,1256.6,1242.75,1244.15,1240.45,1273.1,1277.25,1282.9,1312.85,1319.35,1325.1,1275.0,1256.75,1255.05,1245.15,1256.7,1269.4,1270.7,1243.4,1261.7,1262.3,1244.5,1226.2,1219.05,1223.35,1227.6,1228.0,1233.45,1227.0,1239.75,1244.95,1259.9,1262.65,1281.6,1275.15,1278.1,1290.0,1295.0,1315.45,1326.9,1329.5,1329.0,1326.7,1311.05,1299.3,1296.8,1303.8,1297.85,1304.35,1268.65,1247.05,1281.0,1273.1],\"low\":[1197.05,1169.1,1163.85,1115.55,1192.85,1234.55,1243.8,1250.0,1269.05,1272.05,1269.0,1283.0,1281.0,1270.05,1250.0,1239.35,1234.9,1233.25,1244.0,1244.0,1230.0,1235.5,1212.3,1185.5,1158.0,1159.25,1156.0,1193.3,1201.0,1201.0,1210.6,1222.35,1223.0,1217.6,1216.4,1205.15,1206.0,1212.15,1193.65,1230.0,1245.85,1262.0,1270.8,1276.15,1246.65,1238.0,1241.5,1249.5,1232.25,1228.45,1218.9,1220.05,1244.0,1261.55,1268.8,1269.55,1300.55,1284.7,1251.4,1242.15,1227.3,1225.6,1236.15,1248.0,1245.0,1221.4,1215.3,1235.6,1220.25,1212.1,1206.4,1208.65,1216.65,1214.45,1221.45,1213.15,1202.1,1229.4,1241.75,1242.6,1266.85,1240.0,1261.05,1275.35,1280.75,1292.9,1309.8,1306.4,1305.0,1307.25,1277.0,1274.75,1269.25,1286.2,1284.0,1282.65,1223.05,1217.7,1235.45,1244.0],\"open\":[1200.0,1172.4,1177.85,1125.0,1240.0,1238.95,1250.35,1274.6,1279.3,1275.05,1290.25,1307.0,1286.4,1270.05,1254.2,1242.0,1243.5,1247.0,1262.9,1256.85,1238.05,1249.1,1214.05,1201.0,1162.0,1165.0,1209.8,1201.0,1213.55,1213.95,1219.4,1229.95,1226.25,1222.75,1225.25,1215.75,1220.0,1218.95,1219.95,1263.05,1263.8,1266.45,1276.6,1284.95,1247.05,1250.0,1265.0,1257.4,1235.0,1237.3,1236.6,1239.9,1266.9,1274.75,1279.0,1310.0,1319.35,1325.1,1260.2,1247.0,1240.0,1230.0,1255.9,1267.9,1251.2,1221.65,1251.55,1247.75,1220.7,1218.95,1210.4,1219.65,1216.65,1224.65,1231.9,1217.25,1229.95,1239.95,1243.4,1262.65,1275.0,1265.0,1275.2,1286.5,1290.0,1303.0,1326.9,1310.75,1326.95,1318.85,1291.65,1280.0,1291.95,1295.75,1296.45,1294.8,1229.9,1247.05,1259.05,1266.55],\"x\":[\"2025-04-11T00:00:00\",\"2025-04-09T00:00:00\",\"2025-04-08T00:00:00\",\"2025-04-07T00:00:00\",\"2025-04-04T00:00:00\",\"2025-04-03T00:00:00\",\"2025-04-02T00:00:00\",\"2025-04-01T00:00:00\",\"2025-03-28T00:00:00\",\"2025-03-27T00:00:00\",\"2025-03-26T00:00:00\",\"2025-03-25T00:00:00\",\"2025-03-24T00:00:00\",\"2025-03-21T00:00:00\",\"2025-03-20T00:00:00\",\"2025-03-19T00:00:00\",\"2025-03-18T00:00:00\",\"2025-03-17T00:00:00\",\"2025-03-13T00:00:00\",\"2025-03-12T00:00:00\",\"2025-03-11T00:00:00\",\"2025-03-10T00:00:00\",\"2025-03-07T00:00:00\",\"2025-03-06T00:00:00\",\"2025-03-05T00:00:00\",\"2025-03-04T00:00:00\",\"2025-03-03T00:00:00\",\"2025-02-28T00:00:00\",\"2025-02-27T00:00:00\",\"2025-02-25T00:00:00\",\"2025-02-24T00:00:00\",\"2025-02-21T00:00:00\",\"2025-02-20T00:00:00\",\"2025-02-19T00:00:00\",\"2025-02-18T00:00:00\",\"2025-02-17T00:00:00\",\"2025-02-14T00:00:00\",\"2025-02-13T00:00:00\",\"2025-02-12T00:00:00\",\"2025-02-11T00:00:00\",\"2025-02-10T00:00:00\",\"2025-02-07T00:00:00\",\"2025-02-06T00:00:00\",\"2025-02-05T00:00:00\",\"2025-02-04T00:00:00\",\"2025-02-03T00:00:00\",\"2025-02-01T00:00:00\",\"2025-01-31T00:00:00\",\"2025-01-30T00:00:00\",\"2025-01-29T00:00:00\",\"2025-01-28T00:00:00\",\"2025-01-27T00:00:00\",\"2025-01-24T00:00:00\",\"2025-01-23T00:00:00\",\"2025-01-22T00:00:00\",\"2025-01-21T00:00:00\",\"2025-01-20T00:00:00\",\"2025-01-17T00:00:00\",\"2025-01-16T00:00:00\",\"2025-01-15T00:00:00\",\"2025-01-14T00:00:00\",\"2025-01-13T00:00:00\",\"2025-01-10T00:00:00\",\"2025-01-09T00:00:00\",\"2025-01-08T00:00:00\",\"2025-01-07T00:00:00\",\"2025-01-06T00:00:00\",\"2025-01-03T00:00:00\",\"2025-01-02T00:00:00\",\"2025-01-01T00:00:00\",\"2024-12-31T00:00:00\",\"2024-12-30T00:00:00\",\"2024-12-27T00:00:00\",\"2024-12-26T00:00:00\",\"2024-12-24T00:00:00\",\"2024-12-23T00:00:00\",\"2024-12-20T00:00:00\",\"2024-12-19T00:00:00\",\"2024-12-18T00:00:00\",\"2024-12-17T00:00:00\",\"2024-12-16T00:00:00\",\"2024-12-13T00:00:00\",\"2024-12-12T00:00:00\",\"2024-12-11T00:00:00\",\"2024-12-10T00:00:00\",\"2024-12-09T00:00:00\",\"2024-12-06T00:00:00\",\"2024-12-05T00:00:00\",\"2024-12-04T00:00:00\",\"2024-12-03T00:00:00\",\"2024-12-02T00:00:00\",\"2024-11-29T00:00:00\",\"2024-11-28T00:00:00\",\"2024-11-27T00:00:00\",\"2024-11-26T00:00:00\",\"2024-11-25T00:00:00\",\"2024-11-22T00:00:00\",\"2024-11-21T00:00:00\",\"2024-11-19T00:00:00\",\"2024-11-18T00:00:00\"],\"type\":\"candlestick\"}],                        {\"template\":{\"data\":{\"histogram2dcontour\":[{\"type\":\"histogram2dcontour\",\"colorbar\":{\"outlinewidth\":0,\"ticks\":\"\"},\"colorscale\":[[0.0,\"#0d0887\"],[0.1111111111111111,\"#46039f\"],[0.2222222222222222,\"#7201a8\"],[0.3333333333333333,\"#9c179e\"],[0.4444444444444444,\"#bd3786\"],[0.5555555555555556,\"#d8576b\"],[0.6666666666666666,\"#ed7953\"],[0.7777777777777778,\"#fb9f3a\"],[0.8888888888888888,\"#fdca26\"],[1.0,\"#f0f921\"]]}],\"choropleth\":[{\"type\":\"choropleth\",\"colorbar\":{\"outlinewidth\":0,\"ticks\":\"\"}}],\"histogram2d\":[{\"type\":\"histogram2d\",\"colorbar\":{\"outlinewidth\":0,\"ticks\":\"\"},\"colorscale\":[[0.0,\"#0d0887\"],[0.1111111111111111,\"#46039f\"],[0.2222222222222222,\"#7201a8\"],[0.3333333333333333,\"#9c179e\"],[0.4444444444444444,\"#bd3786\"],[0.5555555555555556,\"#d8576b\"],[0.6666666666666666,\"#ed7953\"],[0.7777777777777778,\"#fb9f3a\"],[0.8888888888888888,\"#fdca26\"],[1.0,\"#f0f921\"]]}],\"heatmap\":[{\"type\":\"heatmap\",\"colorbar\":{\"outlinewidth\":0,\"ticks\":\"\"},\"colorscale\":[[0.0,\"#0d0887\"],[0.1111111111111111,\"#46039f\"],[0.2222222222222222,\"#7201a8\"],[0.3333333333333333,\"#9c179e\"],[0.4444444444444444,\"#bd3786\"],[0.5555555555555556,\"#d8576b\"],[0.6666666666666666,\"#ed7953\"],[0.7777777777777778,\"#fb9f3a\"],[0.8888888888888888,\"#fdca26\"],[1.0,\"#f0f921\"]]}],\"heatmapgl\":[{\"type\":\"heatmapgl\",\"colorbar\":{\"outlinewidth\":0,\"ticks\":\"\"},\"colorscale\":[[0.0,\"#0d0887\"],[0.1111111111111111,\"#46039f\"],[0.2222222222222222,\"#7201a8\"],[0.3333333333333333,\"#9c179e\"],[0.4444444444444444,\"#bd3786\"],[0.5555555555555556,\"#d8576b\"],[0.6666666666666666,\"#ed7953\"],[0.7777777777777778,\"#fb9f3a\"],[0.8888888888888888,\"#fdca26\"],[1.0,\"#f0f921\"]]}],\"contourcarpet\":[{\"type\":\"contourcarpet\",\"colorbar\":{\"outlinewidth\":0,\"ticks\":\"\"}}],\"contour\":[{\"type\":\"contour\",\"colorbar\":{\"outlinewidth\":0,\"ticks\":\"\"},\"colorscale\":[[0.0,\"#0d0887\"],[0.1111111111111111,\"#46039f\"],[0.2222222222222222,\"#7201a8\"],[0.3333333333333333,\"#9c179e\"],[0.4444444444444444,\"#bd3786\"],[0.5555555555555556,\"#d8576b\"],[0.6666666666666666,\"#ed7953\"],[0.7777777777777778,\"#fb9f3a\"],[0.8888888888888888,\"#fdca26\"],[1.0,\"#f0f921\"]]}],\"surface\":[{\"type\":\"surface\",\"colorbar\":{\"outlinewidth\":0,\"ticks\":\"\"},\"colorscale\":[[0.0,\"#0d0887\"],[0.1111111111111111,\"#46039f\"],[0.2222222222222222,\"#7201a8\"],[0.3333333333333333,\"#9c179e\"],[0.4444444444444444,\"#bd3786\"],[0.5555555555555556,\"#d8576b\"],[0.6666666666666666,\"#ed7953\"],[0.7777777777777778,\"#fb9f3a\"],[0.8888888888888888,\"#fdca26\"],[1.0,\"#f0f921\"]]}],\"mesh3d\":[{\"type\":\"mesh3d\",\"colorbar\":{\"outlinewidth\":0,\"ticks\":\"\"}}],\"scatter\":[{\"fillpattern\":{\"fillmode\":\"overlay\",\"size\":10,\"solidity\":0.2},\"type\":\"scatter\"}],\"parcoords\":[{\"type\":\"parcoords\",\"line\":{\"colorbar\":{\"outlinewidth\":0,\"ticks\":\"\"}}}],\"scatterpolargl\":[{\"type\":\"scatterpolargl\",\"marker\":{\"colorbar\":{\"outlinewidth\":0,\"ticks\":\"\"}}}],\"bar\":[{\"error_x\":{\"color\":\"#2a3f5f\"},\"error_y\":{\"color\":\"#2a3f5f\"},\"marker\":{\"line\":{\"color\":\"#E5ECF6\",\"width\":0.5},\"pattern\":{\"fillmode\":\"overlay\",\"size\":10,\"solidity\":0.2}},\"type\":\"bar\"}],\"scattergeo\":[{\"type\":\"scattergeo\",\"marker\":{\"colorbar\":{\"outlinewidth\":0,\"ticks\":\"\"}}}],\"scatterpolar\":[{\"type\":\"scatterpolar\",\"marker\":{\"colorbar\":{\"outlinewidth\":0,\"ticks\":\"\"}}}],\"histogram\":[{\"marker\":{\"pattern\":{\"fillmode\":\"overlay\",\"size\":10,\"solidity\":0.2}},\"type\":\"histogram\"}],\"scattergl\":[{\"type\":\"scattergl\",\"marker\":{\"colorbar\":{\"outlinewidth\":0,\"ticks\":\"\"}}}],\"scatter3d\":[{\"type\":\"scatter3d\",\"line\":{\"colorbar\":{\"outlinewidth\":0,\"ticks\":\"\"}},\"marker\":{\"colorbar\":{\"outlinewidth\":0,\"ticks\":\"\"}}}],\"scattermapbox\":[{\"type\":\"scattermapbox\",\"marker\":{\"colorbar\":{\"outlinewidth\":0,\"ticks\":\"\"}}}],\"scatterternary\":[{\"type\":\"scatterternary\",\"marker\":{\"colorbar\":{\"outlinewidth\":0,\"ticks\":\"\"}}}],\"scattercarpet\":[{\"type\":\"scattercarpet\",\"marker\":{\"colorbar\":{\"outlinewidth\":0,\"ticks\":\"\"}}}],\"carpet\":[{\"aaxis\":{\"endlinecolor\":\"#2a3f5f\",\"gridcolor\":\"white\",\"linecolor\":\"white\",\"minorgridcolor\":\"white\",\"startlinecolor\":\"#2a3f5f\"},\"baxis\":{\"endlinecolor\":\"#2a3f5f\",\"gridcolor\":\"white\",\"linecolor\":\"white\",\"minorgridcolor\":\"white\",\"startlinecolor\":\"#2a3f5f\"},\"type\":\"carpet\"}],\"table\":[{\"cells\":{\"fill\":{\"color\":\"#EBF0F8\"},\"line\":{\"color\":\"white\"}},\"header\":{\"fill\":{\"color\":\"#C8D4E3\"},\"line\":{\"color\":\"white\"}},\"type\":\"table\"}],\"barpolar\":[{\"marker\":{\"line\":{\"color\":\"#E5ECF6\",\"width\":0.5},\"pattern\":{\"fillmode\":\"overlay\",\"size\":10,\"solidity\":0.2}},\"type\":\"barpolar\"}],\"pie\":[{\"automargin\":true,\"type\":\"pie\"}]},\"layout\":{\"autotypenumbers\":\"strict\",\"colorway\":[\"#636efa\",\"#EF553B\",\"#00cc96\",\"#ab63fa\",\"#FFA15A\",\"#19d3f3\",\"#FF6692\",\"#B6E880\",\"#FF97FF\",\"#FECB52\"],\"font\":{\"color\":\"#2a3f5f\"},\"hovermode\":\"closest\",\"hoverlabel\":{\"align\":\"left\"},\"paper_bgcolor\":\"white\",\"plot_bgcolor\":\"#E5ECF6\",\"polar\":{\"bgcolor\":\"#E5ECF6\",\"angularaxis\":{\"gridcolor\":\"white\",\"linecolor\":\"white\",\"ticks\":\"\"},\"radialaxis\":{\"gridcolor\":\"white\",\"linecolor\":\"white\",\"ticks\":\"\"}},\"ternary\":{\"bgcolor\":\"#E5ECF6\",\"aaxis\":{\"gridcolor\":\"white\",\"linecolor\":\"white\",\"ticks\":\"\"},\"baxis\":{\"gridcolor\":\"white\",\"linecolor\":\"white\",\"ticks\":\"\"},\"caxis\":{\"gridcolor\":\"white\",\"linecolor\":\"white\",\"ticks\":\"\"}},\"coloraxis\":{\"colorbar\":{\"outlinewidth\":0,\"ticks\":\"\"}},\"colorscale\":{\"sequential\":[[0.0,\"#0d0887\"],[0.1111111111111111,\"#46039f\"],[0.2222222222222222,\"#7201a8\"],[0.3333333333333333,\"#9c179e\"],[0.4444444444444444,\"#bd3786\"],[0.5555555555555556,\"#d8576b\"],[0.6666666666666666,\"#ed7953\"],[0.7777777777777778,\"#fb9f3a\"],[0.8888888888888888,\"#fdca26\"],[1.0,\"#f0f921\"]],\"sequentialminus\":[[0.0,\"#0d0887\"],[0.1111111111111111,\"#46039f\"],[0.2222222222222222,\"#7201a8\"],[0.3333333333333333,\"#9c179e\"],[0.4444444444444444,\"#bd3786\"],[0.5555555555555556,\"#d8576b\"],[0.6666666666666666,\"#ed7953\"],[0.7777777777777778,\"#fb9f3a\"],[0.8888888888888888,\"#fdca26\"],[1.0,\"#f0f921\"]],\"diverging\":[[0,\"#8e0152\"],[0.1,\"#c51b7d\"],[0.2,\"#de77ae\"],[0.3,\"#f1b6da\"],[0.4,\"#fde0ef\"],[0.5,\"#f7f7f7\"],[0.6,\"#e6f5d0\"],[0.7,\"#b8e186\"],[0.8,\"#7fbc41\"],[0.9,\"#4d9221\"],[1,\"#276419\"]]},\"xaxis\":{\"gridcolor\":\"white\",\"linecolor\":\"white\",\"ticks\":\"\",\"title\":{\"standoff\":15},\"zerolinecolor\":\"white\",\"automargin\":true,\"zerolinewidth\":2},\"yaxis\":{\"gridcolor\":\"white\",\"linecolor\":\"white\",\"ticks\":\"\",\"title\":{\"standoff\":15},\"zerolinecolor\":\"white\",\"automargin\":true,\"zerolinewidth\":2},\"scene\":{\"xaxis\":{\"backgroundcolor\":\"#E5ECF6\",\"gridcolor\":\"white\",\"linecolor\":\"white\",\"showbackground\":true,\"ticks\":\"\",\"zerolinecolor\":\"white\",\"gridwidth\":2},\"yaxis\":{\"backgroundcolor\":\"#E5ECF6\",\"gridcolor\":\"white\",\"linecolor\":\"white\",\"showbackground\":true,\"ticks\":\"\",\"zerolinecolor\":\"white\",\"gridwidth\":2},\"zaxis\":{\"backgroundcolor\":\"#E5ECF6\",\"gridcolor\":\"white\",\"linecolor\":\"white\",\"showbackground\":true,\"ticks\":\"\",\"zerolinecolor\":\"white\",\"gridwidth\":2}},\"shapedefaults\":{\"line\":{\"color\":\"#2a3f5f\"}},\"annotationdefaults\":{\"arrowcolor\":\"#2a3f5f\",\"arrowhead\":0,\"arrowwidth\":1},\"geo\":{\"bgcolor\":\"white\",\"landcolor\":\"#E5ECF6\",\"subunitcolor\":\"white\",\"showland\":true,\"showlakes\":true,\"lakecolor\":\"white\"},\"title\":{\"x\":0.05},\"mapbox\":{\"style\":\"light\"}}}},                        {\"responsive\": true}                    ).then(function(){\n",
              "                            \n",
              "var gd = document.getElementById('b526c282-4668-4af3-9870-c3bf3fc7c6c0');\n",
              "var x = new MutationObserver(function (mutations, observer) {{\n",
              "        var display = window.getComputedStyle(gd).display;\n",
              "        if (!display || display === 'none') {{\n",
              "            console.log([gd, 'removed!']);\n",
              "            Plotly.purge(gd);\n",
              "            observer.disconnect();\n",
              "        }}\n",
              "}});\n",
              "\n",
              "// Listen for the removal of the full notebook cells\n",
              "var notebookContainer = gd.closest('#notebook-container');\n",
              "if (notebookContainer) {{\n",
              "    x.observe(notebookContainer, {childList: true});\n",
              "}}\n",
              "\n",
              "// Listen for the clearing of the current output cell\n",
              "var outputEl = gd.closest('.output');\n",
              "if (outputEl) {{\n",
              "    x.observe(outputEl, {childList: true});\n",
              "}}\n",
              "\n",
              "                        })                };                            </script>        </div>\n",
              "</body>\n",
              "</html>"
            ]
          },
          "metadata": {}
        }
      ]
    },
    {
      "cell_type": "code",
      "source": [
        "def calculate_profit_loss(data, marubozu_df):\n",
        "\n",
        "    time_series = data.get(\"Time Series (Daily)\", {})\n",
        "    df = pd.DataFrame.from_dict(time_series, orient='index')\n",
        "    df = df[['1. open', '2. high', '3. low', '4. close', '5. volume']].astype(float)\n",
        "    df.columns = ['Open', 'High', 'Low', 'Close', 'Volume']\n",
        "\n",
        "\n",
        "    df.index = pd.to_datetime(df.index)\n",
        "    bullish_dates = pd.to_datetime(marubozu_df[marubozu_df['type'] == 'bullish']['date'])\n",
        "    bullish_dates = bullish_dates[bullish_dates.isin(df.index)]\n",
        "    total_profit_loss = 0\n",
        "    trades = []\n",
        "\n",
        "    for date in bullish_dates:\n",
        "        try:\n",
        "\n",
        "            buy_price = df.loc[date]['Close']\n",
        "            next_trading_day = pd.bdate_range(date, periods=2)[1]\n",
        "\n",
        "            if next_trading_day in df.index:\n",
        "\n",
        "                sell_price = df.loc[next_trading_day]['Open']\n",
        "\n",
        "\n",
        "                profit_loss = sell_price - buy_price\n",
        "                total_profit_loss += profit_loss\n",
        "\n",
        "\n",
        "                trades.append({\n",
        "                    'buy_date': date,\n",
        "                    'buy_price': buy_price,\n",
        "                    'sell_date': next_trading_day,\n",
        "                    'sell_price': sell_price,\n",
        "                    'profit_loss': profit_loss\n",
        "                })\n",
        "        except KeyError:\n",
        "\n",
        "            continue\n",
        "\n",
        "    return total_profit_loss, trades"
      ],
      "metadata": {
        "id": "WLLGPKFszAL0"
      },
      "execution_count": null,
      "outputs": []
    },
    {
      "cell_type": "code",
      "source": [
        "total_profit_loss, trades = calculate_profit_loss(data, marubozu_df)\n",
        "\n",
        "print(f\"Total Profit/Loss: {total_profit_loss}\")\n",
        "for trade in trades:\n",
        "    print(f\"Buy on {trade['buy_date']} at {trade['buy_price']}, Sell on {trade['sell_date']} at {trade['sell_price']}, Profit/Loss: {trade['profit_loss']}\")"
      ],
      "metadata": {
        "colab": {
          "base_uri": "https://localhost:8080/"
        },
        "id": "Y351-W7nzsMF",
        "outputId": "53789558-44b3-4da0-c39a-4721a3333f50"
      },
      "execution_count": null,
      "outputs": [
        {
          "output_type": "stream",
          "name": "stdout",
          "text": [
            "Total Profit/Loss: 29.500000000000227\n",
            "Buy on 2025-03-24 00:00:00 at 1301.35, Sell on 2025-03-25 00:00:00 at 1307.0, Profit/Loss: 5.650000000000091\n",
            "Buy on 2025-03-20 00:00:00 at 1268.55, Sell on 2025-03-21 00:00:00 at 1270.05, Profit/Loss: 1.5\n",
            "Buy on 2025-03-07 00:00:00 at 1249.1, Sell on 2025-03-10 00:00:00 at 1249.1, Profit/Loss: 0.0\n",
            "Buy on 2025-02-04 00:00:00 at 1286.0, Sell on 2025-02-05 00:00:00 at 1284.95, Profit/Loss: -1.0499999999999545\n",
            "Buy on 2025-01-30 00:00:00 at 1253.6, Sell on 2025-01-31 00:00:00 at 1257.4, Profit/Loss: 3.800000000000182\n",
            "Buy on 2025-01-08 00:00:00 at 1264.7, Sell on 2025-01-09 00:00:00 at 1267.9, Profit/Loss: 3.2000000000000455\n",
            "Buy on 2025-01-07 00:00:00 at 1240.9, Sell on 2025-01-08 00:00:00 at 1251.2, Profit/Loss: 10.299999999999955\n",
            "Buy on 2025-01-02 00:00:00 at 1241.65, Sell on 2025-01-03 00:00:00 at 1247.75, Profit/Loss: 6.099999999999909\n"
          ]
        }
      ]
    }
  ]
}